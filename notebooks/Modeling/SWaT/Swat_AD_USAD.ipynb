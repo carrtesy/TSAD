{
 "cells": [
  {
   "cell_type": "markdown",
   "source": [
    "# SWaT Anomaly Detection with USAD\n",
    "\n",
    "by dongmin kim (tommy.dm.kim@gmail.com)"
   ],
   "metadata": {
    "collapsed": false,
    "pycharm": {
     "name": "#%% md\n"
    }
   }
  },
  {
   "cell_type": "code",
   "execution_count": 1,
   "outputs": [],
   "source": [
    "import sys\n",
    "HOME = \"../../../\"\n",
    "sys.path.append(HOME) # repo home"
   ],
   "metadata": {
    "collapsed": false,
    "pycharm": {
     "name": "#%%\n"
    }
   }
  },
  {
   "cell_type": "code",
   "execution_count": 2,
   "outputs": [],
   "source": [
    "from exp_helpers.utils import SEED_everything\n",
    "SEED_everything(42)"
   ],
   "metadata": {
    "collapsed": false,
    "pycharm": {
     "name": "#%%\n"
    }
   }
  },
  {
   "cell_type": "code",
   "execution_count": 3,
   "metadata": {
    "collapsed": true
   },
   "outputs": [],
   "source": [
    "import pandas as pd\n",
    "import os\n",
    "import pickle\n",
    "import matplotlib.pyplot as plt\n",
    "from tqdm.notebook import tqdm\n",
    "import torch\n",
    "from torch import nn\n",
    "from torch.nn import functional as F\n",
    "from torch.utils.data import DataLoader, Dataset\n",
    "import numpy as np\n",
    "import easydict"
   ]
  },
  {
   "cell_type": "markdown",
   "source": [
    "## Configure settings"
   ],
   "metadata": {
    "collapsed": false
   }
  },
  {
   "cell_type": "code",
   "execution_count": 4,
   "outputs": [],
   "source": [
    "args = easydict.EasyDict({\n",
    "    # general\n",
    "    \"dataset\": \"SWaT\",\n",
    "    \"batch_size\": 64,\n",
    "    \"lr\": 1e-03,\n",
    "    \"window_size\": 100,\n",
    "    \"epochs\": 30,\n",
    "    \"use_tqdm\": True,\n",
    "    \"tqdmopt\": \"notebook\",\n",
    "    \"load_pretrained\": False,\n",
    "\n",
    "    # model-specific (USAD)\n",
    "    \"model\": \"USAD\",\n",
    "    \"latent_dim\": 128,\n",
    "\n",
    "    # others\n",
    "    \"device\": torch.device('cuda') if torch.cuda.is_available() else torch.device('cpu'),\n",
    "})"
   ],
   "metadata": {
    "collapsed": false,
    "pycharm": {
     "name": "#%%\n"
    }
   }
  },
  {
   "cell_type": "code",
   "execution_count": 5,
   "outputs": [],
   "source": [
    "config = \"\"\n",
    "config += f\"_dataset_{args.dataset}\" \\\n",
    "          f\"_batch_size_{args.batch_size}\" \\\n",
    "          f\"_lr_{args.lr}\" \\\n",
    "          f\"_window_size_{args.window_size}\" \\\n",
    "\n",
    "config += f\"_model_{args.model}\" \\\n",
    "          f\"_latent_dim_{args.latent_dim}\" \\\n",
    "\n",
    "args.config = config"
   ],
   "metadata": {
    "collapsed": false,
    "pycharm": {
     "name": "#%%\n"
    }
   }
  },
  {
   "cell_type": "code",
   "execution_count": 6,
   "outputs": [
    {
     "name": "stdout",
     "output_type": "stream",
     "text": [
      "../../../models/checkpoints/_dataset_SWaT_batch_size_64_lr_0.001_window_size_100_model_USAD_latent_dim_128/model.pt\n",
      "../../../results/USAD/_dataset_SWaT_batch_size_64_lr_0.001_window_size_100_model_USAD_latent_dim_128\n"
     ]
    }
   ],
   "source": [
    "# PATH to save model\n",
    "os.makedirs(os.path.join(HOME, \"models\", \"checkpoints\", f\"{args.config}\"), exist_ok=True)\n",
    "args.model_path = os.path.join(HOME, \"models\", \"checkpoints\", f\"{args.config}\", \"model.pt\")\n",
    "\n",
    "# PATH to save result figures\n",
    "os.makedirs(os.path.join(HOME, \"results\"), exist_ok=True)\n",
    "os.makedirs(os.path.join(HOME, \"results\", args.model), exist_ok=True)\n",
    "os.makedirs(os.path.join(HOME, \"results\", args.model, args.config), exist_ok=True)\n",
    "args.result_path = os.path.join(HOME, \"results\", args.model, args.config)\n",
    "args.device = torch.device(\"cuda\" if torch.cuda.is_available() else \"cpu\")\n",
    "\n",
    "print(args.model_path)\n",
    "print(args.result_path)"
   ],
   "metadata": {
    "collapsed": false,
    "pycharm": {
     "name": "#%%\n"
    }
   }
  },
  {
   "cell_type": "markdown",
   "source": [
    "## Load data"
   ],
   "metadata": {
    "collapsed": false,
    "pycharm": {
     "name": "#%% md\n"
    }
   }
  },
  {
   "cell_type": "code",
   "execution_count": 7,
   "outputs": [
    {
     "name": "stdout",
     "output_type": "stream",
     "text": [
      "Reading SWaT...\n",
      "current location: /home/nas3_userJ/dmkim/TSAD/notebooks/Modeling/SWaT\n",
      "home dir: ../../../\n",
      "Loading complete.\n"
     ]
    }
   ],
   "source": [
    "from data.load_data import load_data\n",
    "from data.dataset import get_dataset\n",
    "\n",
    "train_x, train_y, test_x, test_y = load_data(args.dataset, HOME)\n",
    "\n",
    "train_dataset = get_dataset(train_x, train_y, window_size = args.window_size, dataset_type=args.dataset)\n",
    "test_dataset = get_dataset(test_x, test_y, window_size = args.window_size, dataset_type=args.dataset)\n",
    "\n",
    "train_loader = torch.utils.data.DataLoader(\n",
    "                 dataset=train_dataset,\n",
    "                 batch_size=args.batch_size,\n",
    "                 shuffle=True)\n",
    "test_loader = torch.utils.data.DataLoader(\n",
    "                dataset=test_dataset,\n",
    "                batch_size=args.batch_size,\n",
    "                shuffle=False)\n",
    "\n",
    "args.input_dim = train_x.shape[1]"
   ],
   "metadata": {
    "collapsed": false,
    "pycharm": {
     "name": "#%%\n"
    }
   }
  },
  {
   "cell_type": "markdown",
   "source": [
    "## Model"
   ],
   "metadata": {
    "collapsed": false,
    "pycharm": {
     "name": "#%% md\n"
    }
   }
  },
  {
   "cell_type": "code",
   "execution_count": 8,
   "outputs": [
    {
     "name": "stdout",
     "output_type": "stream",
     "text": [
      "setting model to cuda...\n"
     ]
    },
    {
     "data": {
      "text/plain": "USAD(\n  (encoder): Encoder(\n    (linear1): Linear(in_features=51, out_features=25, bias=True)\n    (relu1): ReLU()\n    (linear2): Linear(in_features=25, out_features=12, bias=True)\n    (relu2): ReLU()\n    (linear3): Linear(in_features=12, out_features=128, bias=True)\n    (relu3): ReLU()\n  )\n  (decoder1): Decoder(\n    (linear1): Linear(in_features=128, out_features=12, bias=True)\n    (relu1): ReLU()\n    (linear2): Linear(in_features=12, out_features=25, bias=True)\n    (relu2): ReLU()\n    (linear3): Linear(in_features=25, out_features=51, bias=True)\n    (sigmoid): Sigmoid()\n  )\n  (decoder2): Decoder(\n    (linear1): Linear(in_features=128, out_features=12, bias=True)\n    (relu1): ReLU()\n    (linear2): Linear(in_features=12, out_features=25, bias=True)\n    (relu2): ReLU()\n    (linear3): Linear(in_features=25, out_features=51, bias=True)\n    (sigmoid): Sigmoid()\n  )\n)"
     },
     "execution_count": 8,
     "metadata": {},
     "output_type": "execute_result"
    }
   ],
   "source": [
    "from models.utils import prepare_model, prepare_loss_fn\n",
    "print(f\"setting model to {args.device}...\")\n",
    "model = prepare_model(args)\n",
    "model.to(args.device)"
   ],
   "metadata": {
    "collapsed": false,
    "pycharm": {
     "name": "#%%\n"
    }
   }
  },
  {
   "cell_type": "code",
   "execution_count": 9,
   "outputs": [
    {
     "name": "stdout",
     "output_type": "stream",
     "text": [
      "start training...\n",
      "{'dataset': 'SWaT', 'batch_size': 64, 'lr': 0.001, 'window_size': 100, 'epochs': 30, 'use_tqdm': True, 'tqdmopt': 'notebook', 'load_pretrained': False, 'model': 'USAD', 'latent_dim': 128, 'device': device(type='cuda'), 'config': '_dataset_SWaT_batch_size_64_lr_0.001_window_size_100_model_USAD_latent_dim_128', 'model_path': '../../../models/checkpoints/_dataset_SWaT_batch_size_64_lr_0.001_window_size_100_model_USAD_latent_dim_128/model.pt', 'result_path': '../../../results/USAD/_dataset_SWaT_batch_size_64_lr_0.001_window_size_100_model_USAD_latent_dim_128', 'input_dim': 51}\n"
     ]
    },
    {
     "data": {
      "text/plain": "  0%|          | 0/30 [00:00<?, ?it/s]",
      "application/vnd.jupyter.widget-view+json": {
       "version_major": 2,
       "version_minor": 0,
       "model_id": "76d9a75e4c7a41e892859eddef57cabe"
      }
     },
     "metadata": {},
     "output_type": "display_data"
    },
    {
     "data": {
      "text/plain": "training:   0%|          | 0/7761 [00:00<?, ?it/s]",
      "application/vnd.jupyter.widget-view+json": {
       "version_major": 2,
       "version_minor": 0,
       "model_id": "4dcb5fd9c7204abfa945f3620e9678b2"
      }
     },
     "metadata": {},
     "output_type": "display_data"
    },
    {
     "data": {
      "text/plain": "training:   0%|          | 0/7761 [00:00<?, ?it/s]",
      "application/vnd.jupyter.widget-view+json": {
       "version_major": 2,
       "version_minor": 0,
       "model_id": "2fd9555f979c44e2b53d903ff786e078"
      }
     },
     "metadata": {},
     "output_type": "display_data"
    },
    {
     "data": {
      "text/plain": "training:   0%|          | 0/7761 [00:00<?, ?it/s]",
      "application/vnd.jupyter.widget-view+json": {
       "version_major": 2,
       "version_minor": 0,
       "model_id": "a6da3e8b8c34493f90fed15358b729ca"
      }
     },
     "metadata": {},
     "output_type": "display_data"
    },
    {
     "data": {
      "text/plain": "training:   0%|          | 0/7761 [00:00<?, ?it/s]",
      "application/vnd.jupyter.widget-view+json": {
       "version_major": 2,
       "version_minor": 0,
       "model_id": "abf9443173d2425b84a01a94d99f52f2"
      }
     },
     "metadata": {},
     "output_type": "display_data"
    },
    {
     "data": {
      "text/plain": "training:   0%|          | 0/7761 [00:00<?, ?it/s]",
      "application/vnd.jupyter.widget-view+json": {
       "version_major": 2,
       "version_minor": 0,
       "model_id": "67eeecdb49ca4d04b1b8bc0301a18417"
      }
     },
     "metadata": {},
     "output_type": "display_data"
    },
    {
     "data": {
      "text/plain": "training:   0%|          | 0/7761 [00:00<?, ?it/s]",
      "application/vnd.jupyter.widget-view+json": {
       "version_major": 2,
       "version_minor": 0,
       "model_id": "5dd28638b6bc412f937eaf59e1c8a431"
      }
     },
     "metadata": {},
     "output_type": "display_data"
    },
    {
     "data": {
      "text/plain": "training:   0%|          | 0/7761 [00:00<?, ?it/s]",
      "application/vnd.jupyter.widget-view+json": {
       "version_major": 2,
       "version_minor": 0,
       "model_id": "467dc1a1f9004b79b83099350bc9e9e5"
      }
     },
     "metadata": {},
     "output_type": "display_data"
    },
    {
     "data": {
      "text/plain": "training:   0%|          | 0/7761 [00:00<?, ?it/s]",
      "application/vnd.jupyter.widget-view+json": {
       "version_major": 2,
       "version_minor": 0,
       "model_id": "88189bfb6e3441bb906ec216ec4e06a9"
      }
     },
     "metadata": {},
     "output_type": "display_data"
    },
    {
     "data": {
      "text/plain": "training:   0%|          | 0/7761 [00:00<?, ?it/s]",
      "application/vnd.jupyter.widget-view+json": {
       "version_major": 2,
       "version_minor": 0,
       "model_id": "8304bbc142dd4d6b8fd1cc85144c5426"
      }
     },
     "metadata": {},
     "output_type": "display_data"
    },
    {
     "data": {
      "text/plain": "training:   0%|          | 0/7761 [00:00<?, ?it/s]",
      "application/vnd.jupyter.widget-view+json": {
       "version_major": 2,
       "version_minor": 0,
       "model_id": "0b8dbdb8e32244be9ad6e9f051cde92c"
      }
     },
     "metadata": {},
     "output_type": "display_data"
    },
    {
     "data": {
      "text/plain": "training:   0%|          | 0/7761 [00:00<?, ?it/s]",
      "application/vnd.jupyter.widget-view+json": {
       "version_major": 2,
       "version_minor": 0,
       "model_id": "8773f7bae8bf4b0db499cd9b0ae01741"
      }
     },
     "metadata": {},
     "output_type": "display_data"
    },
    {
     "data": {
      "text/plain": "training:   0%|          | 0/7761 [00:00<?, ?it/s]",
      "application/vnd.jupyter.widget-view+json": {
       "version_major": 2,
       "version_minor": 0,
       "model_id": "e4e67cde7b6c4a17af90890005b6ea61"
      }
     },
     "metadata": {},
     "output_type": "display_data"
    },
    {
     "data": {
      "text/plain": "training:   0%|          | 0/7761 [00:00<?, ?it/s]",
      "application/vnd.jupyter.widget-view+json": {
       "version_major": 2,
       "version_minor": 0,
       "model_id": "4f49181e924246fa9fa7fb64f9e0615f"
      }
     },
     "metadata": {},
     "output_type": "display_data"
    },
    {
     "data": {
      "text/plain": "training:   0%|          | 0/7761 [00:00<?, ?it/s]",
      "application/vnd.jupyter.widget-view+json": {
       "version_major": 2,
       "version_minor": 0,
       "model_id": "0a58539beeb74595b222e2fc259678ce"
      }
     },
     "metadata": {},
     "output_type": "display_data"
    },
    {
     "data": {
      "text/plain": "training:   0%|          | 0/7761 [00:00<?, ?it/s]",
      "application/vnd.jupyter.widget-view+json": {
       "version_major": 2,
       "version_minor": 0,
       "model_id": "b16b9e0a163a4c13b6d09114e4f597fe"
      }
     },
     "metadata": {},
     "output_type": "display_data"
    },
    {
     "data": {
      "text/plain": "training:   0%|          | 0/7761 [00:00<?, ?it/s]",
      "application/vnd.jupyter.widget-view+json": {
       "version_major": 2,
       "version_minor": 0,
       "model_id": "ac0e0a0ffcaf418195dbdc75321b80e3"
      }
     },
     "metadata": {},
     "output_type": "display_data"
    },
    {
     "data": {
      "text/plain": "training:   0%|          | 0/7761 [00:00<?, ?it/s]",
      "application/vnd.jupyter.widget-view+json": {
       "version_major": 2,
       "version_minor": 0,
       "model_id": "2d1fc2031d7d41218fe95e99bb34fcef"
      }
     },
     "metadata": {},
     "output_type": "display_data"
    },
    {
     "data": {
      "text/plain": "training:   0%|          | 0/7761 [00:00<?, ?it/s]",
      "application/vnd.jupyter.widget-view+json": {
       "version_major": 2,
       "version_minor": 0,
       "model_id": "6929d9fabf434ae4818e9f4a5097fe63"
      }
     },
     "metadata": {},
     "output_type": "display_data"
    },
    {
     "data": {
      "text/plain": "training:   0%|          | 0/7761 [00:00<?, ?it/s]",
      "application/vnd.jupyter.widget-view+json": {
       "version_major": 2,
       "version_minor": 0,
       "model_id": "ec3fca4b381d4a59860b92655cb0823f"
      }
     },
     "metadata": {},
     "output_type": "display_data"
    },
    {
     "data": {
      "text/plain": "training:   0%|          | 0/7761 [00:00<?, ?it/s]",
      "application/vnd.jupyter.widget-view+json": {
       "version_major": 2,
       "version_minor": 0,
       "model_id": "4f6b030e05bb452ebf58664909038b8e"
      }
     },
     "metadata": {},
     "output_type": "display_data"
    },
    {
     "data": {
      "text/plain": "training:   0%|          | 0/7761 [00:00<?, ?it/s]",
      "application/vnd.jupyter.widget-view+json": {
       "version_major": 2,
       "version_minor": 0,
       "model_id": "c042f941db7347c79d9dcc9c062b2c4d"
      }
     },
     "metadata": {},
     "output_type": "display_data"
    },
    {
     "data": {
      "text/plain": "training:   0%|          | 0/7761 [00:00<?, ?it/s]",
      "application/vnd.jupyter.widget-view+json": {
       "version_major": 2,
       "version_minor": 0,
       "model_id": "70f45b3f02a64420bb440a83fac47e0b"
      }
     },
     "metadata": {},
     "output_type": "display_data"
    },
    {
     "data": {
      "text/plain": "training:   0%|          | 0/7761 [00:00<?, ?it/s]",
      "application/vnd.jupyter.widget-view+json": {
       "version_major": 2,
       "version_minor": 0,
       "model_id": "5485fa35c86245c1a40f4216227b30c0"
      }
     },
     "metadata": {},
     "output_type": "display_data"
    },
    {
     "data": {
      "text/plain": "training:   0%|          | 0/7761 [00:00<?, ?it/s]",
      "application/vnd.jupyter.widget-view+json": {
       "version_major": 2,
       "version_minor": 0,
       "model_id": "1bb0137d1c7b415f874155a1edf4ccad"
      }
     },
     "metadata": {},
     "output_type": "display_data"
    },
    {
     "data": {
      "text/plain": "training:   0%|          | 0/7761 [00:00<?, ?it/s]",
      "application/vnd.jupyter.widget-view+json": {
       "version_major": 2,
       "version_minor": 0,
       "model_id": "7617edd5bab3459892c08ffc1c403c7c"
      }
     },
     "metadata": {},
     "output_type": "display_data"
    },
    {
     "data": {
      "text/plain": "training:   0%|          | 0/7761 [00:00<?, ?it/s]",
      "application/vnd.jupyter.widget-view+json": {
       "version_major": 2,
       "version_minor": 0,
       "model_id": "5080fedeaf1044059404470779caab56"
      }
     },
     "metadata": {},
     "output_type": "display_data"
    },
    {
     "data": {
      "text/plain": "training:   0%|          | 0/7761 [00:00<?, ?it/s]",
      "application/vnd.jupyter.widget-view+json": {
       "version_major": 2,
       "version_minor": 0,
       "model_id": "7a0e46a7a5aa4eea9a597cde7f3f7ed4"
      }
     },
     "metadata": {},
     "output_type": "display_data"
    },
    {
     "data": {
      "text/plain": "training:   0%|          | 0/7761 [00:00<?, ?it/s]",
      "application/vnd.jupyter.widget-view+json": {
       "version_major": 2,
       "version_minor": 0,
       "model_id": "859c77b972994afe979d3dc5f00110bd"
      }
     },
     "metadata": {},
     "output_type": "display_data"
    },
    {
     "data": {
      "text/plain": "training:   0%|          | 0/7761 [00:00<?, ?it/s]",
      "application/vnd.jupyter.widget-view+json": {
       "version_major": 2,
       "version_minor": 0,
       "model_id": "4da33327f5ea421b902cf30c6395cf1b"
      }
     },
     "metadata": {},
     "output_type": "display_data"
    },
    {
     "data": {
      "text/plain": "training:   0%|          | 0/7761 [00:00<?, ?it/s]",
      "application/vnd.jupyter.widget-view+json": {
       "version_major": 2,
       "version_minor": 0,
       "model_id": "828e3e49ca3d43fbb0b546a92ea59e43"
      }
     },
     "metadata": {},
     "output_type": "display_data"
    }
   ],
   "source": [
    "from exp_helpers.exp_USAD import USAD_Trainer\n",
    "\n",
    "if args.load_pretrained is True:\n",
    "    print(f\"loading pretrained model at {args.model_path}...\")\n",
    "    best_model = model\n",
    "    best_model.load_state_dict(torch.load(args.model_path))\n",
    "    best_model.to(args.device)\n",
    "    print(\"done\")\n",
    "else:\n",
    "    print(\"start training...\")\n",
    "    optimizer = torch.optim.Adam(params=model.parameters(), lr = args.lr)\n",
    "    loss_fn = prepare_loss_fn(args)\n",
    "\n",
    "    trainer = USAD_Trainer(\n",
    "        args=args,\n",
    "        model=model,\n",
    "        train_loader=train_loader,\n",
    "        loss_fn=loss_fn,\n",
    "        optimizer=optimizer,\n",
    "    )\n",
    "\n",
    "    best_model = trainer.train()"
   ],
   "metadata": {
    "collapsed": false,
    "pycharm": {
     "name": "#%%\n"
    }
   }
  },
  {
   "cell_type": "code",
   "execution_count": 10,
   "outputs": [
    {
     "data": {
      "text/plain": "train iterator:   0%|          | 0/7761 [00:00<?, ?it/s]",
      "application/vnd.jupyter.widget-view+json": {
       "version_major": 2,
       "version_minor": 0,
       "model_id": "416e0681b0af4e5bb10a97ae5a8b47f5"
      }
     },
     "metadata": {},
     "output_type": "display_data"
    },
    {
     "data": {
      "text/plain": "test iterator:   0%|          | 0/7029 [00:00<?, ?it/s]",
      "application/vnd.jupyter.widget-view+json": {
       "version_major": 2,
       "version_minor": 0,
       "model_id": "01ead28e022d4025bc2ca71cdc680458"
      }
     },
     "metadata": {},
     "output_type": "display_data"
    }
   ],
   "source": [
    "from exp_helpers.exp_USAD import USAD_Tester\n",
    "\n",
    "tester = USAD_Tester(\n",
    "    args = args,\n",
    "    model = best_model,\n",
    "    train_loader = train_loader,\n",
    "    test_loader = test_loader,\n",
    ")"
   ],
   "metadata": {
    "collapsed": false,
    "pycharm": {
     "name": "#%%\n"
    }
   }
  },
  {
   "cell_type": "code",
   "execution_count": 11,
   "outputs": [],
   "source": [
    "from data.load_data import load_anomaly_intervals"
   ],
   "metadata": {
    "collapsed": false,
    "pycharm": {
     "name": "#%%\n"
    }
   }
  },
  {
   "cell_type": "code",
   "execution_count": 12,
   "outputs": [
    {
     "name": "stderr",
     "output_type": "stream",
     "text": [
      "/home/nas3_userJ/dmkim/anaconda3/envs/TSAD/lib/python3.9/site-packages/torch/nn/_reduction.py:42: UserWarning: size_average and reduce args will be deprecated, please use reduction='none' instead.\n",
      "  warnings.warn(warning.format(ret))\n"
     ]
    },
    {
     "name": "stdout",
     "output_type": "stream",
     "text": [
      "=== Anomaly statistics ===\n",
      "Total: 449820\n",
      "mean[0.03884221240878105], median[0.03342754393815994], min[0.016942348331212997], max[0.21271397173404694]\n"
     ]
    }
   ],
   "source": [
    "anomaly_scores = tester.get_anomaly_score()"
   ],
   "metadata": {
    "collapsed": false,
    "pycharm": {
     "name": "#%%\n"
    }
   }
  },
  {
   "cell_type": "code",
   "execution_count": 13,
   "outputs": [],
   "source": [
    "intervals = load_anomaly_intervals(anomaly_labels = test_y, window_size = args.window_size)"
   ],
   "metadata": {
    "collapsed": false,
    "pycharm": {
     "name": "#%%\n"
    }
   }
  },
  {
   "cell_type": "code",
   "execution_count": 14,
   "outputs": [
    {
     "name": "stdout",
     "output_type": "stream",
     "text": [
      "finding best threshold...\n",
      "done.\n",
      "plotting metrics...\n"
     ]
    },
    {
     "data": {
      "text/plain": "<Figure size 432x288 with 1 Axes>",
      "image/png": "[encoded data removed]"
     },
     "metadata": {
      "needs_background": "light"
     },
     "output_type": "display_data"
    },
    {
     "name": "stdout",
     "output_type": "stream",
     "text": [
      "plotting anomaly scores with thresholds...\n"
     ]
    },
    {
     "data": {
      "text/plain": "<Figure size 1152x432 with 1 Axes>",
      "image/png": "[encoded data removed]"
     },
     "metadata": {
      "needs_background": "light"
     },
     "output_type": "display_data"
    },
    {
     "name": "stdout",
     "output_type": "stream",
     "text": [
      "plotting final statistics...\n",
      "best threshold: 0.06835711811377546\n",
      "accuracy: 0.9373593881997243 precision 0.8397972051367836 recall 0.5978308661878939 f1 0.698451429244122\n"
     ]
    },
    {
     "data": {
      "text/plain": "<Figure size 432x288 with 2 Axes>",
      "image/png": "[encoded data removed]"
     },
     "metadata": {
      "needs_background": "light"
     },
     "output_type": "display_data"
    }
   ],
   "source": [
    "best_threshold = tester.regular_thresholding(test_y, anomaly_scores, intervals, num_candidates = 100)"
   ],
   "metadata": {
    "collapsed": false,
    "pycharm": {
     "name": "#%%\n"
    }
   }
  },
  {
   "cell_type": "code",
   "execution_count": 14,
   "outputs": [],
   "source": [],
   "metadata": {
    "collapsed": false,
    "pycharm": {
     "name": "#%%\n"
    }
   }
  }
 ],
 "metadata": {
  "kernelspec": {
   "display_name": "Python 3",
   "language": "python",
   "name": "python3"
  },
  "language_info": {
   "codemirror_mode": {
    "name": "ipython",
    "version": 2
   },
   "file_extension": ".py",
   "mimetype": "text/x-python",
   "name": "python",
   "nbconvert_exporter": "python",
   "pygments_lexer": "ipython2",
   "version": "2.7.6"
  }
 },
 "nbformat": 4,
 "nbformat_minor": 0
}