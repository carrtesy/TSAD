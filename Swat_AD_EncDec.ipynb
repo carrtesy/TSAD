{
 "cells": [
  {
   "cell_type": "code",
   "execution_count": 55,
   "metadata": {
    "collapsed": true
   },
   "outputs": [],
   "source": [
    "import pandas as pd\n",
    "import os\n",
    "import pickle\n",
    "import matplotlib.pyplot as plt\n",
    "from tqdm.notebook import tqdm\n",
    "import torch\n",
    "from torch import nn\n",
    "from torch.nn import functional as F\n",
    "from torch.utils.data import DataLoader, Dataset\n",
    "import numpy as np\n",
    "import easydict"
   ]
  },
  {
   "cell_type": "code",
   "execution_count": 56,
   "outputs": [],
   "source": [
    "def load_data(is_train=True):\n",
    "    if is_train:\n",
    "        sensor_path = './dataset/SWaT/SWaT_Dataset_Normal_v0.csv'\n",
    "        df = pd.read_csv(sensor_path, index_col=0)\n",
    "    else:\n",
    "        sensor_path = './dataset/SWaT/SWaT_Dataset_Attack_v0.csv'\n",
    "        df = pd.read_csv(sensor_path, index_col=0)\n",
    "\n",
    "    for var_index in [item for item in df.columns if item != 'Normal/Attack']:\n",
    "        df[var_index] = pd.to_numeric(df[var_index], errors='coerce')\n",
    "    df.reset_index(drop=True, inplace=True)\n",
    "    df.fillna(method='ffill', inplace=True)\n",
    "\n",
    "    print(df.head())\n",
    "    x = df.values[:,:-1].astype(np.float32)\n",
    "    y = (df['Normal/Attack']=='Attack').to_numpy().astype(int)\n",
    "\n",
    "    return x, y"
   ],
   "metadata": {
    "collapsed": false,
    "pycharm": {
     "name": "#%%\n"
    }
   }
  },
  {
   "cell_type": "code",
   "execution_count": 57,
   "outputs": [
    {
     "name": "stdout",
     "output_type": "stream",
     "text": [
      "     FIT101    LIT101  MV101  P101  P102    AIT201   AIT202   AIT203  \\\n",
      "0  2.470294  261.5804      2     2     1  244.3284  8.19008  306.101   \n",
      "1  2.457163  261.1879      2     2     1  244.3284  8.19008  306.101   \n",
      "2  2.439548  260.9131      2     2     1  244.3284  8.19008  306.101   \n",
      "3  2.428338  260.2850      2     2     1  244.3284  8.19008  306.101   \n",
      "4  2.424815  259.8925      2     2     1  244.4245  8.19008  306.101   \n",
      "\n",
      "     FIT201  MV201  ...  P501  P502    PIT501  PIT502    PIT503    FIT601  \\\n",
      "0  2.471278      2  ...     1     1  10.02948     0.0  4.277749  0.000256   \n",
      "1  2.468587      2  ...     1     1  10.02948     0.0  4.277749  0.000256   \n",
      "2  2.467305      2  ...     1     1  10.02948     0.0  4.277749  0.000256   \n",
      "3  2.466536      2  ...     1     1  10.02948     0.0  4.277749  0.000256   \n",
      "4  2.466536      2  ...     1     1  10.02948     0.0  4.277749  0.000256   \n",
      "\n",
      "   P601  P602  P603  Normal/Attack  \n",
      "0     1     1     1         Normal  \n",
      "1     1     1     1         Normal  \n",
      "2     1     1     1         Normal  \n",
      "3     1     1     1         Normal  \n",
      "4     1     1     1         Normal  \n",
      "\n",
      "[5 rows x 52 columns]\n",
      "     FIT101    LIT101   MV101  P101  P102    AIT201    AIT202    AIT203  \\\n",
      "0  2.427057  522.8467       2     2     1  262.0161  8.396437  328.6337   \n",
      "1  2.446274  522.8860       2     2     1  262.0161  8.396437  328.6337   \n",
      "2  2.489191  522.8467       2     2     1  262.0161  8.394514  328.6337   \n",
      "3  2.534350  522.9645       2     2     1  262.0161  8.394514  328.6337   \n",
      "4  2.569260  523.4748       2     2     1  262.0161  8.394514  328.6337   \n",
      "\n",
      "     FIT201   MV201  ...  P501  P502    PIT501    PIT502    PIT503    FIT601  \\\n",
      "0  2.445391       2  ...     2     1  250.8652  1.649953  189.5988  0.000128   \n",
      "1  2.445391       2  ...     2     1  250.8652  1.649953  189.6789  0.000128   \n",
      "2  2.442316       2  ...     2     1  250.8812  1.649953  189.6789  0.000128   \n",
      "3  2.442316       2  ...     2     1  250.8812  1.649953  189.6148  0.000128   \n",
      "4  2.443085       2  ...     2     1  250.8812  1.649953  189.5027  0.000128   \n",
      "\n",
      "   P601  P602  P603  Normal/Attack  \n",
      "0     1     1     1         Normal  \n",
      "1     1     1     1         Normal  \n",
      "2     1     1     1         Normal  \n",
      "3     1     1     1         Normal  \n",
      "4     1     1     1         Normal  \n",
      "\n",
      "[5 rows x 52 columns]\n"
     ]
    }
   ],
   "source": [
    "train_x, train_y = load_data(True)\n",
    "test_x, test_y = load_data(False)"
   ],
   "metadata": {
    "collapsed": false,
    "pycharm": {
     "name": "#%%\n"
    }
   }
  },
  {
   "cell_type": "code",
   "execution_count": 58,
   "outputs": [],
   "source": [
    "x_min = np.min(train_x, 0, keepdims=True)\n",
    "x_max = np.max(train_x, 0, keepdims=True)"
   ],
   "metadata": {
    "collapsed": false,
    "pycharm": {
     "name": "#%%\n"
    }
   }
  },
  {
   "cell_type": "code",
   "execution_count": 59,
   "outputs": [],
   "source": [
    "args = easydict.EasyDict({\n",
    "    \"batch_size\": 128,\n",
    "    \"device\": torch.device('cuda') if torch.cuda.is_available() else torch.device('cpu'),\n",
    "    \"input_size\": train_x.shape[1],\n",
    "    \"latent_size\": 10,\n",
    "    \"output_size\": train_x.shape[1],\n",
    "    \"window_size\" : 100,\n",
    "    \"num_layers\": 2,\n",
    "    \"learning_rate\" : 0.001,\n",
    "    \"max_iter\" : 100000,\n",
    "    'early_stop' : True,\n",
    "})"
   ],
   "metadata": {
    "collapsed": false,
    "pycharm": {
     "name": "#%%\n"
    }
   }
  },
  {
   "cell_type": "code",
   "execution_count": 60,
   "outputs": [],
   "source": [
    "class SWaTDataset(Dataset):\n",
    "    def __init__(self, x, y, x_min, x_max, window_size=1):\n",
    "        super().__init__()\n",
    "        t = (x_min != x_max).astype(np.float32)\n",
    "        self.x = (x - x_min) / (x_max-x_min + 1e-5) * t\n",
    "        self.y = y\n",
    "        self.window_size = window_size\n",
    "\n",
    "    def __len__(self):\n",
    "        return self.x.shape[0] - self.window_size + 1\n",
    "\n",
    "    def __getitem__(self, idx):\n",
    "        return self.x[idx:idx+self.window_size], self.y[idx:idx+self.window_size]"
   ],
   "metadata": {
    "collapsed": false,
    "pycharm": {
     "name": "#%%\n"
    }
   }
  },
  {
   "cell_type": "code",
   "execution_count": 61,
   "outputs": [],
   "source": [
    "train_dataset = SWaTDataset(train_x, train_y, x_min, x_max, window_size=args.window_size)\n",
    "test_dataset = SWaTDataset(test_x, test_y, x_min, x_max, window_size=args.window_size)\n",
    "\n",
    "train_loader = torch.utils.data.DataLoader(\n",
    "                 dataset=train_dataset,\n",
    "                 batch_size=args.batch_size,\n",
    "                 shuffle=True)\n",
    "test_loader = torch.utils.data.DataLoader(\n",
    "                dataset=test_dataset,\n",
    "                batch_size=args.batch_size,\n",
    "                shuffle=False)"
   ],
   "metadata": {
    "collapsed": false,
    "pycharm": {
     "name": "#%%\n"
    }
   }
  },
  {
   "cell_type": "code",
   "execution_count": 62,
   "outputs": [
    {
     "data": {
      "text/plain": "LSTMAutoEncoder(\n  (encoder): Encoder(\n    (lstm): LSTM(51, 10, num_layers=2, batch_first=True, dropout=0.1)\n  )\n  (reconstruct_decoder): Decoder(\n    (lstm): LSTM(51, 10, num_layers=2, batch_first=True, dropout=0.1)\n    (relu): ReLU()\n    (fc): Linear(in_features=10, out_features=51, bias=True)\n  )\n)"
     },
     "execution_count": 62,
     "metadata": {},
     "output_type": "execute_result"
    }
   ],
   "source": [
    "from LSTM_ENC_DEC_AD.model import LSTMAutoEncoder\n",
    "\n",
    "model = LSTMAutoEncoder(\n",
    "    input_dim=args.input_size,\n",
    "    latent_dim=args.latent_size,\n",
    "    window_size=args.window_size,\n",
    "    num_layers=args.num_layers\n",
    ")\n",
    "model.to(args.device)"
   ],
   "metadata": {
    "collapsed": false,
    "pycharm": {
     "name": "#%%\n"
    }
   }
  },
  {
   "cell_type": "code",
   "execution_count": 63,
   "outputs": [],
   "source": [
    "def loss_function(x, pred_x):\n",
    "    loss = F.mse_loss(x, pred_x)\n",
    "    return loss"
   ],
   "metadata": {
    "collapsed": false,
    "pycharm": {
     "name": "#%%\n"
    }
   }
  },
  {
   "cell_type": "code",
   "execution_count": 64,
   "outputs": [],
   "source": [
    "optimizer = torch.optim.Adam(model.parameters(), lr=args.learning_rate)"
   ],
   "metadata": {
    "collapsed": false,
    "pycharm": {
     "name": "#%%\n"
    }
   }
  },
  {
   "cell_type": "code",
   "execution_count": 65,
   "outputs": [
    {
     "data": {
      "text/plain": "  0%|          | 0/26 [00:00<?, ?it/s]",
      "application/vnd.jupyter.widget-view+json": {
       "version_major": 2,
       "version_minor": 0,
       "model_id": "7504c805ea3e44b89a04f263d0d06db0"
      }
     },
     "metadata": {},
     "output_type": "display_data"
    },
    {
     "data": {
      "text/plain": "training:   0%|          | 0/3881 [00:00<?, ?it/s]",
      "application/vnd.jupyter.widget-view+json": {
       "version_major": 2,
       "version_minor": 0,
       "model_id": "16c8f63d7006426f849f5a5a7ce5df65"
      }
     },
     "metadata": {},
     "output_type": "display_data"
    },
    {
     "data": {
      "text/plain": "testing:   0%|          | 0/3515 [00:00<?, ?it/s]",
      "application/vnd.jupyter.widget-view+json": {
       "version_major": 2,
       "version_minor": 0,
       "model_id": "93fc2c32b6be435fbcf994b8f855265b"
      }
     },
     "metadata": {},
     "output_type": "display_data"
    },
    {
     "data": {
      "text/plain": "training:   0%|          | 0/3881 [00:00<?, ?it/s]",
      "application/vnd.jupyter.widget-view+json": {
       "version_major": 2,
       "version_minor": 0,
       "model_id": "85fb57b809d34011ad0e183c5dac5f52"
      }
     },
     "metadata": {},
     "output_type": "display_data"
    },
    {
     "data": {
      "text/plain": "testing:   0%|          | 0/3515 [00:00<?, ?it/s]",
      "application/vnd.jupyter.widget-view+json": {
       "version_major": 2,
       "version_minor": 0,
       "model_id": "332a9347b54a4b4d968ab1573672f1c0"
      }
     },
     "metadata": {},
     "output_type": "display_data"
    },
    {
     "data": {
      "text/plain": "training:   0%|          | 0/3881 [00:00<?, ?it/s]",
      "application/vnd.jupyter.widget-view+json": {
       "version_major": 2,
       "version_minor": 0,
       "model_id": "1df910af324f44d09502d50330b98dcd"
      }
     },
     "metadata": {},
     "output_type": "display_data"
    },
    {
     "data": {
      "text/plain": "testing:   0%|          | 0/3515 [00:00<?, ?it/s]",
      "application/vnd.jupyter.widget-view+json": {
       "version_major": 2,
       "version_minor": 0,
       "model_id": "fb69215baebc4678aad6d8fb48d7ab32"
      }
     },
     "metadata": {},
     "output_type": "display_data"
    },
    {
     "data": {
      "text/plain": "training:   0%|          | 0/3881 [00:00<?, ?it/s]",
      "application/vnd.jupyter.widget-view+json": {
       "version_major": 2,
       "version_minor": 0,
       "model_id": "1dbe7cb7484849c7b139c55b08366666"
      }
     },
     "metadata": {},
     "output_type": "display_data"
    },
    {
     "data": {
      "text/plain": "testing:   0%|          | 0/3515 [00:00<?, ?it/s]",
      "application/vnd.jupyter.widget-view+json": {
       "version_major": 2,
       "version_minor": 0,
       "model_id": "233ee895ab86409d948a80643840f0c8"
      }
     },
     "metadata": {},
     "output_type": "display_data"
    },
    {
     "data": {
      "text/plain": "training:   0%|          | 0/3881 [00:00<?, ?it/s]",
      "application/vnd.jupyter.widget-view+json": {
       "version_major": 2,
       "version_minor": 0,
       "model_id": "3186ecc9f23b4182a7137162634d3bde"
      }
     },
     "metadata": {},
     "output_type": "display_data"
    },
    {
     "data": {
      "text/plain": "testing:   0%|          | 0/3515 [00:00<?, ?it/s]",
      "application/vnd.jupyter.widget-view+json": {
       "version_major": 2,
       "version_minor": 0,
       "model_id": "ab35a1f8a78149a8a8aa4ec3b825d035"
      }
     },
     "metadata": {},
     "output_type": "display_data"
    },
    {
     "name": "stdout",
     "output_type": "stream",
     "text": [
      "early stop condition   best_loss[0.10057650050150024]  eval_loss[0.10729416287605151]\n"
     ]
    }
   ],
   "source": [
    "## Training\n",
    "best_loss = None\n",
    "epochs = tqdm(range(args.max_iter//len(train_loader)+1), leave=True)\n",
    "for epoch in epochs:\n",
    "    model.train()\n",
    "    optimizer.zero_grad()\n",
    "    train_iterator = tqdm(enumerate(train_loader), total=len(train_loader), desc=\"training\", leave=True)\n",
    "\n",
    "    train_loss = 0.0\n",
    "    for i, batch_data in train_iterator:\n",
    "        batch_data = batch_data[0].to(args.device)\n",
    "        predict_values = model(batch_data)\n",
    "\n",
    "        optimizer.zero_grad()\n",
    "        loss = loss_function(batch_data, predict_values)\n",
    "        loss.backward()\n",
    "        optimizer.step()\n",
    "\n",
    "        train_loss += loss.item()\n",
    "        train_iterator.set_postfix({\n",
    "            \"train_loss\": float(loss),\n",
    "        })\n",
    "\n",
    "    train_loss = train_loss / len(train_loader)\n",
    "    epochs.set_postfix({\n",
    "         \"Train Loss\": train_loss,\n",
    "    })\n",
    "\n",
    "    model.eval()\n",
    "    eval_loss = 0\n",
    "    test_iterator = tqdm(enumerate(test_loader), total=len(test_loader), desc=\"testing\", leave=True)\n",
    "    with torch.no_grad():\n",
    "        for i, batch_data in test_iterator:\n",
    "\n",
    "            batch_data = batch_data[0].to(args.device)\n",
    "            predict_values = model(batch_data)\n",
    "            loss = loss_function(batch_data, predict_values)\n",
    "\n",
    "            eval_loss += loss.mean().item()\n",
    "\n",
    "            test_iterator.set_postfix({\n",
    "                \"eval_loss\": float(loss),\n",
    "            })\n",
    "\n",
    "    eval_loss = eval_loss / len(test_loader)\n",
    "    epochs.set_postfix({\n",
    "         \"Evaluation Score\": float(eval_loss),\n",
    "    })\n",
    "    if best_loss is None or eval_loss < best_loss:\n",
    "        best_loss = eval_loss\n",
    "    else:\n",
    "        if args.early_stop:\n",
    "            print('early stop condition   best_loss[{}]  eval_loss[{}]'.format(best_loss, eval_loss))\n",
    "            break\n"
   ],
   "metadata": {
    "collapsed": false,
    "pycharm": {
     "name": "#%%\n"
    }
   }
  },
  {
   "cell_type": "code",
   "execution_count": 66,
   "outputs": [],
   "source": [
    "def get_loss_list(args, model, test_loader):\n",
    "    test_iterator = tqdm(enumerate(test_loader), total=len(test_loader), desc=\"testing\")\n",
    "    loss_list = []\n",
    "\n",
    "    model.eval()\n",
    "    with torch.no_grad():\n",
    "        for i, batch_data in test_iterator:\n",
    "            batch_data = batch_data[0].to(args.device)\n",
    "            predict_values = model(batch_data)\n",
    "\n",
    "            loss = F.l1_loss(batch_data, predict_values, reduce=False)\n",
    "            loss = loss.mean(dim=1).cpu().numpy()\n",
    "            loss_list.append(loss)\n",
    "\n",
    "    loss_list = np.concatenate(loss_list, axis=0)\n",
    "    return loss_list"
   ],
   "metadata": {
    "collapsed": false,
    "pycharm": {
     "name": "#%%\n"
    }
   }
  },
  {
   "cell_type": "code",
   "execution_count": 67,
   "outputs": [
    {
     "data": {
      "text/plain": "testing:   0%|          | 0/3881 [00:00<?, ?it/s]",
      "application/vnd.jupyter.widget-view+json": {
       "version_major": 2,
       "version_minor": 0,
       "model_id": "0aabbe772876483c9f9d953c80ac0bc4"
      }
     },
     "metadata": {},
     "output_type": "display_data"
    },
    {
     "name": "stderr",
     "output_type": "stream",
     "text": [
      "/home/nas3_userJ/dmkim/anaconda3/envs/TSAD/lib/python3.9/site-packages/torch/nn/_reduction.py:42: UserWarning: size_average and reduce args will be deprecated, please use reduction='none' instead.\n",
      "  warnings.warn(warning.format(ret))\n"
     ]
    },
    {
     "data": {
      "text/plain": "testing:   0%|          | 0/3515 [00:00<?, ?it/s]",
      "application/vnd.jupyter.widget-view+json": {
       "version_major": 2,
       "version_minor": 0,
       "model_id": "c3903b105d644027a0706f099ff946d4"
      }
     },
     "metadata": {},
     "output_type": "display_data"
    }
   ],
   "source": [
    "train_loss_list = get_loss_list(args, model, train_loader)\n",
    "test_loss_list = get_loss_list(args, model, test_loader)"
   ],
   "metadata": {
    "collapsed": false,
    "pycharm": {
     "name": "#%%\n"
    }
   }
  },
  {
   "cell_type": "code",
   "execution_count": 68,
   "outputs": [
    {
     "data": {
      "text/plain": "((496701, 51), (449820, 51))"
     },
     "execution_count": 68,
     "metadata": {},
     "output_type": "execute_result"
    }
   ],
   "source": [
    "train_loss_list.shape, test_loss_list.shape"
   ],
   "metadata": {
    "collapsed": false,
    "pycharm": {
     "name": "#%%\n"
    }
   }
  },
  {
   "cell_type": "code",
   "execution_count": 69,
   "outputs": [
    {
     "data": {
      "text/plain": "  0%|          | 0/449820 [00:00<?, ?it/s]",
      "application/vnd.jupyter.widget-view+json": {
       "version_major": 2,
       "version_minor": 0,
       "model_id": "6b3df0916e914fea995b38e60cdadcd6"
      }
     },
     "metadata": {},
     "output_type": "display_data"
    },
    {
     "name": "stdout",
     "output_type": "stream",
     "text": [
      "mean[0.013895690585142974], median[0.01266182698045489], min[8.433540878284173e-06], max[0.07043973301253968]\n"
     ]
    }
   ],
   "source": [
    "mean = np.mean(train_loss_list, axis=0)\n",
    "std = np.cov(train_loss_list.T)\n",
    "\n",
    "## Anomaly Score\n",
    "class Anomaly_Calculator:\n",
    "    def __init__(self, mean:np.array, std:np.array):\n",
    "        assert mean.shape[0] == std.shape[0] and mean.shape[0] == std.shape[1]\n",
    "        self.mean = mean\n",
    "        self.std = std\n",
    "\n",
    "    def __call__(self, recons_error:np.array):\n",
    "        x = (recons_error-self.mean)\n",
    "        return np.matmul(np.matmul(x, self.std), x.T)\n",
    "\n",
    "anomaly_calculator = Anomaly_Calculator(mean, std)\n",
    "anomaly_scores = []\n",
    "for temp_loss in tqdm(test_loss_list):\n",
    "    temp_score = anomaly_calculator(temp_loss)\n",
    "    anomaly_scores.append(temp_score)\n",
    "\n",
    "print(\"mean[{}], median[{}], min[{}], max[{}]\".format(np.mean(anomaly_scores), np.median(anomaly_scores), np.min(anomaly_scores), np.max(anomaly_scores)))"
   ],
   "metadata": {
    "collapsed": false,
    "pycharm": {
     "name": "#%%\n"
    }
   }
  },
  {
   "cell_type": "code",
   "execution_count": 70,
   "outputs": [],
   "source": [
    "x = list(range(len(anomaly_scores)))\n",
    "y = anomaly_scores\n",
    "\n",
    "window_y = []\n",
    "for i in x:\n",
    "    window_y.append(min(test_y[i:i+args.window_size])==1)\n",
    "\n",
    "intervals = []\n",
    "start = None\n",
    "for i, label in enumerate(window_y):\n",
    "    if label:\n",
    "        if start is None:\n",
    "            start = i\n",
    "    else:\n",
    "        if start is not None:\n",
    "            intervals.append((start, i-1))\n",
    "        start = None\n",
    "if start is not None:\n",
    "    intervals.append((start, len(window_y)-1))"
   ],
   "metadata": {
    "collapsed": false,
    "pycharm": {
     "name": "#%%\n"
    }
   }
  },
  {
   "cell_type": "code",
   "execution_count": 71,
   "outputs": [
    {
     "name": "stdout",
     "output_type": "stream",
     "text": [
      "[(1754, 2594), (3068, 3411), (4920, 5203), (6459, 6749), (7255, 7351), (7705, 8034), (11410, 12274), (15380, 16001), (73800, 74421), (90685, 90818), (92140, 92471), (93445, 93621), (103092, 103709), (115843, 116002), (116143, 116438), (117000, 117621), (132918, 133281), (142954, 143551), (172305, 172489), (172910, 173422), (198296, 199641), (227828, 263628), (279120, 279141), (280060, 281131), (302653, 302920), (347679, 348180), (361191, 361535), (371479, 371480), (371855, 372236), (389680, 390120), (436541, 436910), (437417, 437598), (438147, 438448), (438621, 438818), (443501, 445091)]\n"
     ]
    }
   ],
   "source": [
    "print(intervals)"
   ],
   "metadata": {
    "collapsed": false,
    "pycharm": {
     "name": "#%%\n"
    }
   }
  },
  {
   "cell_type": "code",
   "execution_count": 72,
   "outputs": [
    {
     "data": {
      "text/plain": "<Figure size 1152x432 with 1 Axes>",
      "image/png": "[encoded data removed]"
     },
     "metadata": {
      "needs_background": "light"
     },
     "output_type": "display_data"
    }
   ],
   "source": [
    "## 시각화 하기\n",
    "fig = plt.figure(figsize=(16, 6))\n",
    "ax=fig.add_subplot()\n",
    "\n",
    "ax.plot(x, y)\n",
    "plt.rcParams['axes.facecolor']='white'\n",
    "for s, e in intervals:\n",
    "    ax.axvspan(s, e, alpha=0.2, color='orange')"
   ],
   "metadata": {
    "collapsed": false,
    "pycharm": {
     "name": "#%%\n"
    }
   }
  },
  {
   "cell_type": "markdown",
   "source": [
    "### Finding Threshold"
   ],
   "metadata": {
    "collapsed": false
   }
  },
  {
   "cell_type": "code",
   "execution_count": 73,
   "outputs": [
    {
     "data": {
      "text/plain": "(449820, 4.615103869823858e-05)"
     },
     "execution_count": 73,
     "metadata": {},
     "output_type": "execute_result"
    }
   ],
   "source": [
    "len(anomaly_scores), anomaly_scores[0]"
   ],
   "metadata": {
    "collapsed": false,
    "pycharm": {
     "name": "#%%\n"
    }
   }
  },
  {
   "cell_type": "code",
   "execution_count": 74,
   "outputs": [
    {
     "data": {
      "text/plain": "(8.433540878284173e-06, 0.07043973301253968)"
     },
     "execution_count": 74,
     "metadata": {},
     "output_type": "execute_result"
    }
   ],
   "source": [
    "anomaly_min, anomaly_max = np.min(anomaly_scores), np.max(anomaly_scores)\n",
    "anomaly_min, anomaly_max"
   ],
   "metadata": {
    "collapsed": false,
    "pycharm": {
     "name": "#%%\n"
    }
   }
  },
  {
   "cell_type": "code",
   "execution_count": 75,
   "outputs": [
    {
     "data": {
      "text/plain": "(449919,)"
     },
     "execution_count": 75,
     "metadata": {},
     "output_type": "execute_result"
    }
   ],
   "source": [
    "test_y.shape"
   ],
   "metadata": {
    "collapsed": false,
    "pycharm": {
     "name": "#%%\n"
    }
   }
  },
  {
   "cell_type": "code",
   "execution_count": 76,
   "outputs": [],
   "source": [
    "thresholds = np.linspace(anomaly_min, anomaly_max, 100)"
   ],
   "metadata": {
    "collapsed": false,
    "pycharm": {
     "name": "#%%\n"
    }
   }
  },
  {
   "cell_type": "code",
   "execution_count": 77,
   "outputs": [
    {
     "name": "stdout",
     "output_type": "stream",
     "text": [
      "[8.43354088e-06 7.19860808e-04 1.43128808e-03 2.14271534e-03\n",
      " 2.85414261e-03 3.56556988e-03 4.27699715e-03 4.98842441e-03\n",
      " 5.69985168e-03 6.41127895e-03 7.12270621e-03 7.83413348e-03\n",
      " 8.54556075e-03 9.25698802e-03 9.96841528e-03 1.06798426e-02\n",
      " 1.13912698e-02 1.21026971e-02 1.28141244e-02 1.35255516e-02\n",
      " 1.42369789e-02 1.49484062e-02 1.56598334e-02 1.63712607e-02\n",
      " 1.70826880e-02 1.77941152e-02 1.85055425e-02 1.92169698e-02\n",
      " 1.99283970e-02 2.06398243e-02 2.13512516e-02 2.20626788e-02\n",
      " 2.27741061e-02 2.34855334e-02 2.41969606e-02 2.49083879e-02\n",
      " 2.56198152e-02 2.63312424e-02 2.70426697e-02 2.77540970e-02\n",
      " 2.84655242e-02 2.91769515e-02 2.98883788e-02 3.05998060e-02\n",
      " 3.13112333e-02 3.20226606e-02 3.27340878e-02 3.34455151e-02\n",
      " 3.41569424e-02 3.48683696e-02 3.55797969e-02 3.62912242e-02\n",
      " 3.70026514e-02 3.77140787e-02 3.84255060e-02 3.91369332e-02\n",
      " 3.98483605e-02 4.05597878e-02 4.12712150e-02 4.19826423e-02\n",
      " 4.26940696e-02 4.34054969e-02 4.41169241e-02 4.48283514e-02\n",
      " 4.55397787e-02 4.62512059e-02 4.69626332e-02 4.76740605e-02\n",
      " 4.83854877e-02 4.90969150e-02 4.98083423e-02 5.05197695e-02\n",
      " 5.12311968e-02 5.19426241e-02 5.26540513e-02 5.33654786e-02\n",
      " 5.40769059e-02 5.47883331e-02 5.54997604e-02 5.62111877e-02\n",
      " 5.69226149e-02 5.76340422e-02 5.83454695e-02 5.90568967e-02\n",
      " 5.97683240e-02 6.04797513e-02 6.11911785e-02 6.19026058e-02\n",
      " 6.26140331e-02 6.33254603e-02 6.40368876e-02 6.47483149e-02\n",
      " 6.54597421e-02 6.61711694e-02 6.68825967e-02 6.75940239e-02\n",
      " 6.83054512e-02 6.90168785e-02 6.97283057e-02 7.04397330e-02]\n"
     ]
    }
   ],
   "source": [
    "print(thresholds)"
   ],
   "metadata": {
    "collapsed": false,
    "pycharm": {
     "name": "#%%\n"
    }
   }
  },
  {
   "cell_type": "code",
   "execution_count": 78,
   "outputs": [],
   "source": [
    "from sklearn.metrics import precision_score, recall_score, f1_score, confusion_matrix, classification_report"
   ],
   "metadata": {
    "collapsed": false,
    "pycharm": {
     "name": "#%%\n"
    }
   }
  },
  {
   "cell_type": "code",
   "execution_count": 79,
   "outputs": [],
   "source": [
    "import seaborn as sns"
   ],
   "metadata": {
    "collapsed": false,
    "pycharm": {
     "name": "#%%\n"
    }
   }
  },
  {
   "cell_type": "code",
   "execution_count": 80,
   "outputs": [
    {
     "data": {
      "text/plain": "(449820, 449919)"
     },
     "execution_count": 80,
     "metadata": {},
     "output_type": "execute_result"
    }
   ],
   "source": [
    "len(anomaly_scores), len(test_y)"
   ],
   "metadata": {
    "collapsed": false,
    "pycharm": {
     "name": "#%%\n"
    }
   }
  },
  {
   "cell_type": "code",
   "execution_count": 81,
   "outputs": [
    {
     "name": "stdout",
     "output_type": "stream",
     "text": [
      "threshold 8.433540878284173e-06 | tn 1 fp 395235 fn 0 tp 54584 p 0.12134658607128646 r 1.0 f 0.21643011639502538\n",
      "0.12134658607128646 1.0 0.21643011639502538\n",
      "threshold 0.0007198608082688034 | tn 103389 fp 291847 fn 5025 tp 49559 p 0.1451614792944471 r 0.9079400556939763 f 0.2503043006136519\n",
      "0.1451614792944471 0.9079400556939763 0.2503043006136519\n",
      "threshold 0.0014312880756593225 | tn 121272 fp 273964 fn 5323 tp 49261 p 0.15240467166834248 r 0.9024805803898578 f 0.2607719773748111\n",
      "0.15240467166834248 0.9024805803898578 0.2607719773748111\n",
      "threshold 0.0021427153430498415 | tn 133173 fp 262063 fn 5703 tp 48881 p 0.15720193989914583 r 0.8955188333577605 f 0.2674542032347727\n",
      "0.15720193989914583 0.8955188333577605 0.2674542032347727\n",
      "threshold 0.0028541426104403606 | tn 143672 fp 251564 fn 5824 tp 48760 p 0.16235798670768903 r 0.8933020665396453 f 0.27477543476055766\n",
      "0.16235798670768903 0.8933020665396453 0.27477543476055766\n",
      "threshold 0.00356556987783088 | tn 150892 fp 244344 fn 5910 tp 48674 p 0.16611266202076322 r 0.8917265132639601 f 0.280055926030345\n",
      "0.16611266202076322 0.8917265132639601 0.280055926030345\n",
      "threshold 0.004276997145221399 | tn 157383 fp 237853 fn 5998 tp 48586 p 0.16962075694999634 r 0.8901143192144219 f 0.2849426578265982\n",
      "0.16962075694999634 0.8901143192144219 0.2849426578265982\n",
      "threshold 0.004988424412611919 | tn 165748 fp 229488 fn 6129 tp 48455 p 0.17433430595481808 r 0.8877143485270409 f 0.2914349812195701\n",
      "0.17433430595481808 0.8877143485270409 0.2914349812195701\n",
      "threshold 0.005699851680002438 | tn 171393 fp 223843 fn 7088 tp 47496 p 0.1750430273569225 r 0.8701450974644585 f 0.2914553437468359\n",
      "0.1750430273569225 0.8701450974644585 0.2914553437468359\n",
      "threshold 0.006411278947392957 | tn 175004 fp 220232 fn 7409 tp 47175 p 0.17641647376471073 r 0.8642642532610288 f 0.29302061237736454\n",
      "0.17641647376471073 0.8642642532610288 0.29302061237736454\n",
      "threshold 0.007122706214783476 | tn 180498 fp 214738 fn 7644 tp 46940 p 0.17938076567384342 r 0.8599589623332845 f 0.29684249135210683\n",
      "0.17938076567384342 0.8599589623332845 0.29684249135210683\n",
      "threshold 0.007834133482173994 | tn 183869 fp 211367 fn 7727 tp 46857 p 0.18145873350269534 r 0.858438370218379 f 0.29958952456458915\n",
      "0.18145873350269534 0.858438370218379 0.29958952456458915\n",
      "threshold 0.008545560749564514 | tn 187797 fp 207439 fn 7829 tp 46755 p 0.1839343178831916 r 0.8565696907518687 f 0.30283893282552515\n",
      "0.1839343178831916 0.8565696907518687 0.30283893282552515\n",
      "threshold 0.009256988016955034 | tn 191156 fp 204080 fn 7935 tp 46649 p 0.18605346808705814 r 0.8546277297376521 f 0.30558148522991163\n",
      "0.18605346808705814 0.8546277297376521 0.30558148522991163\n",
      "threshold 0.009968415284345552 | tn 194632 fp 200604 fn 8071 tp 46513 p 0.1882225828251395 r 0.8521361571156383 f 0.30833838800666885\n",
      "0.1882225828251395 0.8521361571156383 0.30833838800666885\n",
      "threshold 0.01067984255173607 | tn 199351 fp 195885 fn 8294 tp 46290 p 0.19114276865902757 r 0.8480507108310128 f 0.311970319350045\n",
      "0.19114276865902757 0.8480507108310128 0.311970319350045\n",
      "threshold 0.01139126981912659 | tn 203653 fp 191583 fn 9043 tp 45541 p 0.19205563333951856 r 0.8343287410230104 f 0.3122368944286752\n",
      "0.19205563333951856 0.8343287410230104 0.3122368944286752\n",
      "threshold 0.01210269708651711 | tn 207588 fp 187648 fn 10052 tp 44532 p 0.1917994659316048 r 0.8158434706140993 f 0.3105829183579528\n",
      "0.1917994659316048 0.8158434706140993 0.3105829183579528\n",
      "threshold 0.012814124353907629 | tn 215521 fp 179715 fn 11146 tp 43438 p 0.19465568466478156 r 0.7958009673164297 f 0.3127995189693847\n",
      "0.19465568466478156 0.7958009673164297 0.3127995189693847\n",
      "threshold 0.013525551621298147 | tn 226865 fp 168371 fn 11924 tp 42660 p 0.20215039496566856 r 0.7815477062875568 f 0.3212167987500706\n",
      "0.20215039496566856 0.7815477062875568 0.3212167987500706\n",
      "threshold 0.014236978888688667 | tn 240531 fp 154705 fn 12490 tp 42094 p 0.21389336327928496 r 0.7711783672871171 f 0.33489933686844375\n",
      "0.21389336327928496 0.7711783672871171 0.33489933686844375\n",
      "threshold 0.014948406156079187 | tn 257015 fp 138221 fn 12813 tp 41771 p 0.2320714253966843 r 0.7652608823098344 f 0.35614044062478684\n",
      "0.2320714253966843 0.7652608823098344 0.35614044062478684\n",
      "threshold 0.015659833423469705 | tn 272610 fp 122626 fn 13092 tp 41492 p 0.2528180942980051 r 0.7601494943573208 f 0.37943868826073834\n",
      "0.2528180942980051 0.7601494943573208 0.37943868826073834\n",
      "threshold 0.016371260690860225 | tn 289634 fp 105602 fn 13758 tp 40826 p 0.2788127953670063 r 0.7479481166642239 f 0.4062046047002169\n",
      "0.2788127953670063 0.7479481166642239 0.4062046047002169\n",
      "threshold 0.017082687958250745 | tn 305175 fp 90061 fn 14014 tp 40570 p 0.310569466665646 r 0.7432580976110216 f 0.4380854682396134\n",
      "0.310569466665646 0.7432580976110216 0.4380854682396134\n",
      "threshold 0.017794115225641265 | tn 318273 fp 76963 fn 14209 tp 40375 p 0.3440914281818337 r 0.7396856221603401 f 0.4696897430229989\n",
      "0.3440914281818337 0.7396856221603401 0.4696897430229989\n",
      "threshold 0.018505542493031785 | tn 330123 fp 65113 fn 14652 tp 39932 p 0.3801418439716312 r 0.7315696907518687 f 0.5003100940305334\n",
      "0.3801418439716312 0.7315696907518687 0.5003100940305334\n",
      "threshold 0.019216969760422302 | tn 336774 fp 58462 fn 15058 tp 39526 p 0.4033759235824795 r 0.7241316136596805 f 0.5181291455837244\n",
      "0.4033759235824795 0.7241316136596805 0.5181291455837244\n",
      "threshold 0.019928397027812822 | tn 341499 fp 53737 fn 15951 tp 38633 p 0.41824185341561115 r 0.7077715081342518 f 0.5257835785347796\n",
      "0.41824185341561115 0.7077715081342518 0.5257835785347796\n",
      "threshold 0.020639824295203342 | tn 345192 fp 50044 fn 16659 tp 37925 p 0.43111778012709023 r 0.6948006741902389 f 0.5320828042903343\n",
      "0.43111778012709023 0.6948006741902389 0.5320828042903343\n",
      "threshold 0.02135125156259386 | tn 349497 fp 45739 fn 16768 tp 37816 p 0.4525881156124708 r 0.6928037520152426 f 0.5475064970790291\n",
      "0.4525881156124708 0.6928037520152426 0.5475064970790291\n",
      "threshold 0.02206267882998438 | tn 353196 fp 42040 fn 16950 tp 37634 p 0.47234982553907173 r 0.6894694415946064 f 0.560622085834736\n",
      "0.47234982553907173 0.6894694415946064 0.560622085834736\n",
      "threshold 0.0227741060973749 | tn 356263 fp 38973 fn 17074 tp 37510 p 0.4904357831152021 r 0.6871977136157116 f 0.5723790122609047\n",
      "0.4904357831152021 0.6871977136157116 0.5723790122609047\n",
      "threshold 0.02348553336476542 | tn 359191 fp 36045 fn 17416 tp 37168 p 0.5076694029748815 r 0.680932141286824 f 0.581672496224481\n",
      "0.5076694029748815 0.680932141286824 0.581672496224481\n",
      "threshold 0.02419696063215594 | tn 361999 fp 33237 fn 17899 tp 36685 p 0.5246560453076285 r 0.6720833944012897 f 0.5892888696127094\n",
      "0.5246560453076285 0.6720833944012897 0.5892888696127094\n",
      "threshold 0.024908387899546455 | tn 364276 fp 30960 fn 18212 tp 36372 p 0.5401889146319729 r 0.6663491132932727 f 0.596673119196824\n",
      "0.5401889146319729 0.6663491132932727 0.596673119196824\n",
      "threshold 0.025619815166936975 | tn 366141 fp 29095 fn 18438 tp 36146 p 0.5540381048727028 r 0.6622087058478675 f 0.6033131650323389\n",
      "0.5540381048727028 0.6622087058478675 0.6033131650323389\n",
      "threshold 0.026331242434327495 | tn 368299 fp 26937 fn 19282 tp 35302 p 0.5672006298301708 r 0.6467462992818408 f 0.6043672906876214\n",
      "0.5672006298301708 0.6467462992818408 0.6043672906876214\n",
      "threshold 0.027042669701718012 | tn 370583 fp 24653 fn 20016 tp 34568 p 0.5837118589689468 r 0.6332991352777371 f 0.6074952770089188\n",
      "0.5837118589689468 0.6332991352777371 0.6074952770089188\n",
      "threshold 0.027754096969108532 | tn 372459 fp 22777 fn 20380 tp 34204 p 0.6002702655271055 r 0.6266305144364649 f 0.6131672119392283\n",
      "0.6002702655271055 0.6266305144364649 0.6131672119392283\n",
      "threshold 0.028465524236499052 | tn 374360 fp 20876 fn 20493 tp 34091 p 0.6202084887296014 r 0.6245603107137623 f 0.6223767925441119\n",
      "0.6202084887296014 0.6245603107137623 0.6223767925441119\n",
      "threshold 0.029176951503889572 | tn 376419 fp 18817 fn 20636 tp 33948 p 0.6433810290912537 r 0.6219404953832625 f 0.6324791101919907\n",
      "0.6433810290912537 0.6219404953832625 0.6324791101919907\n",
      "threshold 0.029888378771280092 | tn 378587 fp 16649 fn 21192 tp 33392 p 0.6672928198876921 r 0.6117543602520885 f 0.6383178016726403\n",
      "0.6672928198876921 0.6117543602520885 0.6383178016726403\n",
      "threshold 0.03059980603867061 | tn 380715 fp 14521 fn 22117 tp 32467 p 0.690963650293692 r 0.5948080023450095 f 0.6392903556098137\n",
      "0.690963650293692 0.5948080023450095 0.6392903556098137\n",
      "threshold 0.03131123330606112 | tn 382135 fp 13101 fn 22791 tp 31793 p 0.7081792667171559 r 0.5824600615565001 f 0.6391966062848068\n",
      "0.7081792667171559 0.5824600615565001 0.6391966062848068\n",
      "threshold 0.03202266057345164 | tn 383849 fp 11387 fn 23077 tp 31507 p 0.7345316361262647 r 0.5772204308955005 f 0.6464433000266726\n",
      "0.7345316361262647 0.5772204308955005 0.6464433000266726\n",
      "threshold 0.03273408784084216 | tn 385519 fp 9717 fn 23270 tp 31314 p 0.7631790597353221 r 0.5736845962186722 f 0.6550018302567588\n",
      "0.7631790597353221 0.5736845962186722 0.6550018302567588\n",
      "threshold 0.03344551510823268 | tn 386699 fp 8537 fn 23330 tp 31254 p 0.7854539971350305 r 0.5725853730030779 f 0.6623364238410596\n",
      "0.7854539971350305 0.5725853730030779 0.6623364238410596\n",
      "threshold 0.0341569423756232 | tn 387682 fp 7554 fn 23404 tp 31180 p 0.804977539112924 r 0.5712296643705115 f 0.6682526415053902\n",
      "0.804977539112924 0.5712296643705115 0.6682526415053902\n",
      "threshold 0.03486836964301372 | tn 388711 fp 6525 fn 23555 tp 31029 p 0.8262501997124141 r 0.5684632859445992 f 0.6735331784931299\n",
      "0.8262501997124141 0.5684632859445992 0.6735331784931299\n",
      "threshold 0.03557979691040424 | tn 389657 fp 5579 fn 23598 tp 30986 p 0.8474223984684808 r 0.5676755093067566 f 0.6798977498381771\n",
      "0.8474223984684808 0.5676755093067566 0.6798977498381771\n",
      "threshold 0.03629122417779476 | tn 390726 fp 4510 fn 23635 tp 30949 p 0.8728108519698807 r 0.5669976549904734 f 0.6874271181546594\n",
      "0.8728108519698807 0.5669976549904734 0.6874271181546594\n",
      "threshold 0.03700265144518528 | tn 391810 fp 3426 fn 23675 tp 30909 p 0.9002184359982525 r 0.5662648395134106 f 0.6952169952428615\n",
      "0.9002184359982525 0.5662648395134106 0.6952169952428615\n",
      "threshold 0.037714078712575795 | tn 392813 fp 2423 fn 23696 tp 30888 p 0.9272612650475819 r 0.5658801113879525 f 0.702838614255646\n",
      "0.9272612650475819 0.5658801113879525 0.702838614255646\n",
      "threshold 0.038425505979966315 | tn 393411 fp 1825 fn 23714 tp 30870 p 0.9441810674415048 r 0.5655503444232742 f 0.707386656584058\n",
      "0.9441810674415048 0.5655503444232742 0.707386656584058\n",
      "threshold 0.039136933247356835 | tn 393835 fp 1401 fn 23731 tp 30853 p 0.9565635270044025 r 0.5652388978455225 f 0.7105875308044866\n",
      "0.9565635270044025 0.5652388978455225 0.7105875308044866\n",
      "threshold 0.039848360514747355 | tn 394122 fp 1114 fn 23748 tp 30836 p 0.9651330203442879 r 0.5649274512677708 f 0.712690965400883\n",
      "0.9651330203442879 0.5649274512677708 0.712690965400883\n",
      "threshold 0.040559787782137875 | tn 394227 fp 1009 fn 23762 tp 30822 p 0.9683013414595835 r 0.5646709658507988 f 0.7133483770178788\n",
      "0.9683013414595835 0.5646709658507988 0.7133483770178788\n",
      "threshold 0.041271215049528395 | tn 394325 fp 911 fn 23774 tp 30810 p 0.9712808549541313 r 0.5644511212076799 f 0.7139794913388565\n",
      "0.9712808549541313 0.5644511212076799 0.7139794913388565\n",
      "threshold 0.041982642316918915 | tn 394376 fp 860 fn 23836 tp 30748 p 0.9727916983042267 r 0.5633152572182325 f 0.7134768888063858\n",
      "0.9727916983042267 0.5633152572182325 0.7134768888063858\n",
      "threshold 0.04269406958430943 | tn 394423 fp 813 fn 23870 tp 30714 p 0.974212579693596 r 0.562692364062729 f 0.7133583398172127\n",
      "0.974212579693596 0.562692364062729 0.7133583398172127\n",
      "threshold 0.04340549685169995 | tn 394581 fp 655 fn 23909 tp 30675 p 0.9790935205872965 r 0.5619778689725927 f 0.7140861792024583\n",
      "0.9790935205872965 0.5619778689725927 0.7140861792024583\n",
      "threshold 0.04411692411909047 | tn 394688 fp 548 fn 23951 tp 30633 p 0.9824251948301851 r 0.5612084127216767 f 0.7143473444878446\n",
      "0.9824251948301851 0.5612084127216767 0.7143473444878446\n",
      "threshold 0.04482835138648099 | tn 394790 fp 446 fn 23982 tp 30602 p 0.9856351455810358 r 0.5606404807269529 f 0.7147328101644246\n",
      "0.9856351455810358 0.5606404807269529 0.7147328101644246\n",
      "threshold 0.04553977865387151 | tn 394933 fp 303 fn 24026 tp 30558 p 0.9901817828327014 r 0.5598343837021837 f 0.7152671309029198\n",
      "0.9901817828327014 0.5598343837021837 0.7152671309029198\n",
      "threshold 0.04625120592126203 | tn 394975 fp 261 fn 24053 tp 30531 p 0.9915237724084178 r 0.5593397332551664 f 0.7152127061469266\n",
      "0.9915237724084178 0.5593397332551664 0.7152127061469266\n",
      "threshold 0.04696263318865255 | tn 395006 fp 230 fn 24314 tp 30270 p 0.9924590163934426 r 0.5545581122673311 f 0.7115321329509661\n",
      "0.9924590163934426 0.5545581122673311 0.7115321329509661\n",
      "threshold 0.04767406045604307 | tn 395038 fp 198 fn 24531 tp 30053 p 0.9934547618260553 r 0.550582588304265 f 0.7085047445040372\n",
      "0.9934547618260553 0.550582588304265 0.7085047445040372\n",
      "threshold 0.04838548772343359 | tn 395059 fp 177 fn 24756 tp 29828 p 0.9941009831694717 r 0.5464605012457863 f 0.705245362872241\n",
      "0.9941009831694717 0.5464605012457863 0.705245362872241\n",
      "threshold 0.0490969149908241 | tn 395081 fp 155 fn 24951 tp 29633 p 0.9947965623741104 r 0.5428880257951048 f 0.7024368273834921\n",
      "0.9947965623741104 0.5428880257951048 0.7024368273834921\n",
      "threshold 0.04980834225821462 | tn 395097 fp 139 fn 25273 tp 29311 p 0.9952801358234296 r 0.5369888612047486 f 0.6975985910464813\n",
      "0.9952801358234296 0.5369888612047486 0.6975985910464813\n",
      "threshold 0.05051976952560514 | tn 395103 fp 133 fn 25490 tp 29094 p 0.9954494132138092 r 0.5330133372416825 f 0.6942764076314565\n",
      "0.9954494132138092 0.5330133372416825 0.6942764076314565\n",
      "threshold 0.05123119679299566 | tn 395111 fp 125 fn 25801 tp 28783 p 0.9956759374567594 r 0.5273156969075187 f 0.6894792315431418\n",
      "0.9956759374567594 0.5273156969075187 0.6894792315431418\n",
      "threshold 0.05194262406038618 | tn 395117 fp 119 fn 26004 tp 28580 p 0.9958535140597233 r 0.5235966583614245 f 0.6863345460658237\n",
      "0.9958535140597233 0.5235966583614245 0.6863345460658237\n",
      "threshold 0.0526540513277767 | tn 395126 fp 110 fn 26163 tp 28421 p 0.9961445445305107 r 0.5206837168400996 f 0.6838958070143776\n",
      "0.9961445445305107 0.5206837168400996 0.6838958070143776\n",
      "threshold 0.05336547859516722 | tn 395132 fp 104 fn 26333 tp 28251 p 0.9963322165402927 r 0.5175692510625824 f 0.6812476639457914\n",
      "0.9963322165402927 0.5175692510625824 0.6812476639457914\n",
      "threshold 0.054076905862557735 | tn 395139 fp 97 fn 26529 tp 28055 p 0.9965544188689969 r 0.5139784552249743 f 0.6781812028621156\n",
      "0.9965544188689969 0.5139784552249743 0.6781812028621156\n",
      "threshold 0.054788333129948255 | tn 395147 fp 89 fn 26827 tp 27757 p 0.9968038497450262 r 0.5085189799208559 f 0.6734683974281208\n",
      "0.9968038497450262 0.5085189799208559 0.6734683974281208\n",
      "threshold 0.055499760397338775 | tn 395156 fp 80 fn 28455 tp 26129 p 0.9969476134152391 r 0.47869339000439687 f 0.646813461562264\n",
      "0.9969476134152391 0.47869339000439687 0.646813461562264\n",
      "threshold 0.056211187664729295 | tn 395172 fp 64 fn 30118 tp 24466 p 0.9973909498573176 r 0.44822658654550784 f 0.6184998862401092\n",
      "0.9973909498573176 0.44822658654550784 0.6184998862401092\n",
      "threshold 0.056922614932119815 | tn 395176 fp 60 fn 31657 tp 22927 p 0.9973898290338017 r 0.42003151106551373 f 0.5911229712134689\n",
      "0.9973898290338017 0.42003151106551373 0.5911229712134689\n",
      "threshold 0.057634042199510335 | tn 395180 fp 56 fn 33600 tp 20984 p 0.9973384030418251 r 0.3844349992671845 f 0.5549560985930392\n",
      "0.9973384030418251 0.3844349992671845 0.5549560985930392\n",
      "threshold 0.058345469466900855 | tn 395186 fp 50 fn 35213 tp 19371 p 0.9974254672776891 r 0.35488421515462404 f 0.5235051685696912\n",
      "0.9974254672776891 0.35488421515462404 0.5235051685696912\n",
      "threshold 0.059056896734291375 | tn 395194 fp 42 fn 38354 tp 16230 p 0.9974188790560472 r 0.29733987981826177 f 0.45811222761657444\n",
      "0.9974188790560472 0.29733987981826177 0.45811222761657444\n",
      "threshold 0.059768324001681895 | tn 395198 fp 38 fn 40340 tp 14244 p 0.9973393082201373 r 0.26095559138209 f 0.41367293003804495\n",
      "0.9973393082201373 0.26095559138209 0.41367293003804495\n",
      "threshold 0.06047975126907241 | tn 395201 fp 35 fn 42454 tp 12130 p 0.9971228935470613 r 0.22222629341931702 f 0.3634511378447617\n",
      "0.9971228935470613 0.22222629341931702 0.3634511378447617\n",
      "threshold 0.06119117853646293 | tn 395204 fp 32 fn 45034 tp 9550 p 0.9966604049259027 r 0.17495969514876153 f 0.2976654302901848\n",
      "0.9966604049259027 0.17495969514876153 0.2976654302901848\n",
      "threshold 0.06190260580385345 | tn 395207 fp 29 fn 48286 tp 6298 p 0.9954164691006796 r 0.11538179686354975 f 0.20679351841210947\n",
      "0.9954164691006796 0.11538179686354975 0.20679351841210947\n",
      "threshold 0.06261403307124397 | tn 395209 fp 27 fn 53247 tp 1337 p 0.9802052785923754 r 0.024494357320826617 f 0.047794380496175015\n",
      "0.9802052785923754 0.024494357320826617 0.047794380496175015\n",
      "threshold 0.0633254603386345 | tn 395211 fp 25 fn 54536 tp 48 p 0.6575342465753424 r 0.0008793785724754507 f 0.0017564081453427742\n",
      "0.6575342465753424 0.0008793785724754507 0.0017564081453427742\n",
      "threshold 0.06403688760602501 | tn 395213 fp 23 fn 54543 tp 41 p 0.640625 r 0.0007511358639894475 f 0.0015005123700775876\n",
      "0.640625 0.0007511358639894475 0.0015005123700775876\n",
      "threshold 0.06474831487341554 | tn 395216 fp 20 fn 54547 tp 37 p 0.6491228070175439 r 0.0006778543162831599 f 0.001354294394319284\n",
      "0.6491228070175439 0.0006778543162831599 0.001354294394319284\n",
      "threshold 0.06545974214080605 | tn 395218 fp 18 fn 54553 tp 31 p 0.6326530612244898 r 0.0005679319947237286 f 0.0011348452400563762\n",
      "0.6326530612244898 0.0005679319947237286 0.0011348452400563762\n",
      "threshold 0.06617116940819658 | tn 395219 fp 17 fn 54559 tp 25 p 0.5952380952380952 r 0.00045800967316429725 f 0.0009153150514407057\n",
      "0.5952380952380952 0.00045800967316429725 0.0009153150514407057\n",
      "threshold 0.06688259667558709 | tn 395222 fp 14 fn 54565 tp 19 p 0.5757575757575758 r 0.0003480873516048659 f 0.0006957540692458392\n",
      "0.5757575757575758 0.0003480873516048659 0.0006957540692458392\n",
      "threshold 0.06759402394297762 | tn 395224 fp 12 fn 54570 tp 14 p 0.5384615384615384 r 0.00025648541697200644 f 0.0005127266068485625\n",
      "0.5384615384615384 0.00025648541697200644 0.0005127266068485625\n",
      "threshold 0.06830545121036813 | tn 395226 fp 10 fn 54579 tp 5 p 0.3333333333333333 r 9.160193463285945e-05 f 0.00018315353761057894\n",
      "0.3333333333333333 9.160193463285945e-05 0.00018315353761057894\n",
      "threshold 0.06901687847775864 | tn 395228 fp 8 fn 54581 tp 3 p 0.2727272727272727 r 5.496116077971567e-05 f 0.00010990017400860883\n",
      "0.2727272727272727 5.496116077971567e-05 0.00010990017400860883\n",
      "threshold 0.06972830574514917 | tn 395231 fp 5 fn 54584 tp 0 p 0.0 r 0.0 f 0.0\n",
      "0.0 0.0 0.0\n",
      "threshold 0.07043973301253968 | tn 395236 fp 0 fn 54584 tp 0 p 1.0 r 0.0 f 0.0\n",
      "1.0 0.0 0.0\n"
     ]
    }
   ],
   "source": [
    "precisions = []\n",
    "recalls = []\n",
    "f1s = []\n",
    "\n",
    "for threshold in thresholds:\n",
    "    anomaly_prediction = (anomaly_scores > threshold).astype(int)\n",
    "    target_y = test_y[args.window_size-1:]\n",
    "\n",
    "\n",
    "    tn, fp, fn, tp = confusion_matrix(target_y, anomaly_prediction).ravel()\n",
    "\n",
    "    p, r, f = precision_score(target_y, anomaly_prediction, zero_division = 1), recall_score(target_y, anomaly_prediction, zero_division = 1), f1_score(target_y, anomaly_prediction, zero_division = 1)\n",
    "    precisions.append(p)\n",
    "    recalls.append(r)\n",
    "    f1s.append(f)\n",
    "\n",
    "    print(f\"threshold {threshold} | tn {tn} fp {fp} fn {fn} tp {tp} p {p} r {r} f {f}\")\n",
    "    print(p, r, f)\n"
   ],
   "metadata": {
    "collapsed": false,
    "pycharm": {
     "name": "#%%\n"
    }
   }
  },
  {
   "cell_type": "markdown",
   "source": [],
   "metadata": {
    "collapsed": false
   }
  },
  {
   "cell_type": "code",
   "execution_count": 82,
   "outputs": [
    {
     "data": {
      "text/plain": "<Figure size 432x288 with 1 Axes>",
      "image/png": "[encoded data removed]"
     },
     "metadata": {
      "needs_background": "light"
     },
     "output_type": "display_data"
    }
   ],
   "source": [
    "plt.plot(thresholds, precisions, label = \"precision\")\n",
    "plt.plot(thresholds, recalls, label = \"recall\")\n",
    "plt.plot(thresholds, f1s, label = \"f1\")\n",
    "plt.legend()\n",
    "plt.show()"
   ],
   "metadata": {
    "collapsed": false,
    "pycharm": {
     "name": "#%%\n"
    }
   }
  },
  {
   "cell_type": "code",
   "execution_count": 83,
   "outputs": [],
   "source": [
    "threshold_idx = np.argmax(f1s)"
   ],
   "metadata": {
    "collapsed": false,
    "pycharm": {
     "name": "#%%\n"
    }
   }
  },
  {
   "cell_type": "code",
   "execution_count": 84,
   "outputs": [],
   "source": [
    "best_threshold = thresholds[threshold_idx]"
   ],
   "metadata": {
    "collapsed": false,
    "pycharm": {
     "name": "#%%\n"
    }
   }
  },
  {
   "cell_type": "code",
   "execution_count": 85,
   "outputs": [
    {
     "data": {
      "text/plain": "0.04553977865387151"
     },
     "execution_count": 85,
     "metadata": {},
     "output_type": "execute_result"
    }
   ],
   "source": [
    "best_threshold"
   ],
   "metadata": {
    "collapsed": false,
    "pycharm": {
     "name": "#%%\n"
    }
   }
  },
  {
   "cell_type": "code",
   "execution_count": 86,
   "outputs": [
    {
     "data": {
      "text/plain": "<Figure size 1152x432 with 1 Axes>",
      "image/png": "[encoded data removed]"
     },
     "metadata": {
      "needs_background": "light"
     },
     "output_type": "display_data"
    }
   ],
   "source": [
    "fig = plt.figure(figsize=(16, 6))\n",
    "ax=fig.add_subplot()\n",
    "ax.axhline(y = best_threshold, color = \"r\")\n",
    "ax.plot(x, y)\n",
    "plt.rcParams['axes.facecolor']='white'\n",
    "for s, e in intervals:\n",
    "    ax.axvspan(s, e, alpha=0.2, color='orange')"
   ],
   "metadata": {
    "collapsed": false,
    "pycharm": {
     "name": "#%%\n"
    }
   }
  },
  {
   "cell_type": "code",
   "execution_count": 87,
   "outputs": [
    {
     "data": {
      "text/plain": "(0.9901817828327014, 0.5598343837021837, 0.7152671309029198)"
     },
     "execution_count": 87,
     "metadata": {},
     "output_type": "execute_result"
    }
   ],
   "source": [
    "anomaly_prediction = (anomaly_scores > best_threshold).astype(int)\n",
    "target_y = test_y[args.window_size-1:]\n",
    "\n",
    "p, r, f = precision_score(target_y, anomaly_prediction), recall_score(target_y, anomaly_prediction),f1_score(target_y, anomaly_prediction)\n",
    "p, r, f"
   ],
   "metadata": {
    "collapsed": false,
    "pycharm": {
     "name": "#%%\n"
    }
   }
  },
  {
   "cell_type": "code",
   "execution_count": 88,
   "outputs": [
    {
     "name": "stdout",
     "output_type": "stream",
     "text": [
      "[[394933    303]\n",
      " [ 24026  30558]]\n"
     ]
    }
   ],
   "source": [
    "print(confusion_matrix(target_y, anomaly_prediction))"
   ],
   "metadata": {
    "collapsed": false,
    "pycharm": {
     "name": "#%%\n"
    }
   }
  },
  {
   "cell_type": "code",
   "execution_count": 89,
   "outputs": [
    {
     "data": {
      "text/plain": "<AxesSubplot:>"
     },
     "execution_count": 89,
     "metadata": {},
     "output_type": "execute_result"
    },
    {
     "data": {
      "text/plain": "<Figure size 432x288 with 2 Axes>",
      "image/png": "[encoded data removed]"
     },
     "metadata": {
      "needs_background": "light"
     },
     "output_type": "display_data"
    }
   ],
   "source": [
    "sns.heatmap(confusion_matrix(target_y, anomaly_prediction), annot = True, fmt = \"d\")"
   ],
   "metadata": {
    "collapsed": false,
    "pycharm": {
     "name": "#%%\n"
    }
   }
  },
  {
   "cell_type": "code",
   "execution_count": 36,
   "outputs": [],
   "source": [],
   "metadata": {
    "collapsed": false,
    "pycharm": {
     "name": "#%%\n"
    }
   }
  }
 ],
 "metadata": {
  "kernelspec": {
   "display_name": "Python 3",
   "language": "python",
   "name": "python3"
  },
  "language_info": {
   "codemirror_mode": {
    "name": "ipython",
    "version": 2
   },
   "file_extension": ".py",
   "mimetype": "text/x-python",
   "name": "python",
   "nbconvert_exporter": "python",
   "pygments_lexer": "ipython2",
   "version": "2.7.6"
  }
 },
 "nbformat": 4,
 "nbformat_minor": 0
}