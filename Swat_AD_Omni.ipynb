{
 "cells": [
  {
   "cell_type": "markdown",
   "source": [
    "# SWaT Anomaly Detection with OmniAnomaly\n",
    "\n",
    "by dongmin kim (tommy.dm.kim@gmail.com)"
   ],
   "metadata": {
    "collapsed": false,
    "pycharm": {
     "name": "#%% md\n"
    }
   }
  },
  {
   "cell_type": "code",
   "execution_count": 2,
   "metadata": {
    "collapsed": true
   },
   "outputs": [],
   "source": [
    "import pandas as pd\n",
    "import os\n",
    "import pickle\n",
    "import matplotlib.pyplot as plt\n",
    "from tqdm.notebook import tqdm\n",
    "import torch\n",
    "from torch import nn\n",
    "from torch.nn import functional as F\n",
    "from torch.utils.data import DataLoader, Dataset\n",
    "import numpy as np\n",
    "import easydict"
   ]
  },
  {
   "cell_type": "markdown",
   "source": [
    "## Load data"
   ],
   "metadata": {
    "collapsed": false,
    "pycharm": {
     "name": "#%% md\n"
    }
   }
  },
  {
   "cell_type": "code",
   "execution_count": 3,
   "outputs": [
    {
     "name": "stdout",
     "output_type": "stream",
     "text": [
      "/home/nas3_userJ/dmkim/TSAD\n",
      "     FIT101    LIT101  MV101  P101  P102    AIT201   AIT202   AIT203  \\\n",
      "0  2.470294  261.5804      2     2     1  244.3284  8.19008  306.101   \n",
      "1  2.457163  261.1879      2     2     1  244.3284  8.19008  306.101   \n",
      "2  2.439548  260.9131      2     2     1  244.3284  8.19008  306.101   \n",
      "3  2.428338  260.2850      2     2     1  244.3284  8.19008  306.101   \n",
      "4  2.424815  259.8925      2     2     1  244.4245  8.19008  306.101   \n",
      "\n",
      "     FIT201  MV201  ...  P501  P502    PIT501  PIT502    PIT503    FIT601  \\\n",
      "0  2.471278      2  ...     1     1  10.02948     0.0  4.277749  0.000256   \n",
      "1  2.468587      2  ...     1     1  10.02948     0.0  4.277749  0.000256   \n",
      "2  2.467305      2  ...     1     1  10.02948     0.0  4.277749  0.000256   \n",
      "3  2.466536      2  ...     1     1  10.02948     0.0  4.277749  0.000256   \n",
      "4  2.466536      2  ...     1     1  10.02948     0.0  4.277749  0.000256   \n",
      "\n",
      "   P601  P602  P603  Normal/Attack  \n",
      "0     1     1     1         Normal  \n",
      "1     1     1     1         Normal  \n",
      "2     1     1     1         Normal  \n",
      "3     1     1     1         Normal  \n",
      "4     1     1     1         Normal  \n",
      "\n",
      "[5 rows x 52 columns]\n",
      "/home/nas3_userJ/dmkim/TSAD\n",
      "     FIT101    LIT101   MV101  P101  P102    AIT201    AIT202    AIT203  \\\n",
      "0  2.427057  522.8467       2     2     1  262.0161  8.396437  328.6337   \n",
      "1  2.446274  522.8860       2     2     1  262.0161  8.396437  328.6337   \n",
      "2  2.489191  522.8467       2     2     1  262.0161  8.394514  328.6337   \n",
      "3  2.534350  522.9645       2     2     1  262.0161  8.394514  328.6337   \n",
      "4  2.569260  523.4748       2     2     1  262.0161  8.394514  328.6337   \n",
      "\n",
      "     FIT201   MV201  ...  P501  P502    PIT501    PIT502    PIT503    FIT601  \\\n",
      "0  2.445391       2  ...     2     1  250.8652  1.649953  189.5988  0.000128   \n",
      "1  2.445391       2  ...     2     1  250.8652  1.649953  189.6789  0.000128   \n",
      "2  2.442316       2  ...     2     1  250.8812  1.649953  189.6789  0.000128   \n",
      "3  2.442316       2  ...     2     1  250.8812  1.649953  189.6148  0.000128   \n",
      "4  2.443085       2  ...     2     1  250.8812  1.649953  189.5027  0.000128   \n",
      "\n",
      "   P601  P602  P603  Normal/Attack  \n",
      "0     1     1     1         Normal  \n",
      "1     1     1     1         Normal  \n",
      "2     1     1     1         Normal  \n",
      "3     1     1     1         Normal  \n",
      "4     1     1     1         Normal  \n",
      "\n",
      "[5 rows x 52 columns]\n"
     ]
    }
   ],
   "source": [
    "from data.load_data import load_data\n",
    "\n",
    "SWAT_TRAIN_PATH = './data/SWaT/SWaT_Dataset_Normal_v0.csv'\n",
    "SWAT_TEST_PATH = './data/SWaT/SWaT_Dataset_Attack_v0.csv'\n",
    "train_x, train_y = load_data(SWAT_TRAIN_PATH)\n",
    "test_x, test_y = load_data(SWAT_TEST_PATH)"
   ],
   "metadata": {
    "collapsed": false,
    "pycharm": {
     "name": "#%%\n"
    }
   }
  },
  {
   "cell_type": "code",
   "execution_count": 4,
   "outputs": [],
   "source": [
    "args = easydict.EasyDict({\n",
    "    \"batch_size\": 128,\n",
    "    \"device\": torch.device('cuda') if torch.cuda.is_available() else torch.device('cpu'),\n",
    "    \"input_size\": train_x.shape[1],\n",
    "    \"latent_size\": 10,\n",
    "    \"output_size\": train_x.shape[1],\n",
    "    \"window_size\" : 100,\n",
    "    \"num_layers\": 2,\n",
    "    \"learning_rate\" : 0.001,\n",
    "    \"max_iter\" : 100000,\n",
    "    'early_stop' : True,\n",
    "})"
   ],
   "metadata": {
    "collapsed": false,
    "pycharm": {
     "name": "#%%\n"
    }
   }
  },
  {
   "cell_type": "code",
   "execution_count": 5,
   "outputs": [],
   "source": [
    "from data.dataset import SWaTDataset\n",
    "\n",
    "train_dataset = SWaTDataset(train_x, train_y, window_size=args.window_size)\n",
    "test_dataset = SWaTDataset(test_x, test_y, window_size=args.window_size)\n",
    "\n",
    "train_loader = torch.utils.data.DataLoader(\n",
    "                 dataset=train_dataset,\n",
    "                 batch_size=args.batch_size,\n",
    "                 shuffle=True)\n",
    "test_loader = torch.utils.data.DataLoader(\n",
    "                dataset=test_dataset,\n",
    "                batch_size=args.batch_size,\n",
    "                shuffle=False)"
   ],
   "metadata": {
    "collapsed": false,
    "pycharm": {
     "name": "#%%\n"
    }
   }
  },
  {
   "cell_type": "markdown",
   "source": [
    "## Model"
   ],
   "metadata": {
    "collapsed": false,
    "pycharm": {
     "name": "#%% md\n"
    }
   }
  },
  {
   "cell_type": "code",
   "execution_count": 6,
   "outputs": [
    {
     "data": {
      "text/plain": "OmniAnomaly(\n  (qnet): Qnet(\n    (gru): GRU(51, 10, batch_first=True)\n    (dense): Linear(in_features=13, out_features=10, bias=True)\n    (linear_mu): Linear(in_features=10, out_features=3, bias=True)\n    (linear_sigma): Linear(in_features=10, out_features=3, bias=True)\n    (softplus): Softplus(beta=1, threshold=20)\n    (pnf): PlanarNormalizingFlow(\n      (linear): Linear(in_features=3, out_features=3, bias=True)\n      (tanh): Tanh()\n    )\n  )\n  (pnet): Pnet(\n    (gru): GRU(3, 10, batch_first=True)\n    (LGSSM): Linear(in_features=3, out_features=3, bias=True)\n    (dense): Linear(in_features=10, out_features=10, bias=True)\n    (linear_mu): Linear(in_features=10, out_features=51, bias=True)\n    (linear_sigma): Linear(in_features=10, out_features=51, bias=True)\n    (softplus): Softplus(beta=1, threshold=20)\n  )\n)"
     },
     "execution_count": 6,
     "metadata": {},
     "output_type": "execute_result"
    }
   ],
   "source": [
    "from Omnianomaly_pytorch.model import OmniAnomaly\n",
    "\n",
    "model = OmniAnomaly(\n",
    "    in_dim=args.input_size,\n",
    "    hidden_dim=10,\n",
    "    z_dim=3,\n",
    "    dense_dim=10,\n",
    "    out_dim=args.input_size\n",
    ")\n",
    "\n",
    "model.to(args.device)"
   ],
   "metadata": {
    "collapsed": false,
    "pycharm": {
     "name": "#%%\n"
    }
   }
  },
  {
   "cell_type": "markdown",
   "source": [
    "## Loss function"
   ],
   "metadata": {
    "collapsed": false,
    "pycharm": {
     "name": "#%% md\n"
    }
   }
  },
  {
   "cell_type": "code",
   "execution_count": 7,
   "outputs": [],
   "source": [
    "def loss_function(x, pred_x, mu, logvar):\n",
    "    MSE_loss = F.mse_loss(x, pred_x)\n",
    "    KLD_loss = -0.5 * torch.sum(1 + logvar - mu.pow(2) - logvar.exp())\n",
    "    return MSE_loss + KLD_loss"
   ],
   "metadata": {
    "collapsed": false,
    "pycharm": {
     "name": "#%%\n"
    }
   }
  },
  {
   "cell_type": "markdown",
   "source": [
    "## Other settings"
   ],
   "metadata": {
    "collapsed": false,
    "pycharm": {
     "name": "#%% md\n"
    }
   }
  },
  {
   "cell_type": "code",
   "execution_count": 8,
   "outputs": [],
   "source": [
    "optimizer = torch.optim.Adam(model.parameters(), lr=args.learning_rate)"
   ],
   "metadata": {
    "collapsed": false,
    "pycharm": {
     "name": "#%%\n"
    }
   }
  },
  {
   "cell_type": "code",
   "execution_count": 9,
   "outputs": [],
   "source": [
    "from commons.utils import EarlyStopping\n",
    "BASE_PATH = \"Omnianomaly_pytorch\"\n",
    "MODEL_PATH = os.path.join(BASE_PATH, \"checkpoints\", \"model.pt\")\n",
    "early_stopping = EarlyStopping(patience = 3, path = MODEL_PATH)"
   ],
   "metadata": {
    "collapsed": false,
    "pycharm": {
     "name": "#%%\n"
    }
   }
  },
  {
   "cell_type": "markdown",
   "source": [
    "## Train"
   ],
   "metadata": {
    "collapsed": false,
    "pycharm": {
     "name": "#%% md\n"
    }
   }
  },
  {
   "cell_type": "code",
   "execution_count": 10,
   "outputs": [
    {
     "data": {
      "text/plain": "  0%|          | 0/26 [00:00<?, ?it/s]",
      "application/vnd.jupyter.widget-view+json": {
       "version_major": 2,
       "version_minor": 0,
       "model_id": "46b604f5dfa546c0908e3a05db102ac8"
      }
     },
     "metadata": {},
     "output_type": "display_data"
    },
    {
     "data": {
      "text/plain": "training:   0%|          | 0/3881 [00:00<?, ?it/s]",
      "application/vnd.jupyter.widget-view+json": {
       "version_major": 2,
       "version_minor": 0,
       "model_id": "aa27d68b0bba40869b6d608a41d530fd"
      }
     },
     "metadata": {},
     "output_type": "display_data"
    },
    {
     "data": {
      "text/plain": "training:   0%|          | 0/3881 [00:00<?, ?it/s]",
      "application/vnd.jupyter.widget-view+json": {
       "version_major": 2,
       "version_minor": 0,
       "model_id": "f91118ea749146a1a34815528d4a2d38"
      }
     },
     "metadata": {},
     "output_type": "display_data"
    },
    {
     "data": {
      "text/plain": "training:   0%|          | 0/3881 [00:00<?, ?it/s]",
      "application/vnd.jupyter.widget-view+json": {
       "version_major": 2,
       "version_minor": 0,
       "model_id": "7baa44b7899c4540a4aa1fbbbcbe2239"
      }
     },
     "metadata": {},
     "output_type": "display_data"
    },
    {
     "data": {
      "text/plain": "training:   0%|          | 0/3881 [00:00<?, ?it/s]",
      "application/vnd.jupyter.widget-view+json": {
       "version_major": 2,
       "version_minor": 0,
       "model_id": "d1639d84e8424b688c3a70fbba0a6571"
      }
     },
     "metadata": {},
     "output_type": "display_data"
    },
    {
     "data": {
      "text/plain": "training:   0%|          | 0/3881 [00:00<?, ?it/s]",
      "application/vnd.jupyter.widget-view+json": {
       "version_major": 2,
       "version_minor": 0,
       "model_id": "d4f97fb761ed40819a8a8c7b4395c9dd"
      }
     },
     "metadata": {},
     "output_type": "display_data"
    },
    {
     "data": {
      "text/plain": "training:   0%|          | 0/3881 [00:00<?, ?it/s]",
      "application/vnd.jupyter.widget-view+json": {
       "version_major": 2,
       "version_minor": 0,
       "model_id": "2bb533479919438ca54fd7e8c25b33a1"
      }
     },
     "metadata": {},
     "output_type": "display_data"
    },
    {
     "data": {
      "text/plain": "training:   0%|          | 0/3881 [00:00<?, ?it/s]",
      "application/vnd.jupyter.widget-view+json": {
       "version_major": 2,
       "version_minor": 0,
       "model_id": "708b16e5a727481db23eab6f4bc2b749"
      }
     },
     "metadata": {},
     "output_type": "display_data"
    },
    {
     "data": {
      "text/plain": "training:   0%|          | 0/3881 [00:00<?, ?it/s]",
      "application/vnd.jupyter.widget-view+json": {
       "version_major": 2,
       "version_minor": 0,
       "model_id": "8fac8b7446354be1b71b79d347f37724"
      }
     },
     "metadata": {},
     "output_type": "display_data"
    },
    {
     "name": "stdout",
     "output_type": "stream",
     "text": [
      "EarlyStopping counter: 1 out of 3\n"
     ]
    },
    {
     "data": {
      "text/plain": "training:   0%|          | 0/3881 [00:00<?, ?it/s]",
      "application/vnd.jupyter.widget-view+json": {
       "version_major": 2,
       "version_minor": 0,
       "model_id": "87f91c3228be46e2b62841e9b3a30f49"
      }
     },
     "metadata": {},
     "output_type": "display_data"
    },
    {
     "data": {
      "text/plain": "training:   0%|          | 0/3881 [00:00<?, ?it/s]",
      "application/vnd.jupyter.widget-view+json": {
       "version_major": 2,
       "version_minor": 0,
       "model_id": "b4fd804afbe349c69dbd5f622e910592"
      }
     },
     "metadata": {},
     "output_type": "display_data"
    },
    {
     "data": {
      "text/plain": "training:   0%|          | 0/3881 [00:00<?, ?it/s]",
      "application/vnd.jupyter.widget-view+json": {
       "version_major": 2,
       "version_minor": 0,
       "model_id": "03355ce2c0bf41e485c8b75e8cf5dfe2"
      }
     },
     "metadata": {},
     "output_type": "display_data"
    },
    {
     "name": "stdout",
     "output_type": "stream",
     "text": [
      "EarlyStopping counter: 1 out of 3\n"
     ]
    },
    {
     "data": {
      "text/plain": "training:   0%|          | 0/3881 [00:00<?, ?it/s]",
      "application/vnd.jupyter.widget-view+json": {
       "version_major": 2,
       "version_minor": 0,
       "model_id": "149128bfb6b245918aa1645b13c3d5f9"
      }
     },
     "metadata": {},
     "output_type": "display_data"
    },
    {
     "data": {
      "text/plain": "training:   0%|          | 0/3881 [00:00<?, ?it/s]",
      "application/vnd.jupyter.widget-view+json": {
       "version_major": 2,
       "version_minor": 0,
       "model_id": "5cd8ea5204794d27b2bf4600bf638dc3"
      }
     },
     "metadata": {},
     "output_type": "display_data"
    },
    {
     "name": "stdout",
     "output_type": "stream",
     "text": [
      "EarlyStopping counter: 1 out of 3\n"
     ]
    },
    {
     "data": {
      "text/plain": "training:   0%|          | 0/3881 [00:00<?, ?it/s]",
      "application/vnd.jupyter.widget-view+json": {
       "version_major": 2,
       "version_minor": 0,
       "model_id": "25387cbc2b08475085c85f7afe353800"
      }
     },
     "metadata": {},
     "output_type": "display_data"
    },
    {
     "name": "stdout",
     "output_type": "stream",
     "text": [
      "EarlyStopping counter: 2 out of 3\n"
     ]
    },
    {
     "data": {
      "text/plain": "training:   0%|          | 0/3881 [00:00<?, ?it/s]",
      "application/vnd.jupyter.widget-view+json": {
       "version_major": 2,
       "version_minor": 0,
       "model_id": "fa0ed20356304b379c8345f546ba35bf"
      }
     },
     "metadata": {},
     "output_type": "display_data"
    },
    {
     "name": "stdout",
     "output_type": "stream",
     "text": [
      "EarlyStopping counter: 3 out of 3\n",
      "Early stopping.\n"
     ]
    }
   ],
   "source": [
    "best_loss = None\n",
    "epochs = tqdm(range(args.max_iter//len(train_loader)+1), leave=True)\n",
    "for epoch in epochs:\n",
    "    model.train()\n",
    "    optimizer.zero_grad()\n",
    "    train_iterator = tqdm(enumerate(train_loader), total=len(train_loader), desc=\"training\", leave=True)\n",
    "\n",
    "    train_loss = 0.0\n",
    "    for i, batch_data in train_iterator:\n",
    "        batch_data = batch_data[0].to(args.device)\n",
    "        predict_values, mu, logvar = model(batch_data)\n",
    "\n",
    "        optimizer.zero_grad()\n",
    "        loss = loss_function(batch_data, predict_values, mu, logvar)\n",
    "        loss.backward()\n",
    "        optimizer.step()\n",
    "\n",
    "        train_loss += loss.item()\n",
    "        train_iterator.set_postfix({\n",
    "            \"train_loss\": float(loss),\n",
    "        })\n",
    "\n",
    "    train_loss = train_loss / len(train_loader)\n",
    "    epochs.set_postfix({\n",
    "         \"Train Loss\": train_loss,\n",
    "    })\n",
    "\n",
    "    early_stopping(train_loss, model)\n",
    "    if early_stopping.early_stop:\n",
    "        print(\"Early stopping.\")\n",
    "        break"
   ],
   "metadata": {
    "collapsed": false,
    "pycharm": {
     "name": "#%%\n"
    }
   }
  },
  {
   "cell_type": "code",
   "execution_count": 10,
   "outputs": [
    {
     "data": {
      "text/plain": "OmniAnomaly(\n  (qnet): Qnet(\n    (gru): GRU(51, 10, batch_first=True)\n    (dense): Linear(in_features=13, out_features=10, bias=True)\n    (linear_mu): Linear(in_features=10, out_features=3, bias=True)\n    (linear_sigma): Linear(in_features=10, out_features=3, bias=True)\n    (softplus): Softplus(beta=1, threshold=20)\n    (pnf): PlanarNormalizingFlow(\n      (linear): Linear(in_features=3, out_features=3, bias=True)\n      (tanh): Tanh()\n    )\n  )\n  (pnet): Pnet(\n    (gru): GRU(3, 10, batch_first=True)\n    (LGSSM): Linear(in_features=3, out_features=3, bias=True)\n    (dense): Linear(in_features=10, out_features=10, bias=True)\n    (linear_mu): Linear(in_features=10, out_features=51, bias=True)\n    (linear_sigma): Linear(in_features=10, out_features=51, bias=True)\n    (softplus): Softplus(beta=1, threshold=20)\n  )\n)"
     },
     "execution_count": 10,
     "metadata": {},
     "output_type": "execute_result"
    }
   ],
   "source": [
    "model = OmniAnomaly(\n",
    "    in_dim=args.input_size,\n",
    "    hidden_dim=10,\n",
    "    z_dim=3,\n",
    "    dense_dim=10,\n",
    "    out_dim=args.input_size\n",
    ")\n",
    "\n",
    "model.load_state_dict(torch.load(MODEL_PATH))\n",
    "model.to(args.device)"
   ],
   "metadata": {
    "collapsed": false,
    "pycharm": {
     "name": "#%%\n"
    }
   }
  },
  {
   "cell_type": "markdown",
   "source": [
    "## Calculate anomaly score"
   ],
   "metadata": {
    "collapsed": false,
    "pycharm": {
     "name": "#%% md\n"
    }
   }
  },
  {
   "cell_type": "code",
   "execution_count": 11,
   "outputs": [
    {
     "data": {
      "text/plain": "Getting Loss List:   0%|          | 0/3881 [00:00<?, ?it/s]",
      "application/vnd.jupyter.widget-view+json": {
       "version_major": 2,
       "version_minor": 0,
       "model_id": "216c4bbbe2244e23937eb07335ee6902"
      }
     },
     "metadata": {},
     "output_type": "display_data"
    },
    {
     "name": "stderr",
     "output_type": "stream",
     "text": [
      "/home/nas3_userJ/dmkim/anaconda3/envs/TSAD/lib/python3.9/site-packages/torch/nn/_reduction.py:42: UserWarning: size_average and reduce args will be deprecated, please use reduction='none' instead.\n",
      "  warnings.warn(warning.format(ret))\n"
     ]
    },
    {
     "name": "stdout",
     "output_type": "stream",
     "text": [
      "loss list created: (496701, 51)\n"
     ]
    },
    {
     "data": {
      "text/plain": "Getting Loss List:   0%|          | 0/3515 [00:00<?, ?it/s]",
      "application/vnd.jupyter.widget-view+json": {
       "version_major": 2,
       "version_minor": 0,
       "model_id": "895666c33a6949ca905c0ab306e6fa5f"
      }
     },
     "metadata": {},
     "output_type": "display_data"
    },
    {
     "name": "stdout",
     "output_type": "stream",
     "text": [
      "loss list created: (449820, 51)\n"
     ]
    }
   ],
   "source": [
    "from Omnianomaly_pytorch.utils import get_loss_list\n",
    "from data.load_data import load_anomaly_intervals\n",
    "\n",
    "train_loss_list = get_loss_list(args, model, train_loader, F.mse_loss)\n",
    "test_loss_list = get_loss_list(args, model, test_loader, F.mse_loss)\n",
    "\n",
    "anomaly_scores = np.mean(test_loss_list, axis = 1)\n",
    "\n",
    "x = list(range(len(anomaly_scores)))\n",
    "y = anomaly_scores\n",
    "intervals = load_anomaly_intervals(anomaly_labels = test_y, window_size = args.window_size)"
   ],
   "metadata": {
    "collapsed": false,
    "pycharm": {
     "name": "#%%\n"
    }
   }
  },
  {
   "cell_type": "code",
   "execution_count": 12,
   "outputs": [
    {
     "data": {
      "text/plain": "[<matplotlib.lines.Line2D at 0x7fe8ac04b910>]"
     },
     "execution_count": 12,
     "metadata": {},
     "output_type": "execute_result"
    },
    {
     "data": {
      "text/plain": "<Figure size 432x288 with 1 Axes>",
      "image/png": "[encoded data removed]"
     },
     "metadata": {
      "needs_background": "light"
     },
     "output_type": "display_data"
    }
   ],
   "source": [
    "plt.plot(anomaly_scores)"
   ],
   "metadata": {
    "collapsed": false,
    "pycharm": {
     "name": "#%%\n"
    }
   }
  },
  {
   "cell_type": "code",
   "execution_count": 13,
   "outputs": [
    {
     "data": {
      "text/plain": "<Figure size 1152x432 with 1 Axes>",
      "image/png": "[encoded data removed]"
     },
     "metadata": {
      "needs_background": "light"
     },
     "output_type": "display_data"
    }
   ],
   "source": [
    "fig = plt.figure(figsize=(16, 6))\n",
    "ax=fig.add_subplot()\n",
    "\n",
    "ax.plot(x, y)\n",
    "plt.rcParams['axes.facecolor']='white'\n",
    "for s, e in intervals:\n",
    "    ax.axvspan(s, e, alpha=0.2, color='orange')"
   ],
   "metadata": {
    "collapsed": false,
    "pycharm": {
     "name": "#%%\n"
    }
   }
  },
  {
   "cell_type": "markdown",
   "source": [
    "### Finding Threshold"
   ],
   "metadata": {
    "collapsed": false
   }
  },
  {
   "cell_type": "code",
   "execution_count": 14,
   "outputs": [],
   "source": [
    "from sklearn.metrics import precision_score, recall_score, f1_score, confusion_matrix, classification_report\n",
    "import seaborn as sns"
   ],
   "metadata": {
    "collapsed": false,
    "pycharm": {
     "name": "#%%\n"
    }
   }
  },
  {
   "cell_type": "code",
   "execution_count": 15,
   "outputs": [
    {
     "data": {
      "text/plain": "(449820, 0.033600952)"
     },
     "execution_count": 15,
     "metadata": {},
     "output_type": "execute_result"
    }
   ],
   "source": [
    "len(anomaly_scores), anomaly_scores[0]"
   ],
   "metadata": {
    "collapsed": false,
    "pycharm": {
     "name": "#%%\n"
    }
   }
  },
  {
   "cell_type": "code",
   "execution_count": 16,
   "outputs": [
    {
     "data": {
      "text/plain": "(0.028480532, 0.34501815)"
     },
     "execution_count": 16,
     "metadata": {},
     "output_type": "execute_result"
    }
   ],
   "source": [
    "anomaly_min, anomaly_max = np.min(anomaly_scores), np.max(anomaly_scores)\n",
    "anomaly_min, anomaly_max"
   ],
   "metadata": {
    "collapsed": false,
    "pycharm": {
     "name": "#%%\n"
    }
   }
  },
  {
   "cell_type": "code",
   "execution_count": 17,
   "outputs": [
    {
     "data": {
      "text/plain": "(449820,)"
     },
     "execution_count": 17,
     "metadata": {},
     "output_type": "execute_result"
    }
   ],
   "source": [
    "anomaly_scores.shape"
   ],
   "metadata": {
    "collapsed": false,
    "pycharm": {
     "name": "#%%\n"
    }
   }
  },
  {
   "cell_type": "code",
   "execution_count": 18,
   "outputs": [
    {
     "data": {
      "text/plain": "(449919,)"
     },
     "execution_count": 18,
     "metadata": {},
     "output_type": "execute_result"
    }
   ],
   "source": [
    "test_y.shape"
   ],
   "metadata": {
    "collapsed": false,
    "pycharm": {
     "name": "#%%\n"
    }
   }
  },
  {
   "cell_type": "code",
   "execution_count": 19,
   "outputs": [],
   "source": [
    "thresholds = np.linspace(anomaly_min, anomaly_max, 100)"
   ],
   "metadata": {
    "collapsed": false,
    "pycharm": {
     "name": "#%%\n"
    }
   }
  },
  {
   "cell_type": "code",
   "execution_count": 20,
   "outputs": [],
   "source": [
    "precisions = []\n",
    "recalls = []\n",
    "f1s = []\n",
    "\n",
    "for threshold in thresholds:\n",
    "    anomaly_prediction = (anomaly_scores > threshold).astype(int)\n",
    "    target_y = test_y[args.window_size-1:]\n",
    "\n",
    "    precisions.append(precision_score(target_y, anomaly_prediction, zero_division = 1))\n",
    "    recalls.append(recall_score(target_y, anomaly_prediction, zero_division = 1))\n",
    "    f1s.append(f1_score(target_y, anomaly_prediction, zero_division = 1))"
   ],
   "metadata": {
    "collapsed": false,
    "pycharm": {
     "name": "#%%\n"
    }
   }
  },
  {
   "cell_type": "markdown",
   "source": [],
   "metadata": {
    "collapsed": false
   }
  },
  {
   "cell_type": "code",
   "execution_count": 21,
   "outputs": [
    {
     "data": {
      "text/plain": "<Figure size 432x288 with 1 Axes>",
      "image/png": "[encoded data removed]"
     },
     "metadata": {
      "needs_background": "light"
     },
     "output_type": "display_data"
    }
   ],
   "source": [
    "plt.plot(thresholds, precisions, label = \"precision\")\n",
    "plt.plot(thresholds, recalls, label = \"recall\")\n",
    "plt.plot(thresholds, f1s, label = \"f1\")\n",
    "plt.legend()\n",
    "plt.show()"
   ],
   "metadata": {
    "collapsed": false,
    "pycharm": {
     "name": "#%%\n"
    }
   }
  },
  {
   "cell_type": "code",
   "execution_count": 22,
   "outputs": [],
   "source": [
    "threshold_idx = np.argmax(f1s)"
   ],
   "metadata": {
    "collapsed": false,
    "pycharm": {
     "name": "#%%\n"
    }
   }
  },
  {
   "cell_type": "code",
   "execution_count": 23,
   "outputs": [],
   "source": [
    "best_threshold = thresholds[threshold_idx]"
   ],
   "metadata": {
    "collapsed": false,
    "pycharm": {
     "name": "#%%\n"
    }
   }
  },
  {
   "cell_type": "code",
   "execution_count": 24,
   "outputs": [
    {
     "data": {
      "text/plain": "<Figure size 1152x432 with 1 Axes>",
      "image/png": "[encoded data removed]"
     },
     "metadata": {
      "needs_background": "light"
     },
     "output_type": "display_data"
    }
   ],
   "source": [
    "fig = plt.figure(figsize=(16, 6))\n",
    "ax=fig.add_subplot()\n",
    "ax.axhline(y = best_threshold, color = \"r\")\n",
    "ax.plot(x, y)\n",
    "plt.rcParams['axes.facecolor']='white'\n",
    "for s, e in intervals:\n",
    "    ax.axvspan(s, e, alpha=0.2, color='orange')"
   ],
   "metadata": {
    "collapsed": false,
    "pycharm": {
     "name": "#%%\n"
    }
   }
  },
  {
   "cell_type": "code",
   "execution_count": 25,
   "outputs": [
    {
     "data": {
      "text/plain": "(0.9493150684931507, 0.6221053788656017, 0.7516435354273192)"
     },
     "execution_count": 25,
     "metadata": {},
     "output_type": "execute_result"
    }
   ],
   "source": [
    "anomaly_prediction = (anomaly_scores > best_threshold).astype(int)\n",
    "target_y = test_y[args.window_size-1:]\n",
    "\n",
    "p, r, f = precision_score(target_y, anomaly_prediction), recall_score(target_y, anomaly_prediction),f1_score(target_y, anomaly_prediction)\n",
    "p, r, f"
   ],
   "metadata": {
    "collapsed": false,
    "pycharm": {
     "name": "#%%\n"
    }
   }
  },
  {
   "cell_type": "code",
   "execution_count": 26,
   "outputs": [
    {
     "name": "stdout",
     "output_type": "stream",
     "text": [
      "[[393423   1813]\n",
      " [ 20627  33957]]\n"
     ]
    }
   ],
   "source": [
    "print(confusion_matrix(target_y, anomaly_prediction))"
   ],
   "metadata": {
    "collapsed": false,
    "pycharm": {
     "name": "#%%\n"
    }
   }
  },
  {
   "cell_type": "code",
   "execution_count": 27,
   "outputs": [
    {
     "data": {
      "text/plain": "<AxesSubplot:>"
     },
     "execution_count": 27,
     "metadata": {},
     "output_type": "execute_result"
    },
    {
     "data": {
      "text/plain": "<Figure size 432x288 with 2 Axes>",
      "image/png": "[encoded data removed]"
     },
     "metadata": {
      "needs_background": "light"
     },
     "output_type": "display_data"
    }
   ],
   "source": [
    "sns.heatmap(confusion_matrix(target_y, anomaly_prediction), annot = True, fmt = \"d\")"
   ],
   "metadata": {
    "collapsed": false,
    "pycharm": {
     "name": "#%%\n"
    }
   }
  },
  {
   "cell_type": "code",
   "execution_count": null,
   "outputs": [],
   "source": [],
   "metadata": {
    "collapsed": false,
    "pycharm": {
     "name": "#%%\n"
    }
   }
  }
 ],
 "metadata": {
  "kernelspec": {
   "display_name": "Python 3",
   "language": "python",
   "name": "python3"
  },
  "language_info": {
   "codemirror_mode": {
    "name": "ipython",
    "version": 2
   },
   "file_extension": ".py",
   "mimetype": "text/x-python",
   "name": "python",
   "nbconvert_exporter": "python",
   "pygments_lexer": "ipython2",
   "version": "2.7.6"
  }
 },
 "nbformat": 4,
 "nbformat_minor": 0
}