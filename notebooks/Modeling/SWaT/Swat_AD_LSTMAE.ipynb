{
 "cells": [
  {
   "cell_type": "markdown",
   "source": [
    "# SWaT Anomaly Detection with LSTMAE\n",
    "\n",
    "by dongmin kim (tommy.dm.kim@gmail.com)"
   ],
   "metadata": {
    "collapsed": false,
    "pycharm": {
     "name": "#%% md\n"
    }
   }
  },
  {
   "cell_type": "code",
   "execution_count": 1,
   "outputs": [],
   "source": [
    "import sys\n",
    "HOME = \"../../../\"\n",
    "sys.path.append(HOME) # repo home"
   ],
   "metadata": {
    "collapsed": false,
    "pycharm": {
     "name": "#%%\n"
    }
   }
  },
  {
   "cell_type": "code",
   "execution_count": 2,
   "metadata": {
    "collapsed": true
   },
   "outputs": [],
   "source": [
    "import pandas as pd\n",
    "import os\n",
    "import pickle\n",
    "import matplotlib.pyplot as plt\n",
    "from tqdm.notebook import tqdm\n",
    "import torch\n",
    "from torch import nn\n",
    "from torch.nn import functional as F\n",
    "from torch.utils.data import DataLoader, Dataset\n",
    "import numpy as np\n",
    "import easydict"
   ]
  },
  {
   "cell_type": "markdown",
   "source": [
    "## Configure settings"
   ],
   "metadata": {
    "collapsed": false
   }
  },
  {
   "cell_type": "code",
   "execution_count": 3,
   "outputs": [],
   "source": [
    "args = easydict.EasyDict({\n",
    "    # general\n",
    "    \"dataset\": \"SWaT\",\n",
    "    \"batch_size\": 64,\n",
    "    \"lr\": 1e-03,\n",
    "    \"window_size\": 100,\n",
    "    \"epochs\": 30,\n",
    "    \"use_tqdm\": True,\n",
    "    \"tqdmopt\": \"notebook\",\n",
    "    \"load_pretrained\": True,\n",
    "\n",
    "    # model-specific (LSTMAE)\n",
    "    \"model\": \"LSTMAE\",\n",
    "    \"latent_dim\": 128,\n",
    "    \"num_layers\": 1,\n",
    "\n",
    "    # others\n",
    "    \"device\": torch.device('cuda') if torch.cuda.is_available() else torch.device('cpu'),\n",
    "})"
   ],
   "metadata": {
    "collapsed": false,
    "pycharm": {
     "name": "#%%\n"
    }
   }
  },
  {
   "cell_type": "code",
   "execution_count": 4,
   "outputs": [],
   "source": [
    "config = \"\"\n",
    "config += f\"_dataset_{args.dataset}\" \\\n",
    "          f\"_batch_size_{args.batch_size}\" \\\n",
    "          f\"_lr_{args.lr}\" \\\n",
    "          f\"_window_size_{args.window_size}\" \\\n",
    "\n",
    "config += f\"_model_{args.model}\" \\\n",
    "          f\"_latent_dim_{args.latent_dim}\" \\\n",
    "          f\"_num_layers_{args.num_layers}\"\n",
    "\n",
    "args.config = config"
   ],
   "metadata": {
    "collapsed": false,
    "pycharm": {
     "name": "#%%\n"
    }
   }
  },
  {
   "cell_type": "code",
   "execution_count": 16,
   "outputs": [],
   "source": [
    "# PATH to save model\n",
    "os.makedirs(os.path.join(HOME, \"models\", \"checkpoints\", f\"{args.config}\"), exist_ok=True)\n",
    "args.model_path = os.path.join(HOME, \"models\", \"checkpoints\", f\"{args.config}\", \"model.pt\")\n",
    "\n",
    "# PATH to save result figures\n",
    "os.makedirs(os.path.join(HOME, \"results\"), exist_ok=True)\n",
    "os.makedirs(os.path.join(HOME, \"results\", args.model), exist_ok=True)\n",
    "os.makedirs(os.path.join(HOME, \"results\", args.model, args.config), exist_ok=True)\n",
    "args.result_path = os.path.join(\"results\", args.model, args.config)\n",
    "args.device = torch.device(\"cuda\" if torch.cuda.is_available() else \"cpu\")"
   ],
   "metadata": {
    "collapsed": false,
    "pycharm": {
     "name": "#%%\n"
    }
   }
  },
  {
   "cell_type": "markdown",
   "source": [
    "## Load data"
   ],
   "metadata": {
    "collapsed": false,
    "pycharm": {
     "name": "#%% md\n"
    }
   }
  },
  {
   "cell_type": "code",
   "execution_count": 17,
   "outputs": [
    {
     "name": "stdout",
     "output_type": "stream",
     "text": [
      "Reading SWaT...\n",
      "current location: /home/nas3_userJ/dmkim/TSAD/notebooks/Modeling/SWaT\n",
      "home dir: ../../../\n",
      "Loading complete.\n"
     ]
    }
   ],
   "source": [
    "from data.load_data import load_data\n",
    "from data.dataset import get_dataset\n",
    "\n",
    "train_x, train_y, test_x, test_y = load_data(args.dataset, HOME)\n",
    "\n",
    "train_dataset = get_dataset(train_x, train_y, window_size = args.window_size, dataset_type=args.dataset)\n",
    "test_dataset = get_dataset(test_x, test_y, window_size = args.window_size, dataset_type=args.dataset)\n",
    "\n",
    "train_loader = torch.utils.data.DataLoader(\n",
    "                 dataset=train_dataset,\n",
    "                 batch_size=args.batch_size,\n",
    "                 shuffle=True)\n",
    "test_loader = torch.utils.data.DataLoader(\n",
    "                dataset=test_dataset,\n",
    "                batch_size=args.batch_size,\n",
    "                shuffle=False)\n",
    "\n",
    "args.input_dim = train_x.shape[1]"
   ],
   "metadata": {
    "collapsed": false,
    "pycharm": {
     "name": "#%%\n"
    }
   }
  },
  {
   "cell_type": "markdown",
   "source": [
    "## Model"
   ],
   "metadata": {
    "collapsed": false,
    "pycharm": {
     "name": "#%% md\n"
    }
   }
  },
  {
   "cell_type": "code",
   "execution_count": 18,
   "outputs": [
    {
     "name": "stdout",
     "output_type": "stream",
     "text": [
      "setting model to cuda...\n"
     ]
    },
    {
     "name": "stderr",
     "output_type": "stream",
     "text": [
      "/home/nas3_userJ/dmkim/anaconda3/envs/TSAD/lib/python3.9/site-packages/torch/nn/modules/rnn.py:62: UserWarning: dropout option adds dropout after all but last recurrent layer, so non-zero dropout expects num_layers greater than 1, but got dropout=0.1 and num_layers=1\n",
      "  warnings.warn(\"dropout option adds dropout after all but last \"\n"
     ]
    },
    {
     "data": {
      "text/plain": "LSTMAutoEncoder(\n  (encoder): Encoder(\n    (lstm): LSTM(51, 128, batch_first=True, dropout=0.1)\n  )\n  (reconstruct_decoder): Decoder(\n    (lstm): LSTM(51, 128, batch_first=True, dropout=0.1)\n    (relu): ReLU()\n    (fc): Linear(in_features=128, out_features=51, bias=True)\n  )\n)"
     },
     "execution_count": 18,
     "metadata": {},
     "output_type": "execute_result"
    }
   ],
   "source": [
    "from models.utils import prepare_model, prepare_loss_fn\n",
    "print(f\"setting model to {args.device}...\")\n",
    "model = prepare_model(args)\n",
    "model.to(args.device)"
   ],
   "metadata": {
    "collapsed": false,
    "pycharm": {
     "name": "#%%\n"
    }
   }
  },
  {
   "cell_type": "code",
   "execution_count": 19,
   "outputs": [
    {
     "name": "stdout",
     "output_type": "stream",
     "text": [
      "loading pretrained model at ../../../models/checkpoints/_dataset_SWaT_batch_size_64_lr_0.001_window_size_100_model_LSTMAE_latent_dim_128_num_layers_1/model.pt...\n",
      "done\n"
     ]
    }
   ],
   "source": [
    "from exp import LSTMAE_Trainer\n",
    "if args.load_pretrained is True:\n",
    "    print(f\"loading pretrained model at {args.model_path}...\")\n",
    "    best_model = model\n",
    "    best_model.load_state_dict(torch.load(args.model_path))\n",
    "    best_model.to(args.device)\n",
    "    print(\"done\")\n",
    "else:\n",
    "    print(\"start training...\")\n",
    "    optimizer = torch.optim.Adam(params=model.parameters(), lr = args.lr)\n",
    "    loss_fn = prepare_loss_fn(args)\n",
    "\n",
    "    trainer = LSTMAE_Trainer(\n",
    "        args=args,\n",
    "        model=model,\n",
    "        train_loader=train_loader,\n",
    "        loss_fn=loss_fn,\n",
    "        optimizer=optimizer,\n",
    "    )\n",
    "\n",
    "    best_model = trainer.train()"
   ],
   "metadata": {
    "collapsed": false,
    "pycharm": {
     "name": "#%%\n"
    }
   }
  },
  {
   "cell_type": "code",
   "execution_count": 20,
   "outputs": [
    {
     "data": {
      "text/plain": "train iterator:   0%|          | 0/7761 [00:00<?, ?it/s]",
      "application/vnd.jupyter.widget-view+json": {
       "version_major": 2,
       "version_minor": 0,
       "model_id": "766ad1ae77e54316a69a4dfb78e83bc1"
      }
     },
     "metadata": {},
     "output_type": "display_data"
    },
    {
     "data": {
      "text/plain": "test iterator:   0%|          | 0/7029 [00:00<?, ?it/s]",
      "application/vnd.jupyter.widget-view+json": {
       "version_major": 2,
       "version_minor": 0,
       "model_id": "fdb78357122f45b180b37f8221e0e114"
      }
     },
     "metadata": {},
     "output_type": "display_data"
    },
    {
     "name": "stderr",
     "output_type": "stream",
     "text": [
      "/home/nas3_userJ/dmkim/anaconda3/envs/TSAD/lib/python3.9/site-packages/torch/nn/_reduction.py:42: UserWarning: size_average and reduce args will be deprecated, please use reduction='none' instead.\n",
      "  warnings.warn(warning.format(ret))\n"
     ]
    }
   ],
   "source": [
    "from exp import LSTMAE_Tester\n",
    "\n",
    "tester = LSTMAE_Tester(\n",
    "    args = args,\n",
    "    model = best_model,\n",
    "    train_loader = train_loader,\n",
    "    test_loader = test_loader,\n",
    ")"
   ],
   "metadata": {
    "collapsed": false,
    "pycharm": {
     "name": "#%%\n"
    }
   }
  },
  {
   "cell_type": "code",
   "execution_count": 21,
   "outputs": [],
   "source": [
    "from data.load_data import load_anomaly_intervals"
   ],
   "metadata": {
    "collapsed": false,
    "pycharm": {
     "name": "#%%\n"
    }
   }
  },
  {
   "cell_type": "code",
   "execution_count": 22,
   "outputs": [
    {
     "name": "stdout",
     "output_type": "stream",
     "text": [
      "=== Anomaly statistics ===\n",
      "Total: 449820\n",
      "mean[1.421180077988396e-05], median[6.503751112643662e-06], min[1.6407375634432881e-06], max[0.00205433019397719]\n"
     ]
    }
   ],
   "source": [
    "anomaly_scores = tester.get_anomaly_score()"
   ],
   "metadata": {
    "collapsed": false,
    "pycharm": {
     "name": "#%%\n"
    }
   }
  },
  {
   "cell_type": "code",
   "execution_count": 23,
   "outputs": [],
   "source": [
    "intervals = load_anomaly_intervals(anomaly_labels = test_y, window_size = args.window_size)"
   ],
   "metadata": {
    "collapsed": false,
    "pycharm": {
     "name": "#%%\n"
    }
   }
  },
  {
   "cell_type": "code",
   "execution_count": 24,
   "outputs": [
    {
     "name": "stdout",
     "output_type": "stream",
     "text": [
      "finding best threshold...\n",
      "done.\n",
      "plotting metrics...\n"
     ]
    },
    {
     "data": {
      "text/plain": "<Figure size 432x288 with 1 Axes>",
      "image/png": "[encoded data removed]"
     },
     "metadata": {
      "needs_background": "light"
     },
     "output_type": "display_data"
    },
    {
     "name": "stdout",
     "output_type": "stream",
     "text": [
      "plotting anomaly scores with thresholds...\n"
     ]
    },
    {
     "data": {
      "text/plain": "<Figure size 1152x432 with 1 Axes>",
      "image/png": "[encoded data removed]"
     },
     "metadata": {
      "needs_background": "light"
     },
     "output_type": "display_data"
    },
    {
     "name": "stdout",
     "output_type": "stream",
     "text": [
      "plotting final statistics...\n",
      "best threshold: 4.310921143038766e-05\n",
      "accuracy: 0.9494286603530301 precision 0.91775141717405 recall 0.640663930822219 f1 0.7545744864491628\n"
     ]
    },
    {
     "data": {
      "text/plain": "<Figure size 432x288 with 2 Axes>",
      "image/png": "[encoded data removed]"
     },
     "metadata": {
      "needs_background": "light"
     },
     "output_type": "display_data"
    }
   ],
   "source": [
    "best_threshold = tester.regular_thresholding(test_y, anomaly_scores, intervals, num_candidates = 100)"
   ],
   "metadata": {
    "collapsed": false,
    "pycharm": {
     "name": "#%%\n"
    }
   }
  }
 ],
 "metadata": {
  "kernelspec": {
   "display_name": "Python 3",
   "language": "python",
   "name": "python3"
  },
  "language_info": {
   "codemirror_mode": {
    "name": "ipython",
    "version": 2
   },
   "file_extension": ".py",
   "mimetype": "text/x-python",
   "name": "python",
   "nbconvert_exporter": "python",
   "pygments_lexer": "ipython2",
   "version": "2.7.6"
  }
 },
 "nbformat": 4,
 "nbformat_minor": 0
}