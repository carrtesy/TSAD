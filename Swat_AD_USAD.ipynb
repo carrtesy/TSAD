{
 "cells": [
  {
   "cell_type": "markdown",
   "source": [
    "# SWaT Anomaly Detection with USAD\n",
    "\n",
    "by dongmin kim (tommy.dm.kim@gmail.com)"
   ],
   "metadata": {
    "collapsed": false,
    "pycharm": {
     "name": "#%% md\n"
    }
   }
  },
  {
   "cell_type": "code",
   "execution_count": 1,
   "metadata": {
    "collapsed": true
   },
   "outputs": [],
   "source": [
    "import pandas as pd\n",
    "import os\n",
    "import pickle\n",
    "import matplotlib.pyplot as plt\n",
    "from tqdm.notebook import tqdm\n",
    "import torch\n",
    "from torch import nn\n",
    "from torch.nn import functional as F\n",
    "from torch.utils.data import DataLoader, Dataset\n",
    "import numpy as np\n",
    "import easydict"
   ]
  },
  {
   "cell_type": "markdown",
   "source": [
    "# Load data"
   ],
   "metadata": {
    "collapsed": false,
    "pycharm": {
     "name": "#%% md\n"
    }
   }
  },
  {
   "cell_type": "code",
   "execution_count": 2,
   "outputs": [],
   "source": [
    "from data.load_data import load_data\n",
    "\n",
    "SWAT_TRAIN_PATH = './data/SWaT/SWaT_Dataset_Normal_v0.csv'\n",
    "SWAT_TEST_PATH = './data/SWaT/SWaT_Dataset_Attack_v0.csv'\n",
    "train_x, train_y = load_data(SWAT_TRAIN_PATH)\n",
    "test_x, test_y = load_data(SWAT_TEST_PATH)"
   ],
   "metadata": {
    "collapsed": false,
    "pycharm": {
     "name": "#%%\n"
    }
   }
  },
  {
   "cell_type": "code",
   "execution_count": 5,
   "outputs": [],
   "source": [
    "args = easydict.EasyDict({\n",
    "    \"batch_size\": 128,\n",
    "    \"device\": torch.device('cuda') if torch.cuda.is_available() else torch.device('cpu'),\n",
    "    \"input_size\": train_x.shape[1],\n",
    "    \"latent_size\": 10,\n",
    "    \"output_size\": train_x.shape[1],\n",
    "    \"window_size\" : 100,\n",
    "    \"num_layers\": 2,\n",
    "    \"learning_rate\" : 0.001,\n",
    "    \"max_iter\" : 100000,\n",
    "    'early_stop' : True,\n",
    "})"
   ],
   "metadata": {
    "collapsed": false,
    "pycharm": {
     "name": "#%%\n"
    }
   }
  },
  {
   "cell_type": "code",
   "execution_count": 6,
   "outputs": [],
   "source": [
    "from data.dataset import SWaTDataset\n",
    "\n",
    "train_dataset = SWaTDataset(train_x, train_y, window_size=args.window_size)\n",
    "test_dataset = SWaTDataset(test_x, test_y, window_size=args.window_size)\n",
    "\n",
    "train_loader = torch.utils.data.DataLoader(\n",
    "                 dataset=train_dataset,\n",
    "                 batch_size=args.batch_size,\n",
    "                 shuffle=True)\n",
    "test_loader = torch.utils.data.DataLoader(\n",
    "                dataset=test_dataset,\n",
    "                batch_size=args.batch_size,\n",
    "                shuffle=False)"
   ],
   "metadata": {
    "collapsed": false,
    "pycharm": {
     "name": "#%%\n"
    }
   }
  },
  {
   "cell_type": "markdown",
   "source": [
    "# Model"
   ],
   "metadata": {
    "collapsed": false,
    "pycharm": {
     "name": "#%% md\n"
    }
   }
  },
  {
   "cell_type": "code",
   "execution_count": 8,
   "outputs": [
    {
     "data": {
      "text/plain": "USAD(\n  (encoder): Encoder(\n    (linear1): Linear(in_features=51, out_features=25, bias=True)\n    (relu1): ReLU()\n    (linear2): Linear(in_features=25, out_features=12, bias=True)\n    (relu2): ReLU()\n    (linear3): Linear(in_features=12, out_features=10, bias=True)\n    (relu3): ReLU()\n  )\n  (decoder1): Decoder(\n    (linear1): Linear(in_features=10, out_features=12, bias=True)\n    (relu1): ReLU()\n    (linear2): Linear(in_features=12, out_features=25, bias=True)\n    (relu2): ReLU()\n    (linear3): Linear(in_features=25, out_features=51, bias=True)\n    (sigmoid): Sigmoid()\n  )\n  (decoder2): Decoder(\n    (linear1): Linear(in_features=10, out_features=12, bias=True)\n    (relu1): ReLU()\n    (linear2): Linear(in_features=12, out_features=25, bias=True)\n    (relu2): ReLU()\n    (linear3): Linear(in_features=25, out_features=51, bias=True)\n    (sigmoid): Sigmoid()\n  )\n)"
     },
     "execution_count": 8,
     "metadata": {},
     "output_type": "execute_result"
    }
   ],
   "source": [
    "from USAD.model import USAD\n",
    "\n",
    "model = USAD(\n",
    "    input_size= args.input_size,\n",
    "    latent_space_size= args.latent_size\n",
    ")\n",
    "model.to(args.device)"
   ],
   "metadata": {
    "collapsed": false,
    "pycharm": {
     "name": "#%%\n"
    }
   }
  },
  {
   "cell_type": "markdown",
   "source": [
    "# Loss Function"
   ],
   "metadata": {
    "collapsed": false,
    "pycharm": {
     "name": "#%% md\n"
    }
   }
  },
  {
   "cell_type": "code",
   "execution_count": 26,
   "outputs": [],
   "source": [
    "MSE = nn.MSELoss()\n",
    "def loss_function(Wt, Wt1p, Wt2p, Wt2dp, n):\n",
    "    \"\"\"\n",
    "        :param Wt: ground truth sequence\n",
    "        :param Wt1p: AE1 decoder output\n",
    "        :param Wt2p: AE2 decoder output\n",
    "        :param Wt2dp: AE1 encoder output => AE2 decoder\n",
    "        :param n: Training epochs\n",
    "    \"\"\"\n",
    "    loss_AE1 = (1/n) * MSE(Wt, Wt1p) + (1-(1/n)) * MSE(Wt, Wt2dp)\n",
    "    loss_AE2 = (1/n) * MSE(Wt, Wt2p) - (1-(1/n)) * MSE(Wt, Wt2dp)\n",
    "    return loss_AE1 + loss_AE2"
   ],
   "metadata": {
    "collapsed": false,
    "pycharm": {
     "name": "#%%\n"
    }
   }
  },
  {
   "cell_type": "code",
   "execution_count": 27,
   "outputs": [],
   "source": [
    "optimizer = torch.optim.Adam(model.parameters(), lr=args.learning_rate)"
   ],
   "metadata": {
    "collapsed": false,
    "pycharm": {
     "name": "#%%\n"
    }
   }
  },
  {
   "cell_type": "code",
   "execution_count": 28,
   "outputs": [
    {
     "data": {
      "text/plain": "  0%|          | 0/26 [00:00<?, ?it/s]",
      "application/vnd.jupyter.widget-view+json": {
       "version_major": 2,
       "version_minor": 0,
       "model_id": "e457da0456024200beb9f87cccf127d7"
      }
     },
     "metadata": {},
     "output_type": "display_data"
    },
    {
     "data": {
      "text/plain": "training:   0%|          | 0/3881 [00:00<?, ?it/s]",
      "application/vnd.jupyter.widget-view+json": {
       "version_major": 2,
       "version_minor": 0,
       "model_id": "7ae5db78adc8469eadabbbae50099f84"
      }
     },
     "metadata": {},
     "output_type": "display_data"
    },
    {
     "data": {
      "text/plain": "testing:   0%|          | 0/3515 [00:00<?, ?it/s]",
      "application/vnd.jupyter.widget-view+json": {
       "version_major": 2,
       "version_minor": 0,
       "model_id": "e81281079470407b92843df2149c0f24"
      }
     },
     "metadata": {},
     "output_type": "display_data"
    },
    {
     "data": {
      "text/plain": "training:   0%|          | 0/3881 [00:00<?, ?it/s]",
      "application/vnd.jupyter.widget-view+json": {
       "version_major": 2,
       "version_minor": 0,
       "model_id": "bc9bb6f36c3b438fa08af8a31d8441e6"
      }
     },
     "metadata": {},
     "output_type": "display_data"
    },
    {
     "data": {
      "text/plain": "testing:   0%|          | 0/3515 [00:00<?, ?it/s]",
      "application/vnd.jupyter.widget-view+json": {
       "version_major": 2,
       "version_minor": 0,
       "model_id": "f3ecb3b0c8184c2e9a6eda3e944558d7"
      }
     },
     "metadata": {},
     "output_type": "display_data"
    },
    {
     "data": {
      "text/plain": "training:   0%|          | 0/3881 [00:00<?, ?it/s]",
      "application/vnd.jupyter.widget-view+json": {
       "version_major": 2,
       "version_minor": 0,
       "model_id": "741af7d66eb04a96ba7c87360dbce4f7"
      }
     },
     "metadata": {},
     "output_type": "display_data"
    },
    {
     "data": {
      "text/plain": "testing:   0%|          | 0/3515 [00:00<?, ?it/s]",
      "application/vnd.jupyter.widget-view+json": {
       "version_major": 2,
       "version_minor": 0,
       "model_id": "456fd166a403461f9f49e2ea2673aa60"
      }
     },
     "metadata": {},
     "output_type": "display_data"
    },
    {
     "data": {
      "text/plain": "training:   0%|          | 0/3881 [00:00<?, ?it/s]",
      "application/vnd.jupyter.widget-view+json": {
       "version_major": 2,
       "version_minor": 0,
       "model_id": "da4b43881d3d4dedb03830f89557cf5f"
      }
     },
     "metadata": {},
     "output_type": "display_data"
    },
    {
     "data": {
      "text/plain": "testing:   0%|          | 0/3515 [00:00<?, ?it/s]",
      "application/vnd.jupyter.widget-view+json": {
       "version_major": 2,
       "version_minor": 0,
       "model_id": "4fe7b6c3a2154d65b7e8d3ea05df7fab"
      }
     },
     "metadata": {},
     "output_type": "display_data"
    },
    {
     "data": {
      "text/plain": "training:   0%|          | 0/3881 [00:00<?, ?it/s]",
      "application/vnd.jupyter.widget-view+json": {
       "version_major": 2,
       "version_minor": 0,
       "model_id": "362c95615f434eafbc02c60cf7e76fb6"
      }
     },
     "metadata": {},
     "output_type": "display_data"
    },
    {
     "data": {
      "text/plain": "testing:   0%|          | 0/3515 [00:00<?, ?it/s]",
      "application/vnd.jupyter.widget-view+json": {
       "version_major": 2,
       "version_minor": 0,
       "model_id": "98dfb52189974836848c1428785eb55a"
      }
     },
     "metadata": {},
     "output_type": "display_data"
    },
    {
     "data": {
      "text/plain": "training:   0%|          | 0/3881 [00:00<?, ?it/s]",
      "application/vnd.jupyter.widget-view+json": {
       "version_major": 2,
       "version_minor": 0,
       "model_id": "a86a533acac14c53a2bc9560ec337f1f"
      }
     },
     "metadata": {},
     "output_type": "display_data"
    },
    {
     "data": {
      "text/plain": "testing:   0%|          | 0/3515 [00:00<?, ?it/s]",
      "application/vnd.jupyter.widget-view+json": {
       "version_major": 2,
       "version_minor": 0,
       "model_id": "29540dcfd5d74060a81f711f28269f16"
      }
     },
     "metadata": {},
     "output_type": "display_data"
    },
    {
     "data": {
      "text/plain": "training:   0%|          | 0/3881 [00:00<?, ?it/s]",
      "application/vnd.jupyter.widget-view+json": {
       "version_major": 2,
       "version_minor": 0,
       "model_id": "099fe5226d0243d083d50921771c4ee8"
      }
     },
     "metadata": {},
     "output_type": "display_data"
    },
    {
     "data": {
      "text/plain": "testing:   0%|          | 0/3515 [00:00<?, ?it/s]",
      "application/vnd.jupyter.widget-view+json": {
       "version_major": 2,
       "version_minor": 0,
       "model_id": "0af1698f682d4e2592fc9001c38f8efe"
      }
     },
     "metadata": {},
     "output_type": "display_data"
    },
    {
     "data": {
      "text/plain": "training:   0%|          | 0/3881 [00:00<?, ?it/s]",
      "application/vnd.jupyter.widget-view+json": {
       "version_major": 2,
       "version_minor": 0,
       "model_id": "a075d56d46074b369b8394029d29107d"
      }
     },
     "metadata": {},
     "output_type": "display_data"
    },
    {
     "data": {
      "text/plain": "testing:   0%|          | 0/3515 [00:00<?, ?it/s]",
      "application/vnd.jupyter.widget-view+json": {
       "version_major": 2,
       "version_minor": 0,
       "model_id": "59e5fd50917646ec80fd9ee5a8d2eb55"
      }
     },
     "metadata": {},
     "output_type": "display_data"
    },
    {
     "data": {
      "text/plain": "training:   0%|          | 0/3881 [00:00<?, ?it/s]",
      "application/vnd.jupyter.widget-view+json": {
       "version_major": 2,
       "version_minor": 0,
       "model_id": "d4b04c73b73144c79ae5edc466ceac1b"
      }
     },
     "metadata": {},
     "output_type": "display_data"
    },
    {
     "data": {
      "text/plain": "testing:   0%|          | 0/3515 [00:00<?, ?it/s]",
      "application/vnd.jupyter.widget-view+json": {
       "version_major": 2,
       "version_minor": 0,
       "model_id": "f6a52cbc0d9c4db9b1b708be45030253"
      }
     },
     "metadata": {},
     "output_type": "display_data"
    },
    {
     "data": {
      "text/plain": "training:   0%|          | 0/3881 [00:00<?, ?it/s]",
      "application/vnd.jupyter.widget-view+json": {
       "version_major": 2,
       "version_minor": 0,
       "model_id": "92d0ea7f317348d89fbea63d134a1fb7"
      }
     },
     "metadata": {},
     "output_type": "display_data"
    },
    {
     "data": {
      "text/plain": "testing:   0%|          | 0/3515 [00:00<?, ?it/s]",
      "application/vnd.jupyter.widget-view+json": {
       "version_major": 2,
       "version_minor": 0,
       "model_id": "b248f4fa65604968ac3fa832ff3d7d6b"
      }
     },
     "metadata": {},
     "output_type": "display_data"
    },
    {
     "data": {
      "text/plain": "training:   0%|          | 0/3881 [00:00<?, ?it/s]",
      "application/vnd.jupyter.widget-view+json": {
       "version_major": 2,
       "version_minor": 0,
       "model_id": "a01f24694c8643dbbe36a07119865b09"
      }
     },
     "metadata": {},
     "output_type": "display_data"
    },
    {
     "data": {
      "text/plain": "testing:   0%|          | 0/3515 [00:00<?, ?it/s]",
      "application/vnd.jupyter.widget-view+json": {
       "version_major": 2,
       "version_minor": 0,
       "model_id": "de07a4945d6042ddbc0fd98fb08d7b70"
      }
     },
     "metadata": {},
     "output_type": "display_data"
    },
    {
     "data": {
      "text/plain": "training:   0%|          | 0/3881 [00:00<?, ?it/s]",
      "application/vnd.jupyter.widget-view+json": {
       "version_major": 2,
       "version_minor": 0,
       "model_id": "38abf1befc5943758a8bd68b7f2c89ba"
      }
     },
     "metadata": {},
     "output_type": "display_data"
    },
    {
     "data": {
      "text/plain": "testing:   0%|          | 0/3515 [00:00<?, ?it/s]",
      "application/vnd.jupyter.widget-view+json": {
       "version_major": 2,
       "version_minor": 0,
       "model_id": "11505d70785c411d9e4b64e84bd92087"
      }
     },
     "metadata": {},
     "output_type": "display_data"
    },
    {
     "data": {
      "text/plain": "training:   0%|          | 0/3881 [00:00<?, ?it/s]",
      "application/vnd.jupyter.widget-view+json": {
       "version_major": 2,
       "version_minor": 0,
       "model_id": "d7b03862d610419882045be367c29ce3"
      }
     },
     "metadata": {},
     "output_type": "display_data"
    },
    {
     "data": {
      "text/plain": "testing:   0%|          | 0/3515 [00:00<?, ?it/s]",
      "application/vnd.jupyter.widget-view+json": {
       "version_major": 2,
       "version_minor": 0,
       "model_id": "10387c6965e346709b932faf761d62b6"
      }
     },
     "metadata": {},
     "output_type": "display_data"
    },
    {
     "data": {
      "text/plain": "training:   0%|          | 0/3881 [00:00<?, ?it/s]",
      "application/vnd.jupyter.widget-view+json": {
       "version_major": 2,
       "version_minor": 0,
       "model_id": "a67cb97b9de247029b7d42598281dbfb"
      }
     },
     "metadata": {},
     "output_type": "display_data"
    },
    {
     "data": {
      "text/plain": "testing:   0%|          | 0/3515 [00:00<?, ?it/s]",
      "application/vnd.jupyter.widget-view+json": {
       "version_major": 2,
       "version_minor": 0,
       "model_id": "9a95ec227dd04a38b2829b555e942e1c"
      }
     },
     "metadata": {},
     "output_type": "display_data"
    },
    {
     "data": {
      "text/plain": "training:   0%|          | 0/3881 [00:00<?, ?it/s]",
      "application/vnd.jupyter.widget-view+json": {
       "version_major": 2,
       "version_minor": 0,
       "model_id": "0d733dc1be9042359cc815703fea291b"
      }
     },
     "metadata": {},
     "output_type": "display_data"
    },
    {
     "data": {
      "text/plain": "testing:   0%|          | 0/3515 [00:00<?, ?it/s]",
      "application/vnd.jupyter.widget-view+json": {
       "version_major": 2,
       "version_minor": 0,
       "model_id": "51c6014baffa4b53b01dd71f852031ed"
      }
     },
     "metadata": {},
     "output_type": "display_data"
    },
    {
     "data": {
      "text/plain": "training:   0%|          | 0/3881 [00:00<?, ?it/s]",
      "application/vnd.jupyter.widget-view+json": {
       "version_major": 2,
       "version_minor": 0,
       "model_id": "72422f12353b40c3960f012561e18e61"
      }
     },
     "metadata": {},
     "output_type": "display_data"
    },
    {
     "data": {
      "text/plain": "testing:   0%|          | 0/3515 [00:00<?, ?it/s]",
      "application/vnd.jupyter.widget-view+json": {
       "version_major": 2,
       "version_minor": 0,
       "model_id": "a1d2b6f6b37445398a6f73fb89b2c454"
      }
     },
     "metadata": {},
     "output_type": "display_data"
    },
    {
     "data": {
      "text/plain": "training:   0%|          | 0/3881 [00:00<?, ?it/s]",
      "application/vnd.jupyter.widget-view+json": {
       "version_major": 2,
       "version_minor": 0,
       "model_id": "fce3a4f9add34de6a7ede8fda19befed"
      }
     },
     "metadata": {},
     "output_type": "display_data"
    },
    {
     "data": {
      "text/plain": "testing:   0%|          | 0/3515 [00:00<?, ?it/s]",
      "application/vnd.jupyter.widget-view+json": {
       "version_major": 2,
       "version_minor": 0,
       "model_id": "d5cdb55ab2d149469837e06fddb9d738"
      }
     },
     "metadata": {},
     "output_type": "display_data"
    },
    {
     "data": {
      "text/plain": "training:   0%|          | 0/3881 [00:00<?, ?it/s]",
      "application/vnd.jupyter.widget-view+json": {
       "version_major": 2,
       "version_minor": 0,
       "model_id": "b8543b4f2ca441a0b8fbe0ac0d1018bb"
      }
     },
     "metadata": {},
     "output_type": "display_data"
    },
    {
     "data": {
      "text/plain": "testing:   0%|          | 0/3515 [00:00<?, ?it/s]",
      "application/vnd.jupyter.widget-view+json": {
       "version_major": 2,
       "version_minor": 0,
       "model_id": "7b71fec0123c499e88414bfbcd392859"
      }
     },
     "metadata": {},
     "output_type": "display_data"
    },
    {
     "data": {
      "text/plain": "training:   0%|          | 0/3881 [00:00<?, ?it/s]",
      "application/vnd.jupyter.widget-view+json": {
       "version_major": 2,
       "version_minor": 0,
       "model_id": "a9bca6d19d974d2d91aaab3099a29086"
      }
     },
     "metadata": {},
     "output_type": "display_data"
    },
    {
     "data": {
      "text/plain": "testing:   0%|          | 0/3515 [00:00<?, ?it/s]",
      "application/vnd.jupyter.widget-view+json": {
       "version_major": 2,
       "version_minor": 0,
       "model_id": "ca43f0517107451ebd43baa4727689f6"
      }
     },
     "metadata": {},
     "output_type": "display_data"
    },
    {
     "data": {
      "text/plain": "training:   0%|          | 0/3881 [00:00<?, ?it/s]",
      "application/vnd.jupyter.widget-view+json": {
       "version_major": 2,
       "version_minor": 0,
       "model_id": "686f46d7b822457f834f51541262c239"
      }
     },
     "metadata": {},
     "output_type": "display_data"
    },
    {
     "data": {
      "text/plain": "testing:   0%|          | 0/3515 [00:00<?, ?it/s]",
      "application/vnd.jupyter.widget-view+json": {
       "version_major": 2,
       "version_minor": 0,
       "model_id": "2189ea878e404876bbd14cdb44ddb4c4"
      }
     },
     "metadata": {},
     "output_type": "display_data"
    },
    {
     "data": {
      "text/plain": "training:   0%|          | 0/3881 [00:00<?, ?it/s]",
      "application/vnd.jupyter.widget-view+json": {
       "version_major": 2,
       "version_minor": 0,
       "model_id": "0133d824cba84fe7a9e324ea2afbf2f6"
      }
     },
     "metadata": {},
     "output_type": "display_data"
    },
    {
     "data": {
      "text/plain": "testing:   0%|          | 0/3515 [00:00<?, ?it/s]",
      "application/vnd.jupyter.widget-view+json": {
       "version_major": 2,
       "version_minor": 0,
       "model_id": "46b3686437dd45bdb0b5ebc321803a2c"
      }
     },
     "metadata": {},
     "output_type": "display_data"
    },
    {
     "data": {
      "text/plain": "training:   0%|          | 0/3881 [00:00<?, ?it/s]",
      "application/vnd.jupyter.widget-view+json": {
       "version_major": 2,
       "version_minor": 0,
       "model_id": "cd55d0ae45a6469ebd4d570c7c0f992e"
      }
     },
     "metadata": {},
     "output_type": "display_data"
    },
    {
     "data": {
      "text/plain": "testing:   0%|          | 0/3515 [00:00<?, ?it/s]",
      "application/vnd.jupyter.widget-view+json": {
       "version_major": 2,
       "version_minor": 0,
       "model_id": "02d72f59377d42c9ace339d4e533e24f"
      }
     },
     "metadata": {},
     "output_type": "display_data"
    },
    {
     "data": {
      "text/plain": "training:   0%|          | 0/3881 [00:00<?, ?it/s]",
      "application/vnd.jupyter.widget-view+json": {
       "version_major": 2,
       "version_minor": 0,
       "model_id": "65a5b34b739a4ff19adf0529999092ec"
      }
     },
     "metadata": {},
     "output_type": "display_data"
    },
    {
     "data": {
      "text/plain": "testing:   0%|          | 0/3515 [00:00<?, ?it/s]",
      "application/vnd.jupyter.widget-view+json": {
       "version_major": 2,
       "version_minor": 0,
       "model_id": "3c32051b83f14c0b907d5975a9ec29a0"
      }
     },
     "metadata": {},
     "output_type": "display_data"
    },
    {
     "data": {
      "text/plain": "training:   0%|          | 0/3881 [00:00<?, ?it/s]",
      "application/vnd.jupyter.widget-view+json": {
       "version_major": 2,
       "version_minor": 0,
       "model_id": "4bb3288d59dd4e95ba62e3f7dd95e1f0"
      }
     },
     "metadata": {},
     "output_type": "display_data"
    },
    {
     "data": {
      "text/plain": "testing:   0%|          | 0/3515 [00:00<?, ?it/s]",
      "application/vnd.jupyter.widget-view+json": {
       "version_major": 2,
       "version_minor": 0,
       "model_id": "966d1a999ddc43008b73deaef0f06151"
      }
     },
     "metadata": {},
     "output_type": "display_data"
    },
    {
     "data": {
      "text/plain": "training:   0%|          | 0/3881 [00:00<?, ?it/s]",
      "application/vnd.jupyter.widget-view+json": {
       "version_major": 2,
       "version_minor": 0,
       "model_id": "cb5e66bd7140470aa3f55ec660c6c53e"
      }
     },
     "metadata": {},
     "output_type": "display_data"
    },
    {
     "data": {
      "text/plain": "testing:   0%|          | 0/3515 [00:00<?, ?it/s]",
      "application/vnd.jupyter.widget-view+json": {
       "version_major": 2,
       "version_minor": 0,
       "model_id": "6919134216054d75846f2aa2a87e6a41"
      }
     },
     "metadata": {},
     "output_type": "display_data"
    },
    {
     "data": {
      "text/plain": "training:   0%|          | 0/3881 [00:00<?, ?it/s]",
      "application/vnd.jupyter.widget-view+json": {
       "version_major": 2,
       "version_minor": 0,
       "model_id": "2e9845b702d74c82b120ace227dd6fde"
      }
     },
     "metadata": {},
     "output_type": "display_data"
    },
    {
     "data": {
      "text/plain": "testing:   0%|          | 0/3515 [00:00<?, ?it/s]",
      "application/vnd.jupyter.widget-view+json": {
       "version_major": 2,
       "version_minor": 0,
       "model_id": "534a5876f97c4b98a850f1174b226202"
      }
     },
     "metadata": {},
     "output_type": "display_data"
    }
   ],
   "source": [
    "## Training\n",
    "best_loss = None\n",
    "epochs = tqdm(range(args.max_iter//len(train_loader)+1), leave=True)\n",
    "for epoch in epochs:\n",
    "    model.train()\n",
    "    optimizer.zero_grad()\n",
    "    train_iterator = tqdm(enumerate(train_loader), total=len(train_loader), desc=\"training\", leave=True)\n",
    "\n",
    "    train_loss = 0.0\n",
    "    for i, batch_data in train_iterator:\n",
    "        batch_data = batch_data[0].to(args.device)\n",
    "\n",
    "        z = model.encoder(batch_data)\n",
    "        Wt1p = model.decoder1(z)\n",
    "        Wt2p = model.decoder2(z)\n",
    "        Wt2dp = model.decoder2(model.encoder(Wt1p))\n",
    "\n",
    "        optimizer.zero_grad()\n",
    "        loss = loss_function(batch_data, Wt1p, Wt2p, Wt2dp, epoch+1)\n",
    "        loss.backward()\n",
    "        optimizer.step()\n",
    "\n",
    "        train_loss += loss.item()\n",
    "        train_iterator.set_postfix({\n",
    "            \"train_loss\": float(loss),\n",
    "        })\n",
    "\n",
    "    train_loss = train_loss / len(train_loader)\n",
    "    epochs.set_postfix({\n",
    "         \"Train Loss\": train_loss,\n",
    "    })\n",
    "\n",
    "    model.eval()\n",
    "    eval_loss = 0\n",
    "    test_iterator = tqdm(enumerate(test_loader), total=len(test_loader), desc=\"testing\", leave=True)\n",
    "    with torch.no_grad():\n",
    "        for i, batch_data in test_iterator:\n",
    "\n",
    "            batch_data = batch_data[0].to(args.device)\n",
    "\n",
    "            z = model.encoder(batch_data)\n",
    "            Wt1p = model.decoder1(z)\n",
    "            Wt2p = model.decoder2(z)\n",
    "            Wt2dp = model.decoder2(model.encoder(Wt1p))\n",
    "\n",
    "            loss = loss_function(batch_data, Wt1p, Wt2p, Wt2dp, epoch+1)\n",
    "            eval_loss += loss.mean().item()\n",
    "\n",
    "            test_iterator.set_postfix({\n",
    "                \"eval_loss\": float(loss),\n",
    "            })\n",
    "\n",
    "    eval_loss = eval_loss / len(test_loader)\n",
    "    epochs.set_postfix({\n",
    "         \"Evaluation Score\": float(eval_loss),\n",
    "    })\n",
    "    if best_loss is None or eval_loss < best_loss:\n",
    "        best_loss = eval_loss\n",
    "    else:\n",
    "        if args.early_stop:\n",
    "            print('early stop condition   best_loss[{}]  eval_loss[{}]'.format(best_loss, eval_loss))\n",
    "            break\n"
   ],
   "metadata": {
    "collapsed": false,
    "pycharm": {
     "name": "#%%\n"
    }
   }
  },
  {
   "cell_type": "code",
   "execution_count": 50,
   "outputs": [
    {
     "data": {
      "text/plain": "testing:   0%|          | 0/3515 [00:00<?, ?it/s]",
      "application/vnd.jupyter.widget-view+json": {
       "version_major": 2,
       "version_minor": 0,
       "model_id": "e60a49d678c14be999df8607caa42cc2"
      }
     },
     "metadata": {},
     "output_type": "display_data"
    }
   ],
   "source": [
    "MSE = torch.nn.MSELoss(reduce=False)\n",
    "\n",
    "def get_anomaly_score(Wt, model, alpha = 0.5, beta = 0.5):\n",
    "    z = model.encoder(Wt)\n",
    "    Wt1p = model.decoder1(z)\n",
    "    Wt2dp = model.decoder2(model.encoder(Wt1p))\n",
    "    return alpha * MSE(Wt, Wt1p) + beta * MSE(Wt, Wt2dp)\n",
    "\n",
    "test_iterator = tqdm(enumerate(test_loader), total=len(test_loader), desc=\"testing\")\n",
    "anomaly_score_list = []\n",
    "with torch.no_grad():\n",
    "    for i, batch_data in test_iterator:\n",
    "        batch_data = batch_data[0].to(args.device)\n",
    "        anomaly_score = get_anomaly_score(batch_data, model).mean(axis=(1, 2)).to(\"cpu\")\n",
    "        anomaly_score_list.append(anomaly_score)\n",
    "\n",
    "anomaly_scores = np.concatenate(anomaly_score_list, axis=0)"
   ],
   "metadata": {
    "collapsed": false,
    "pycharm": {
     "name": "#%%\n"
    }
   }
  },
  {
   "cell_type": "code",
   "execution_count": 51,
   "outputs": [
    {
     "data": {
      "text/plain": "(449820,)"
     },
     "execution_count": 51,
     "metadata": {},
     "output_type": "execute_result"
    }
   ],
   "source": [
    "anomaly_scores.shape"
   ],
   "metadata": {
    "collapsed": false,
    "pycharm": {
     "name": "#%%\n"
    }
   }
  },
  {
   "cell_type": "code",
   "execution_count": 52,
   "outputs": [],
   "source": [
    "x = list(range(len(anomaly_scores)))\n",
    "y = anomaly_scores\n",
    "\n",
    "window_y = []\n",
    "for i in x:\n",
    "    window_y.append(min(test_y[i:i+args.window_size])==1)\n",
    "\n",
    "intervals = []\n",
    "start = None\n",
    "for i, label in enumerate(window_y):\n",
    "    if label:\n",
    "        if start is None:\n",
    "            start = i\n",
    "    else:\n",
    "        if start is not None:\n",
    "            intervals.append((start, i-1))\n",
    "        start = None\n",
    "if start is not None:\n",
    "    intervals.append((start, len(window_y)-1))"
   ],
   "metadata": {
    "collapsed": false,
    "pycharm": {
     "name": "#%%\n"
    }
   }
  },
  {
   "cell_type": "code",
   "execution_count": 53,
   "outputs": [
    {
     "name": "stdout",
     "output_type": "stream",
     "text": [
      "[(1754, 2594), (3068, 3411), (4920, 5203), (6459, 6749), (7255, 7351), (7705, 8034), (11410, 12274), (15380, 16001), (73800, 74421), (90685, 90818), (92140, 92471), (93445, 93621), (103092, 103709), (115843, 116002), (116143, 116438), (117000, 117621), (132918, 133281), (142954, 143551), (172305, 172489), (172910, 173422), (198296, 199641), (227828, 263628), (279120, 279141), (280060, 281131), (302653, 302920), (347679, 348180), (361191, 361535), (371479, 371480), (371855, 372236), (389680, 390120), (436541, 436910), (437417, 437598), (438147, 438448), (438621, 438818), (443501, 445091)]\n"
     ]
    }
   ],
   "source": [
    "print(intervals)"
   ],
   "metadata": {
    "collapsed": false,
    "pycharm": {
     "name": "#%%\n"
    }
   }
  },
  {
   "cell_type": "code",
   "execution_count": 54,
   "outputs": [
    {
     "data": {
      "text/plain": "<Figure size 1152x432 with 1 Axes>",
      "image/png": "[encoded data removed]"
     },
     "metadata": {
      "needs_background": "light"
     },
     "output_type": "display_data"
    }
   ],
   "source": [
    "## 시각화 하기\n",
    "fig = plt.figure(figsize=(16, 6))\n",
    "ax=fig.add_subplot()\n",
    "\n",
    "ax.plot(x, y)\n",
    "plt.rcParams['axes.facecolor']='white'\n",
    "for s, e in intervals:\n",
    "    ax.axvspan(s, e, alpha=0.2, color='orange')"
   ],
   "metadata": {
    "collapsed": false,
    "pycharm": {
     "name": "#%%\n"
    }
   }
  },
  {
   "cell_type": "markdown",
   "source": [
    "### Finding Threshold"
   ],
   "metadata": {
    "collapsed": false
   }
  },
  {
   "cell_type": "code",
   "execution_count": 55,
   "outputs": [
    {
     "data": {
      "text/plain": "(449820, 0.000492936)"
     },
     "execution_count": 55,
     "metadata": {},
     "output_type": "execute_result"
    }
   ],
   "source": [
    "len(anomaly_scores), anomaly_scores[0]"
   ],
   "metadata": {
    "collapsed": false,
    "pycharm": {
     "name": "#%%\n"
    }
   }
  },
  {
   "cell_type": "code",
   "execution_count": 56,
   "outputs": [
    {
     "data": {
      "text/plain": "(0.0001858621, 0.39747947)"
     },
     "execution_count": 56,
     "metadata": {},
     "output_type": "execute_result"
    }
   ],
   "source": [
    "anomaly_min, anomaly_max = np.min(anomaly_scores), np.max(anomaly_scores)\n",
    "anomaly_min, anomaly_max"
   ],
   "metadata": {
    "collapsed": false,
    "pycharm": {
     "name": "#%%\n"
    }
   }
  },
  {
   "cell_type": "code",
   "execution_count": 57,
   "outputs": [
    {
     "data": {
      "text/plain": "(449919,)"
     },
     "execution_count": 57,
     "metadata": {},
     "output_type": "execute_result"
    }
   ],
   "source": [
    "test_y.shape"
   ],
   "metadata": {
    "collapsed": false,
    "pycharm": {
     "name": "#%%\n"
    }
   }
  },
  {
   "cell_type": "code",
   "execution_count": 58,
   "outputs": [],
   "source": [
    "thresholds = np.linspace(anomaly_min, anomaly_max, 100)"
   ],
   "metadata": {
    "collapsed": false,
    "pycharm": {
     "name": "#%%\n"
    }
   }
  },
  {
   "cell_type": "code",
   "execution_count": 59,
   "outputs": [
    {
     "name": "stdout",
     "output_type": "stream",
     "text": [
      "[1.85862096e-04 4.19892889e-03 8.21199568e-03 1.22250625e-02\n",
      " 1.62381293e-02 2.02511961e-02 2.42642629e-02 2.82773296e-02\n",
      " 3.22903964e-02 3.63034632e-02 4.03165300e-02 4.43295968e-02\n",
      " 4.83426636e-02 5.23557304e-02 5.63687972e-02 6.03818640e-02\n",
      " 6.43949308e-02 6.84079976e-02 7.24210644e-02 7.64341312e-02\n",
      " 8.04471979e-02 8.44602647e-02 8.84733315e-02 9.24863983e-02\n",
      " 9.64994651e-02 1.00512532e-01 1.04525599e-01 1.08538665e-01\n",
      " 1.12551732e-01 1.16564799e-01 1.20577866e-01 1.24590933e-01\n",
      " 1.28603999e-01 1.32617066e-01 1.36630133e-01 1.40643200e-01\n",
      " 1.44656267e-01 1.48669333e-01 1.52682400e-01 1.56695467e-01\n",
      " 1.60708534e-01 1.64721601e-01 1.68734667e-01 1.72747734e-01\n",
      " 1.76760801e-01 1.80773868e-01 1.84786935e-01 1.88800001e-01\n",
      " 1.92813068e-01 1.96826135e-01 2.00839202e-01 2.04852269e-01\n",
      " 2.08865335e-01 2.12878402e-01 2.16891469e-01 2.20904536e-01\n",
      " 2.24917602e-01 2.28930669e-01 2.32943736e-01 2.36956803e-01\n",
      " 2.40969870e-01 2.44982936e-01 2.48996003e-01 2.53009070e-01\n",
      " 2.57022137e-01 2.61035204e-01 2.65048270e-01 2.69061337e-01\n",
      " 2.73074404e-01 2.77087471e-01 2.81100538e-01 2.85113604e-01\n",
      " 2.89126671e-01 2.93139738e-01 2.97152805e-01 3.01165872e-01\n",
      " 3.05178938e-01 3.09192005e-01 3.13205072e-01 3.17218139e-01\n",
      " 3.21231205e-01 3.25244272e-01 3.29257339e-01 3.33270406e-01\n",
      " 3.37283473e-01 3.41296539e-01 3.45309606e-01 3.49322673e-01\n",
      " 3.53335740e-01 3.57348807e-01 3.61361873e-01 3.65374940e-01\n",
      " 3.69388007e-01 3.73401074e-01 3.77414141e-01 3.81427207e-01\n",
      " 3.85440274e-01 3.89453341e-01 3.93466408e-01 3.97479475e-01]\n"
     ]
    }
   ],
   "source": [
    "print(thresholds)"
   ],
   "metadata": {
    "collapsed": false,
    "pycharm": {
     "name": "#%%\n"
    }
   }
  },
  {
   "cell_type": "code",
   "execution_count": 60,
   "outputs": [],
   "source": [
    "from sklearn.metrics import precision_score, recall_score, f1_score, confusion_matrix, classification_report"
   ],
   "metadata": {
    "collapsed": false,
    "pycharm": {
     "name": "#%%\n"
    }
   }
  },
  {
   "cell_type": "code",
   "execution_count": 61,
   "outputs": [],
   "source": [
    "import seaborn as sns"
   ],
   "metadata": {
    "collapsed": false,
    "pycharm": {
     "name": "#%%\n"
    }
   }
  },
  {
   "cell_type": "code",
   "execution_count": 62,
   "outputs": [
    {
     "data": {
      "text/plain": "(449820, 449919)"
     },
     "execution_count": 62,
     "metadata": {},
     "output_type": "execute_result"
    }
   ],
   "source": [
    "len(anomaly_scores), len(test_y)"
   ],
   "metadata": {
    "collapsed": false,
    "pycharm": {
     "name": "#%%\n"
    }
   }
  },
  {
   "cell_type": "code",
   "execution_count": 63,
   "outputs": [
    {
     "name": "stdout",
     "output_type": "stream",
     "text": [
      "threshold 0.00018586209625937045 | tn 1 fp 395235 fn 0 tp 54584 p 0.12134658607128646 r 1.0 f 0.21643011639502538\n",
      "0.12134658607128646 1.0 0.21643011639502538\n",
      "threshold 0.004198928888666096 | tn 115910 fp 279326 fn 4468 tp 50116 p 0.152123894342555 r 0.9181445112120769 f 0.26100316124429074\n",
      "0.152123894342555 0.9181445112120769 0.26100316124429074\n",
      "threshold 0.008211995681072821 | tn 128980 fp 266256 fn 5564 tp 49020 p 0.15548281505728315 r 0.898065367140554 f 0.2650732709673931\n",
      "0.15548281505728315 0.898065367140554 0.2650732709673931\n",
      "threshold 0.012225062473479546 | tn 137633 fp 257603 fn 5962 tp 48622 p 0.15877867581027022 r 0.8907738531437784 f 0.269516558622429\n",
      "0.15877867581027022 0.8907738531437784 0.269516558622429\n",
      "threshold 0.016238129265886272 | tn 144401 fp 250835 fn 6042 tp 48542 p 0.16214338442832948 r 0.8893082221896527 f 0.27427880472707444\n",
      "0.16214338442832948 0.8893082221896527 0.27427880472707444\n",
      "threshold 0.020251196058292998 | tn 150225 fp 245011 fn 6116 tp 48468 p 0.16514980628937675 r 0.8879525135570864 f 0.2785013057980883\n",
      "0.16514980628937675 0.8879525135570864 0.2785013057980883\n",
      "threshold 0.02426426285069972 | tn 153059 fp 242177 fn 6284 tp 48300 p 0.16627822512625784 r 0.8848746885534222 f 0.2799505015055309\n",
      "0.16627822512625784 0.8848746885534222 0.2799505015055309\n",
      "threshold 0.028277329643106447 | tn 157606 fp 237630 fn 6500 tp 48084 p 0.1682941682941683 r 0.8809174849772827 f 0.2825993687885324\n",
      "0.1682941682941683 0.8809174849772827 0.2825993687885324\n",
      "threshold 0.03229039643551317 | tn 161039 fp 234197 fn 6512 tp 48072 p 0.17030563044471764 r 0.8806976403341639 f 0.28541826850287816\n",
      "0.17030563044471764 0.8806976403341639 0.28541826850287816\n",
      "threshold 0.0363034632279199 | tn 164973 fp 230263 fn 6527 tp 48057 p 0.17266815176774936 r 0.8804228345302653 f 0.2887138634561315\n",
      "0.17266815176774936 0.8804228345302653 0.2887138634561315\n",
      "threshold 0.040316530020326626 | tn 167246 fp 227990 fn 6858 tp 47726 p 0.17309840560576825 r 0.87435878645757 f 0.2889857705116561\n",
      "0.17309840560576825 0.87435878645757 0.2889857705116561\n",
      "threshold 0.04432959681273335 | tn 169866 fp 225370 fn 6895 tp 47689 p 0.17464723741023003 r 0.8736809321412868 f 0.2911034265954102\n",
      "0.17464723741023003 0.8736809321412868 0.2911034265954102\n",
      "threshold 0.04834266360514007 | tn 171154 fp 224082 fn 6935 tp 47649 p 0.17535356657871204 r 0.8729481166642239 f 0.29204296462007573\n",
      "0.17535356657871204 0.8729481166642239 0.29204296462007573\n",
      "threshold 0.0523557303975468 | tn 173389 fp 221847 fn 6977 tp 47607 p 0.17667950744839564 r 0.8721786604133079 f 0.2938359081342312\n",
      "0.17667950744839564 0.8721786604133079 0.2938359081342312\n",
      "threshold 0.05636879718995352 | tn 175233 fp 220003 fn 7028 tp 47556 p 0.17774023673283276 r 0.8712443206800528 f 0.29524776263957314\n",
      "0.17774023673283276 0.8712443206800528 0.29524776263957314\n",
      "threshold 0.06038186398236025 | tn 179056 fp 216180 fn 7431 tp 47153 p 0.17906225197753414 r 0.8638612047486443 f 0.29663717259536293\n",
      "0.17906225197753414 0.8638612047486443 0.29663717259536293\n",
      "threshold 0.06439493077476698 | tn 181481 fp 213755 fn 7916 tp 46668 p 0.1792007618374721 r 0.854975817089257 f 0.29629817750081744\n",
      "0.1792007618374721 0.854975817089257 0.29629817750081744\n",
      "threshold 0.0684079975671737 | tn 183115 fp 212121 fn 8135 tp 46449 p 0.17963800904977376 r 0.8509636523523377 f 0.2966527650932129\n",
      "0.17963800904977376 0.8509636523523377 0.2966527650932129\n",
      "threshold 0.07242106435958043 | tn 184410 fp 210826 fn 8336 tp 46248 p 0.17990150695908572 r 0.8472812545800967 f 0.29678686252238035\n",
      "0.17990150695908572 0.8472812545800967 0.29678686252238035\n",
      "threshold 0.07643413115198715 | tn 187724 fp 207512 fn 8408 tp 46176 p 0.1820188578095929 r 0.8459621867213836 f 0.2995795920485805\n",
      "0.1820188578095929 0.8459621867213836 0.2995795920485805\n",
      "threshold 0.08044719794439388 | tn 189801 fp 205435 fn 8491 tp 46093 p 0.18325196399605612 r 0.844441594606478 f 0.3011512126280577\n",
      "0.18325196399605612 0.844441594606478 0.3011512126280577\n",
      "threshold 0.0844602647368006 | tn 191627 fp 203609 fn 9186 tp 45398 p 0.18231615978667268 r 0.8317089256925106 f 0.29907342444275364\n",
      "0.18231615978667268 0.8317089256925106 0.29907342444275364\n",
      "threshold 0.08847333152920733 | tn 194244 fp 200992 fn 9458 tp 45126 p 0.18335107550036975 r 0.8267257804484831 f 0.30013767783386874\n",
      "0.18335107550036975 0.8267257804484831 0.30013767783386874\n",
      "threshold 0.09248639832161405 | tn 197326 fp 197910 fn 9593 tp 44991 p 0.18522360961873355 r 0.8242525282133959 f 0.302475755080088\n",
      "0.18522360961873355 0.8242525282133959 0.302475755080088\n",
      "threshold 0.09649946511402077 | tn 199881 fp 195355 fn 9626 tp 44958 p 0.18708101517604125 r 0.823647955444819 f 0.30490645886529877\n",
      "0.18708101517604125 0.823647955444819 0.30490645886529877\n",
      "threshold 0.1005125319064275 | tn 201995 fp 193241 fn 9922 tp 44662 p 0.18773197479645065 r 0.8182251209145537 f 0.3053947696820713\n",
      "0.18773197479645065 0.8182251209145537 0.3053947696820713\n",
      "threshold 0.10452559869883422 | tn 207700 fp 187536 fn 10192 tp 44392 p 0.1914042288986237 r 0.8132786164443793 f 0.30987881833919695\n",
      "0.1914042288986237 0.8132786164443793 0.30987881833919695\n",
      "threshold 0.10853866549124096 | tn 210971 fp 184265 fn 10431 tp 44153 p 0.19329912703902494 r 0.8089000439689287 f 0.3120331305079116\n",
      "0.19329912703902494 0.8089000439689287 0.3120331305079116\n",
      "threshold 0.11255173228364768 | tn 211794 fp 183442 fn 11296 tp 43288 p 0.19092312442111764 r 0.793052909277444 f 0.3077557462479649\n",
      "0.19092312442111764 0.793052909277444 0.3077557462479649\n",
      "threshold 0.11656479907605441 | tn 213418 fp 181818 fn 13604 tp 40980 p 0.18393342848679073 r 0.7507694562509161 f 0.29547699562336416\n",
      "0.18393342848679073 0.7507694562509161 0.29547699562336416\n",
      "threshold 0.12057786586846113 | tn 215284 fp 179952 fn 13758 tp 40826 p 0.1849187871979998 r 0.7479481166642239 f 0.29652602755645296\n",
      "0.1849187871979998 0.7479481166642239 0.29652602755645296\n",
      "threshold 0.12459093266086786 | tn 217891 fp 177345 fn 13950 tp 40634 p 0.18641245257570682 r 0.7444306023743221 f 0.2981622597344467\n",
      "0.18641245257570682 0.7444306023743221 0.2981622597344467\n",
      "threshold 0.12860399945327458 | tn 223412 fp 171824 fn 14065 tp 40519 p 0.19081862835129954 r 0.7423237578777664 f 0.30359611429342104\n",
      "0.19081862835129954 0.7423237578777664 0.30359611429342104\n",
      "threshold 0.13261706624568131 | tn 227314 fp 167922 fn 14255 tp 40329 p 0.19365573274558107 r 0.7388428843617177 f 0.3068769380029296\n",
      "0.19365573274558107 0.7388428843617177 0.3068769380029296\n",
      "threshold 0.13663013303808802 | tn 230841 fp 164395 fn 14398 tp 40186 p 0.19643075358904297 r 0.7362230690312179 f 0.3101190361352806\n",
      "0.19643075358904297 0.7362230690312179 0.3101190361352806\n",
      "threshold 0.14064319983049475 | tn 234439 fp 160797 fn 14499 tp 40085 p 0.19954500652124132 r 0.7343727099516342 f 0.3138186686290935\n",
      "0.19954500652124132 0.7343727099516342 0.3138186686290935\n",
      "threshold 0.14465626662290149 | tn 238373 fp 156863 fn 14571 tp 40013 p 0.20323960259249477 r 0.733053642092921 f 0.3182454465919033\n",
      "0.20323960259249477 0.733053642092921 0.3182454465919033\n",
      "threshold 0.14866933341530822 | tn 244208 fp 151028 fn 14632 tp 39952 p 0.20919468007121164 r 0.7319360984904001 f 0.3253897151048199\n",
      "0.20919468007121164 0.7319360984904001 0.3253897151048199\n",
      "threshold 0.15268240020771492 | tn 252295 fp 142941 fn 14693 tp 39891 p 0.21818390653714886 r 0.7308185548878793 f 0.33604306365198644\n",
      "0.21818390653714886 0.7308185548878793 0.33604306365198644\n",
      "threshold 0.15669546700012166 | tn 272572 fp 122664 fn 14842 tp 39742 p 0.24470770784330628 r 0.72808881723582 f 0.3663025945896124\n",
      "0.24470770784330628 0.72808881723582 0.3663025945896124\n",
      "threshold 0.1607085337925284 | tn 297332 fp 97904 fn 15054 tp 39530 p 0.28762897099698764 r 0.7242048952073867 f 0.41173223343644866\n",
      "0.28762897099698764 0.7242048952073867 0.41173223343644866\n",
      "threshold 0.1647216005849351 | tn 307467 fp 87769 fn 15137 tp 39447 p 0.310078920890454 r 0.7226843030924813 f 0.43396039603960396\n",
      "0.310078920890454 0.7226843030924813 0.43396039603960396\n",
      "threshold 0.16873466737734183 | tn 318664 fp 76572 fn 15214 tp 39370 p 0.3395663348915837 r 0.7212736332991353 f 0.4617477686687074\n",
      "0.3395663348915837 0.7212736332991353 0.4617477686687074\n",
      "threshold 0.17274773416974856 | tn 327126 fp 68110 fn 15291 tp 39293 p 0.36584639162779437 r 0.7198629635057893 f 0.485137696234883\n",
      "0.36584639162779437 0.7198629635057893 0.485137696234883\n",
      "threshold 0.1767608009621553 | tn 332899 fp 62337 fn 15357 tp 39227 p 0.38622937261234297 r 0.7186538179686355 f 0.5024335886466685\n",
      "0.38622937261234297 0.7186538179686355 0.5024335886466685\n",
      "threshold 0.180773867754562 | tn 339728 fp 55508 fn 15885 tp 38699 p 0.4107868842018109 r 0.7089806536714055 f 0.520179311920748\n",
      "0.4107868842018109 0.7089806536714055 0.520179311920748\n",
      "threshold 0.18478693454696873 | tn 344823 fp 50413 fn 15965 tp 38619 p 0.4337653877257615 r 0.7075150227172798 f 0.5378091577540107\n",
      "0.4337653877257615 0.7075150227172798 0.5378091577540107\n",
      "threshold 0.18880000133937547 | tn 350597 fp 44639 fn 16498 tp 38086 p 0.4603928679359323 r 0.697750256485417 f 0.5547487783029517\n",
      "0.4603928679359323 0.697750256485417 0.5547487783029517\n",
      "threshold 0.19281306813178217 | tn 355138 fp 40098 fn 18227 tp 36357 p 0.4755346282126741 r 0.6660743074893741 f 0.5549035020108517\n",
      "0.4755346282126741 0.6660743074893741 0.5549035020108517\n",
      "threshold 0.1968261349241889 | tn 357392 fp 37844 fn 18646 tp 35938 p 0.48708357051855466 r 0.6583980653671405 f 0.55993019958556\n",
      "0.48708357051855466 0.6583980653671405 0.55993019958556\n",
      "threshold 0.20083920171659564 | tn 358911 fp 36325 fn 19248 tp 35336 p 0.49309945437546226 r 0.6473691924373443 f 0.5598003881341835\n",
      "0.49309945437546226 0.6473691924373443 0.5598003881341835\n",
      "threshold 0.20485226850900237 | tn 360878 fp 34358 fn 19346 tp 35238 p 0.5063222024254268 r 0.6455737945185402 f 0.5675310033821871\n",
      "0.5063222024254268 0.6455737945185402 0.5675310033821871\n",
      "threshold 0.20886533530140908 | tn 362612 fp 32624 fn 19581 tp 35003 p 0.5175891286024813 r 0.6412685035907958 f 0.5728289597499406\n",
      "0.5175891286024813 0.6412685035907958 0.5728289597499406\n",
      "threshold 0.2128784020938158 | tn 364973 fp 30263 fn 19990 tp 34594 p 0.5333888400635244 r 0.6337754653378279 f 0.5792650764812752\n",
      "0.5333888400635244 0.6337754653378279 0.5792650764812752\n",
      "threshold 0.21689146888622254 | tn 368780 fp 26456 fn 20420 tp 34164 p 0.5635763774331903 r 0.6258976989594021 f 0.5931044060970105\n",
      "0.5635763774331903 0.6258976989594021 0.5931044060970105\n",
      "threshold 0.22090453567862928 | tn 373192 fp 22044 fn 20750 tp 33834 p 0.6054976913991195 r 0.6198519712736333 f 0.6125907551918307\n",
      "0.6054976913991195 0.6198519712736333 0.6125907551918307\n",
      "threshold 0.22491760247103598 | tn 376423 fp 18813 fn 21137 tp 33447 p 0.6400114810562572 r 0.61276198153305 f 0.6260903747519747\n",
      "0.6400114810562572 0.61276198153305 0.6260903747519747\n",
      "threshold 0.22893066926344272 | tn 379465 fp 15771 fn 21378 tp 33206 p 0.6779917103946751 r 0.6083467682837461 f 0.641283880997673\n",
      "0.6779917103946751 0.6083467682837461 0.641283880997673\n",
      "threshold 0.23294373605584945 | tn 381435 fp 13801 fn 21498 tp 33086 p 0.7056540192377418 r 0.6061483218525575 f 0.652127208759153\n",
      "0.7056540192377418 0.6061483218525575 0.652127208759153\n",
      "threshold 0.23695680284825615 | tn 383668 fp 11568 fn 21777 tp 32807 p 0.739312676056338 r 0.601036933900044 f 0.6630422700310229\n",
      "0.739312676056338 0.601036933900044 0.6630422700310229\n",
      "threshold 0.2409698696406629 | tn 386070 fp 9166 fn 21879 tp 32705 p 0.7810895369109885 r 0.5991682544335336 f 0.6781400653154319\n",
      "0.7810895369109885 0.5991682544335336 0.6781400653154319\n",
      "threshold 0.24498293643306962 | tn 388972 fp 6264 fn 21970 tp 32614 p 0.8388806008539534 r 0.5975010992232156 f 0.6979093107359141\n",
      "0.8388806008539534 0.5975010992232156 0.6979093107359141\n",
      "threshold 0.24899600322547635 | tn 391293 fp 3943 fn 22095 tp 32489 p 0.8917709705753184 r 0.5952110508573941 f 0.7139184319240574\n",
      "0.8917709705753184 0.5952110508573941 0.7139184319240574\n",
      "threshold 0.2530090700178831 | tn 392289 fp 2947 fn 22255 tp 32329 p 0.9164587821748498 r 0.5922797889491426 f 0.7195415090140218\n",
      "0.9164587821748498 0.5922797889491426 0.7195415090140218\n",
      "threshold 0.2570221368102898 | tn 392703 fp 2533 fn 22322 tp 32262 p 0.927202184221871 r 0.5910523230250623 f 0.7219145436847582\n",
      "0.927202184221871 0.5910523230250623 0.7219145436847582\n",
      "threshold 0.2610352036026965 | tn 393626 fp 1610 fn 22358 tp 32226 p 0.9524175434448516 r 0.5903927890957057 f 0.7289301063107894\n",
      "0.9524175434448516 0.5903927890957057 0.7289301063107894\n",
      "threshold 0.26504827039510326 | tn 394090 fp 1146 fn 22393 tp 32191 p 0.9656237813840478 r 0.5897515755532757 f 0.7322710160257504\n",
      "0.9656237813840478 0.5897515755532757 0.7322710160257504\n",
      "threshold 0.26906133718750996 | tn 394377 fp 859 fn 22434 tp 32150 p 0.9739767942076404 r 0.5890004396892863 f 0.7340769239551105\n",
      "0.9739767942076404 0.5890004396892863 0.7340769239551105\n",
      "threshold 0.27307440397991667 | tn 394575 fp 661 fn 23009 tp 31575 p 0.9794949745626008 r 0.5784662172065074 f 0.7273669661368347\n",
      "0.9794949745626008 0.5784662172065074 0.7273669661368347\n",
      "threshold 0.27708747077232343 | tn 394771 fp 465 fn 23833 tp 30751 p 0.9851037929267042 r 0.5633702183790121 f 0.7168065268065268\n",
      "0.9851037929267042 0.5633702183790121 0.7168065268065268\n",
      "threshold 0.28110053756473014 | tn 394980 fp 256 fn 24957 tp 29627 p 0.991433256366496 r 0.5427781034735454 f 0.7015047296577362\n",
      "0.991433256366496 0.5427781034735454 0.7015047296577362\n",
      "threshold 0.2851136043571369 | tn 395025 fp 211 fn 25407 tp 29177 p 0.9928201987205663 r 0.5345339293565881 f 0.6949221168961084\n",
      "0.9928201987205663 0.5345339293565881 0.6949221168961084\n",
      "threshold 0.2891266711495436 | tn 395072 fp 164 fn 26000 tp 28584 p 0.9942952553221094 r 0.5236699399091309 f 0.6860269764316229\n",
      "0.9942952553221094 0.5236699399091309 0.6860269764316229\n",
      "threshold 0.2931397379419503 | tn 395111 fp 125 fn 27103 tp 27481 p 0.9954719988408317 r 0.5034625531291221 f 0.6687188222411485\n",
      "0.9954719988408317 0.5034625531291221 0.6687188222411485\n",
      "threshold 0.29715280473435707 | tn 395126 fp 110 fn 28256 tp 26328 p 0.9958393221877601 r 0.4823391470027847 f 0.6498975586877638\n",
      "0.9958393221877601 0.4823391470027847 0.6498975586877638\n",
      "threshold 0.3011658715267638 | tn 395132 fp 104 fn 29894 tp 24690 p 0.9958054367992256 r 0.45233035321705994 f 0.622086724281287\n",
      "0.9958054367992256 0.45233035321705994 0.622086724281287\n",
      "threshold 0.3051789383191705 | tn 395136 fp 100 fn 41290 tp 13294 p 0.992533970434523 r 0.24355122380184668 f 0.3911265409397157\n",
      "0.992533970434523 0.24355122380184668 0.3911265409397157\n",
      "threshold 0.30919200511157724 | tn 395140 fp 96 fn 49504 tp 5080 p 0.98145285935085 r 0.0930675655869852 f 0.17001338688085676\n",
      "0.98145285935085 0.0930675655869852 0.17001338688085676\n",
      "threshold 0.31320507190398394 | tn 395146 fp 90 fn 50223 tp 4361 p 0.9797798247584812 r 0.07989520738678 f 0.1477428644024731\n",
      "0.9797798247584812 0.07989520738678 0.1477428644024731\n",
      "threshold 0.31721813869639065 | tn 395151 fp 85 fn 50851 tp 3733 p 0.9777370350969093 r 0.06839000439689286 f 0.1278380877367213\n",
      "0.9777370350969093 0.06839000439689286 0.1278380877367213\n",
      "threshold 0.3212312054887974 | tn 395156 fp 80 fn 51598 tp 2986 p 0.9739073711676451 r 0.05470467536274366 f 0.10359063313096271\n",
      "0.9739073711676451 0.05470467536274366 0.10359063313096271\n",
      "threshold 0.3252442722812041 | tn 395161 fp 75 fn 52436 tp 2148 p 0.9662618083670715 r 0.03935219111827642 f 0.07562448289823437\n",
      "0.9662618083670715 0.03935219111827642 0.07562448289823437\n",
      "threshold 0.3292573390736108 | tn 395166 fp 70 fn 53682 tp 902 p 0.9279835390946503 r 0.016524989007767846 f 0.0324717402260782\n",
      "0.9279835390946503 0.016524989007767846 0.0324717402260782\n",
      "threshold 0.3332704058660176 | tn 395171 fp 65 fn 53758 tp 826 p 0.9270482603815937 r 0.01513263960134838 f 0.029779179810725552\n",
      "0.9270482603815937 0.01513263960134838 0.029779179810725552\n",
      "threshold 0.3372834726584243 | tn 395176 fp 60 fn 53833 tp 751 p 0.9260172626387176 r 0.013758610581855488 f 0.02711436050185035\n",
      "0.9260172626387176 0.013758610581855488 0.02711436050185035\n",
      "threshold 0.34129653945083105 | tn 395188 fp 48 fn 53918 tp 666 p 0.9327731092436975 r 0.012201377693096878 f 0.02408767044016058\n",
      "0.9327731092436975 0.012201377693096878 0.02408767044016058\n",
      "threshold 0.34530960624323775 | tn 395197 fp 39 fn 54129 tp 455 p 0.9210526315789473 r 0.00833577605159021 f 0.016522023312393334\n",
      "0.9210526315789473 0.00833577605159021 0.016522023312393334\n",
      "threshold 0.34932267303564446 | tn 395204 fp 32 fn 54197 tp 387 p 0.9236276849642004 r 0.007089989740583321 f 0.014071959711288475\n",
      "0.9236276849642004 0.007089989740583321 0.014071959711288475\n",
      "threshold 0.3533357398280512 | tn 395214 fp 22 fn 54314 tp 270 p 0.9246575342465754 r 0.00494650447017441 f 0.009840367373715285\n",
      "0.9246575342465754 0.00494650447017441 0.009840367373715285\n",
      "threshold 0.3573488066204579 | tn 395236 fp 0 fn 54330 tp 254 p 1.0 r 0.0046533782793492596 f 0.009263649294284984\n",
      "1.0 0.0046533782793492596 0.009263649294284984\n",
      "threshold 0.36136187341286463 | tn 395236 fp 0 fn 54343 tp 241 p 1.0 r 0.004415213249303825 f 0.008791609667122663\n",
      "1.0 0.004415213249303825 0.008791609667122663\n",
      "threshold 0.3653749402052714 | tn 395236 fp 0 fn 54355 tp 229 p 1.0 r 0.004195368606184963 f 0.00835568204622991\n",
      "1.0 0.004195368606184963 0.00835568204622991\n",
      "threshold 0.3693880069976781 | tn 395236 fp 0 fn 54370 tp 214 p 1.0 r 0.003920562802286384 f 0.007810504032993903\n",
      "1.0 0.003920562802286384 0.007810504032993903\n",
      "threshold 0.3734010737900848 | tn 395236 fp 0 fn 54396 tp 188 p 1.0 r 0.0034442327421955153 f 0.006864821441612503\n",
      "1.0 0.0034442327421955153 0.006864821441612503\n",
      "threshold 0.37741414058249156 | tn 395236 fp 0 fn 54424 tp 160 p 1.0 r 0.0029312619082515023 f 0.005845389449072045\n",
      "1.0 0.0029312619082515023 0.005845389449072045\n",
      "threshold 0.38142720737489827 | tn 395236 fp 0 fn 54452 tp 132 p 1.0 r 0.0024182910743074893 f 0.004824914101908034\n",
      "1.0 0.0024182910743074893 0.004824914101908034\n",
      "threshold 0.385440274167305 | tn 395236 fp 0 fn 54481 tp 103 p 1.0 r 0.0018869998534369046 f 0.0037668915830087585\n",
      "1.0 0.0018869998534369046 0.0037668915830087585\n",
      "threshold 0.38945334095971174 | tn 395236 fp 0 fn 54515 tp 69 p 1.0 r 0.0012641066979334605 f 0.0025250214992772585\n",
      "1.0 0.0012641066979334605 0.0025250214992772585\n",
      "threshold 0.39346640775211844 | tn 395236 fp 0 fn 54535 tp 49 p 1.0 r 0.0008976989594020226 f 0.0017937876375084655\n",
      "1.0 0.0008976989594020226 0.0017937876375084655\n",
      "threshold 0.39747947454452515 | tn 395236 fp 0 fn 54584 tp 0 p 1.0 r 0.0 f 0.0\n",
      "1.0 0.0 0.0\n"
     ]
    }
   ],
   "source": [
    "precisions = []\n",
    "recalls = []\n",
    "f1s = []\n",
    "\n",
    "for threshold in thresholds:\n",
    "    anomaly_prediction = (anomaly_scores > threshold).astype(int)\n",
    "    target_y = test_y[args.window_size-1:]\n",
    "\n",
    "\n",
    "    tn, fp, fn, tp = confusion_matrix(target_y, anomaly_prediction).ravel()\n",
    "\n",
    "    p, r, f = precision_score(target_y, anomaly_prediction, zero_division = 1), recall_score(target_y, anomaly_prediction, zero_division = 1), f1_score(target_y, anomaly_prediction, zero_division = 1)\n",
    "    precisions.append(p)\n",
    "    recalls.append(r)\n",
    "    f1s.append(f)\n",
    "\n",
    "    print(f\"threshold {threshold} | tn {tn} fp {fp} fn {fn} tp {tp} p {p} r {r} f {f}\")\n",
    "    print(p, r, f)\n"
   ],
   "metadata": {
    "collapsed": false,
    "pycharm": {
     "name": "#%%\n"
    }
   }
  },
  {
   "cell_type": "markdown",
   "source": [],
   "metadata": {
    "collapsed": false
   }
  },
  {
   "cell_type": "code",
   "execution_count": 64,
   "outputs": [
    {
     "data": {
      "text/plain": "<Figure size 432x288 with 1 Axes>",
      "image/png": "[encoded data removed]"
     },
     "metadata": {
      "needs_background": "light"
     },
     "output_type": "display_data"
    }
   ],
   "source": [
    "plt.plot(thresholds, precisions, label = \"precision\")\n",
    "plt.plot(thresholds, recalls, label = \"recall\")\n",
    "plt.plot(thresholds, f1s, label = \"f1\")\n",
    "plt.legend()\n",
    "plt.show()"
   ],
   "metadata": {
    "collapsed": false,
    "pycharm": {
     "name": "#%%\n"
    }
   }
  },
  {
   "cell_type": "code",
   "execution_count": 65,
   "outputs": [],
   "source": [
    "threshold_idx = np.argmax(f1s)"
   ],
   "metadata": {
    "collapsed": false,
    "pycharm": {
     "name": "#%%\n"
    }
   }
  },
  {
   "cell_type": "code",
   "execution_count": 66,
   "outputs": [],
   "source": [
    "best_threshold = thresholds[threshold_idx]"
   ],
   "metadata": {
    "collapsed": false,
    "pycharm": {
     "name": "#%%\n"
    }
   }
  },
  {
   "cell_type": "code",
   "execution_count": 67,
   "outputs": [
    {
     "data": {
      "text/plain": "0.26906133718750996"
     },
     "execution_count": 67,
     "metadata": {},
     "output_type": "execute_result"
    }
   ],
   "source": [
    "best_threshold"
   ],
   "metadata": {
    "collapsed": false,
    "pycharm": {
     "name": "#%%\n"
    }
   }
  },
  {
   "cell_type": "code",
   "execution_count": 68,
   "outputs": [
    {
     "data": {
      "text/plain": "<Figure size 1152x432 with 1 Axes>",
      "image/png": "[encoded data removed]"
     },
     "metadata": {
      "needs_background": "light"
     },
     "output_type": "display_data"
    }
   ],
   "source": [
    "fig = plt.figure(figsize=(16, 6))\n",
    "ax=fig.add_subplot()\n",
    "ax.axhline(y = best_threshold, color = \"r\")\n",
    "ax.plot(x, y)\n",
    "plt.rcParams['axes.facecolor']='white'\n",
    "for s, e in intervals:\n",
    "    ax.axvspan(s, e, alpha=0.2, color='orange')"
   ],
   "metadata": {
    "collapsed": false,
    "pycharm": {
     "name": "#%%\n"
    }
   }
  },
  {
   "cell_type": "code",
   "execution_count": 69,
   "outputs": [
    {
     "data": {
      "text/plain": "(0.9739767942076404, 0.5890004396892863, 0.7340769239551105)"
     },
     "execution_count": 69,
     "metadata": {},
     "output_type": "execute_result"
    }
   ],
   "source": [
    "anomaly_prediction = (anomaly_scores > best_threshold).astype(int)\n",
    "target_y = test_y[args.window_size-1:]\n",
    "\n",
    "p, r, f = precision_score(target_y, anomaly_prediction), recall_score(target_y, anomaly_prediction),f1_score(target_y, anomaly_prediction)\n",
    "p, r, f"
   ],
   "metadata": {
    "collapsed": false,
    "pycharm": {
     "name": "#%%\n"
    }
   }
  },
  {
   "cell_type": "code",
   "execution_count": 70,
   "outputs": [
    {
     "name": "stdout",
     "output_type": "stream",
     "text": [
      "[[394377    859]\n",
      " [ 22434  32150]]\n"
     ]
    }
   ],
   "source": [
    "print(confusion_matrix(target_y, anomaly_prediction))"
   ],
   "metadata": {
    "collapsed": false,
    "pycharm": {
     "name": "#%%\n"
    }
   }
  },
  {
   "cell_type": "code",
   "execution_count": 71,
   "outputs": [
    {
     "data": {
      "text/plain": "<AxesSubplot:>"
     },
     "execution_count": 71,
     "metadata": {},
     "output_type": "execute_result"
    },
    {
     "data": {
      "text/plain": "<Figure size 432x288 with 2 Axes>",
      "image/png": "[encoded data removed]"
     },
     "metadata": {
      "needs_background": "light"
     },
     "output_type": "display_data"
    }
   ],
   "source": [
    "sns.heatmap(confusion_matrix(target_y, anomaly_prediction), annot = True, fmt = \"d\")"
   ],
   "metadata": {
    "collapsed": false,
    "pycharm": {
     "name": "#%%\n"
    }
   }
  },
  {
   "cell_type": "code",
   "execution_count": 36,
   "outputs": [],
   "source": [],
   "metadata": {
    "collapsed": false,
    "pycharm": {
     "name": "#%%\n"
    }
   }
  }
 ],
 "metadata": {
  "kernelspec": {
   "display_name": "Python 3",
   "language": "python",
   "name": "python3"
  },
  "language_info": {
   "codemirror_mode": {
    "name": "ipython",
    "version": 2
   },
   "file_extension": ".py",
   "mimetype": "text/x-python",
   "name": "python",
   "nbconvert_exporter": "python",
   "pygments_lexer": "ipython2",
   "version": "2.7.6"
  }
 },
 "nbformat": 4,
 "nbformat_minor": 0
}